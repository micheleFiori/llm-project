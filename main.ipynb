{
 "cells": [
  {
   "cell_type": "markdown",
   "id": "e23b209ad1e8d4ce",
   "metadata": {
    "collapsed": false
   },
   "source": [
    "# Setup"
   ]
  },
  {
   "cell_type": "code",
   "execution_count": 1,
   "id": "initial_id",
   "metadata": {
    "collapsed": true,
    "ExecuteTime": {
     "end_time": "2023-10-25T12:46:08.928549600Z",
     "start_time": "2023-10-25T12:45:57.301109400Z"
    }
   },
   "outputs": [],
   "source": [
    "import pickle as pkl\n",
    "from context_descriptor import ContextDescriptor\n",
    "from prompt_generator import PromptGenerator\n",
    "from model_request_handler import ModelRequestHandler\n",
    "import numpy as np\n",
    "from examples_manager import Examples_manager\n",
    "from sklearn.metrics import classification_report"
   ]
  },
  {
   "cell_type": "code",
   "execution_count": 2,
   "id": "c99adbbe10c421b",
   "metadata": {
    "collapsed": false,
    "ExecuteTime": {
     "end_time": "2023-10-25T12:46:08.959552200Z",
     "start_time": "2023-10-25T12:46:08.932549400Z"
    }
   },
   "outputs": [],
   "source": [
    "DATASET = \"DOMINO\"\n",
    "if DATASET not in [\"DOMINO\", \"EXTRASENSORY\"]:\n",
    "    raise ValueError(\"DATASET name must be 'DOMINO' or 'EXTRASENSORY'\")"
   ]
  },
  {
   "cell_type": "code",
   "execution_count": 3,
   "id": "fa24b24792f4e1d6",
   "metadata": {
    "collapsed": false,
    "ExecuteTime": {
     "end_time": "2023-10-25T12:46:09.016545600Z",
     "start_time": "2023-10-25T12:46:08.952554200Z"
    }
   },
   "outputs": [],
   "source": [
    "extrasensory_classes = ['BICICLYNG', 'LAYING_DOWN', 'MOVING_BY_CAR', 'ON_TRANSPORT', 'SITTING', 'STANDING', 'WALKING']\n",
    "domino_classes = ['BRUSHING_TEETH', 'CYCLING', 'ELEVATOR_DOWN', 'ELEVATOR_UP', 'LYING', 'MOVING_BY_CAR', 'RUNNING', 'SITTING', 'SITTING_ON_TRANSPORT', 'STAIRS_DOWN', 'STAIRS_UP', 'STANDING', 'STANDING_ON_TRANSPORT', 'WALKING']"
   ]
  },
  {
   "cell_type": "code",
   "execution_count": 4,
   "id": "773d17aa4c791892",
   "metadata": {
    "collapsed": false,
    "ExecuteTime": {
     "end_time": "2023-10-25T12:46:09.017549400Z",
     "start_time": "2023-10-25T12:46:08.972557300Z"
    }
   },
   "outputs": [],
   "source": [
    "if DATASET == \"DOMINO\":\n",
    "    CLASSES = domino_classes\n",
    "elif DATASET == \"EXTRASENSORY\":\n",
    "    CLASSES = extrasensory_classes\n",
    "else:\n",
    "    CLASSES = None\n",
    "    raise ValueError(\"DATASET name must be 'DOMINO' or 'EXTRASENSORY'\")"
   ]
  },
  {
   "cell_type": "markdown",
   "id": "65b13ddfd26147de",
   "metadata": {
    "collapsed": false
   },
   "source": [
    "# Load dataset"
   ]
  },
  {
   "cell_type": "code",
   "execution_count": 16,
   "id": "5b0df3761f738f38",
   "metadata": {
    "collapsed": false,
    "ExecuteTime": {
     "end_time": "2023-10-25T12:51:54.557109500Z",
     "start_time": "2023-10-25T12:51:54.504468600Z"
    }
   },
   "outputs": [],
   "source": [
    "if DATASET == \"DOMINO\":\n",
    "    with open(\"datasets/domino/domino_unique_contexts.pkl\", \"rb\") as file:\n",
    "        unique_contexts = pkl.load(file)\n",
    "    with open(\"datasets/domino/domino_unique_contexts_ontology_consistencies.pkl\", \"rb\") as file:\n",
    "        unique_contexts_ontology_consistencies = pkl.load(file)\n",
    "    with open(\"datasets/domino/domino_unique_contexts_labels.pkl\", \"rb\") as file:\n",
    "        unique_contexts_labels = pkl.load(file)\n",
    "\n",
    "elif DATASET == \"EXTRASENSORY\":\n",
    "    with open(\"datasets/extrasensory/extrasensory_unique_contexts.pkl\", \"rb\") as file:\n",
    "        unique_contexts = pkl.load(file)\n",
    "    with open(\"datasets/extrasensory/extrasensory_unique_contexts_labels.pkl\", \"rb\") as file:\n",
    "        unique_contexts_labels = pkl.load(file)\n",
    "    with open(\"datasets/extrasensory/extrasensory_unique_contexts_ontology_consistencies.pkl\", \"rb\") as file:\n",
    "        unique_contexts_ontology_consistencies = pkl.load(file)\n",
    "        \n",
    "else:\n",
    "    raise ValueError(\"DATASET name must be 'DOMINO' or 'EXTRASENSORY'\")"
   ]
  },
  {
   "cell_type": "markdown",
   "id": "d1ecfded74ee4b8e",
   "metadata": {
    "collapsed": false
   },
   "source": [
    "# Define system message"
   ]
  },
  {
   "cell_type": "code",
   "execution_count": 17,
   "id": "404b020aea980bb7",
   "metadata": {
    "collapsed": false,
    "ExecuteTime": {
     "end_time": "2023-10-25T12:51:54.838107900Z",
     "start_time": "2023-10-25T12:51:54.819108100Z"
    }
   },
   "outputs": [],
   "source": [
    "system_message = f'''\n",
    "    You are a domain expert in charge of checking which human activities are suitable with respect to the current surrounding context of a user. \n",
    "    You will receive as input a description of the surrounding context of the user. You have to determine which are the activities that are suitable in the given context. \n",
    "    This is the list of the possible user activities that you have to consider: {', '.join(CLASSES)}\n",
    "\n",
    "    Accomplish the task by following the steps below:\n",
    "\n",
    "    Step 1: Analyze the context.\n",
    "    Step 2: Determine which activities are likely in the given context, by analyzing each activity. Apply the open-world assumption: anything that is not explicit in the surrounding context of the user may be possible. Do not exclude activities for which you cannot determine their likelihood or the ones for which there are no specific information about objects and vehicles that the user is using.\n",
    "    Step 3: Provide the result in the form of a list.'''"
   ]
  },
  {
   "cell_type": "code",
   "execution_count": 18,
   "id": "7a0dba073a55bfd2",
   "metadata": {
    "collapsed": false,
    "ExecuteTime": {
     "end_time": "2023-10-25T12:51:55.105107Z",
     "start_time": "2023-10-25T12:51:55.034109500Z"
    }
   },
   "outputs": [],
   "source": [
    "#Think about the \"answer and step by step analyze each activity.\n",
    "#system_message += \"In the following i'll give you some examples of contexts that you can receive and the answer \" \\\n",
    "#                  \"that i would expect: \""
   ]
  },
  {
   "cell_type": "markdown",
   "id": "99e4c3d280c439ea",
   "metadata": {
    "collapsed": false
   },
   "source": [
    "# Initialize helper classes"
   ]
  },
  {
   "cell_type": "code",
   "execution_count": 19,
   "id": "b47b2049f579e102",
   "metadata": {
    "collapsed": false,
    "ExecuteTime": {
     "end_time": "2023-10-25T12:52:20.060152900Z",
     "start_time": "2023-10-25T12:51:55.389097200Z"
    }
   },
   "outputs": [
    {
     "name": "stderr",
     "output_type": "stream",
     "text": [
      "Exception in thread Thread-22:\n",
      "Traceback (most recent call last):\n",
      "  File \"C:\\Users\\fiori\\PycharmProjects\\pythonProject1\\venv\\lib\\site-packages\\curl_cffi\\requests\\session.py\", line 563, in request\n",
      "Exception in thread Thread-23:\n",
      "Traceback (most recent call last):\n",
      "  File \"C:\\Users\\fiori\\PycharmProjects\\pythonProject1\\venv\\lib\\site-packages\\curl_cffi\\requests\\session.py\", line 563, in request\n",
      "    c.perform()\n",
      "  File \"C:\\Users\\fiori\\PycharmProjects\\pythonProject1\\venv\\lib\\site-packages\\curl_cffi\\curl.py\", line 251, in perform\n",
      "    c.perform()\n",
      "  File \"C:\\Users\\fiori\\PycharmProjects\\pythonProject1\\venv\\lib\\site-packages\\curl_cffi\\curl.py\", line 251, in perform\n",
      "Exception in thread Thread-28:\n",
      "Traceback (most recent call last):\n",
      "  File \"C:\\Users\\fiori\\PycharmProjects\\pythonProject1\\venv\\lib\\site-packages\\curl_cffi\\requests\\session.py\", line 563, in request\n",
      "    self._check_error(ret, action=\"perform\")\n",
      "  File \"C:\\Users\\fiori\\PycharmProjects\\pythonProject1\\venv\\lib\\site-packages\\curl_cffi\\curl.py\", line 106, in _check_error\n",
      "    self._check_error(ret, action=\"perform\")\n",
      "  File \"C:\\Users\\fiori\\PycharmProjects\\pythonProject1\\venv\\lib\\site-packages\\curl_cffi\\curl.py\", line 106, in _check_error\n",
      "Exception in thread Thread-32:\n",
      "Traceback (most recent call last):\n",
      "  File \"C:\\Users\\fiori\\PycharmProjects\\pythonProject1\\venv\\lib\\site-packages\\curl_cffi\\requests\\session.py\", line 563, in request\n",
      "    raise error\n",
      "curl_cffi.curl.CurlError: Failed to perform, ErrCode: 28, Reason: 'Failed to connect to sdk.vercel.ai port 443 after 22507 ms: Timed out'. This may be a libcurl error, See https://curl.se/libcurl/c/libcurl-errors.html first for more details.\n",
      "\n",
      "The above exception was the direct cause of the following exception:\n",
      "\n",
      "Traceback (most recent call last):\n",
      "  File \"C:\\Users\\fiori\\AppData\\Local\\Programs\\Python\\Python39\\lib\\threading.py\", line 980, in _bootstrap_inner\n",
      "    raise error\n",
      "curl_cffi.curl.CurlError: Failed to perform, ErrCode: 28, Reason: 'Failed to connect to sdk.vercel.ai port 443 after 22508 ms: Timed out'. This may be a libcurl error, See https://curl.se/libcurl/c/libcurl-errors.html first for more details.\n",
      "\n",
      "The above exception was the direct cause of the following exception:\n",
      "\n",
      "Traceback (most recent call last):\n",
      "  File \"C:\\Users\\fiori\\AppData\\Local\\Programs\\Python\\Python39\\lib\\threading.py\", line 980, in _bootstrap_inner\n",
      "Exception in thread Thread-26:\n",
      "Traceback (most recent call last):\n",
      "  File \"C:\\Users\\fiori\\PycharmProjects\\pythonProject1\\venv\\lib\\site-packages\\curl_cffi\\requests\\session.py\", line 563, in request\n",
      "Exception in thread Thread-30:\n",
      "Traceback (most recent call last):\n",
      "  File \"C:\\Users\\fiori\\PycharmProjects\\pythonProject1\\venv\\lib\\site-packages\\curl_cffi\\requests\\session.py\", line 563, in request\n",
      "    c.perform()\n",
      "  File \"C:\\Users\\fiori\\PycharmProjects\\pythonProject1\\venv\\lib\\site-packages\\curl_cffi\\curl.py\", line 251, in perform\n",
      "    c.perform()\n",
      "  File \"C:\\Users\\fiori\\PycharmProjects\\pythonProject1\\venv\\lib\\site-packages\\curl_cffi\\curl.py\", line 251, in perform\n",
      "    self.run()\n",
      "  File \"C:\\Users\\fiori\\AppData\\Local\\Programs\\Python\\Python39\\lib\\threading.py\", line 917, in run\n",
      "    self.run()\n",
      "  File \"C:\\Users\\fiori\\AppData\\Local\\Programs\\Python\\Python39\\lib\\threading.py\", line 917, in run\n",
      "    c.perform()\n",
      "  File \"C:\\Users\\fiori\\PycharmProjects\\pythonProject1\\venv\\lib\\site-packages\\curl_cffi\\curl.py\", line 251, in perform\n",
      "    c.perform()\n",
      "  File \"C:\\Users\\fiori\\PycharmProjects\\pythonProject1\\venv\\lib\\site-packages\\curl_cffi\\curl.py\", line 251, in perform\n",
      "    self._check_error(ret, action=\"perform\")\n",
      "  File \"C:\\Users\\fiori\\PycharmProjects\\pythonProject1\\venv\\lib\\site-packages\\curl_cffi\\curl.py\", line 106, in _check_error\n",
      "    self._target(*self._args, **self._kwargs)\n",
      "  File \"C:\\Users\\fiori\\PycharmProjects\\pythonProject1\\venv\\lib\\site-packages\\vercel_ai.py\", line 65, in download_thread\n",
      "    self._check_error(ret, action=\"perform\")\n",
      "  File \"C:\\Users\\fiori\\PycharmProjects\\pythonProject1\\venv\\lib\\site-packages\\curl_cffi\\curl.py\", line 106, in _check_error\n",
      "    self._target(*self._args, **self._kwargs)\n",
      "  File \"C:\\Users\\fiori\\PycharmProjects\\pythonProject1\\venv\\lib\\site-packages\\vercel_ai.py\", line 65, in download_thread\n",
      "    raise error\n",
      "curl_cffi.curl.CurlError: Failed to perform, ErrCode: 28, Reason: 'Failed to connect to sdk.vercel.ai port 443 after 22514 ms: Timed out'. This may be a libcurl error, See https://curl.se/libcurl/c/libcurl-errors.html first for more details.\n",
      "\n",
      "The above exception was the direct cause of the following exception:\n",
      "\n",
      "Traceback (most recent call last):\n",
      "  File \"C:\\Users\\fiori\\AppData\\Local\\Programs\\Python\\Python39\\lib\\threading.py\", line 980, in _bootstrap_inner\n",
      "    self._check_error(ret, action=\"perform\")\n",
      "  File \"C:\\Users\\fiori\\PycharmProjects\\pythonProject1\\venv\\lib\\site-packages\\curl_cffi\\curl.py\", line 106, in _check_error\n",
      "    self._check_error(ret, action=\"perform\")\n",
      "  File \"C:\\Users\\fiori\\PycharmProjects\\pythonProject1\\venv\\lib\\site-packages\\curl_cffi\\curl.py\", line 106, in _check_error\n",
      "    raise error\n",
      "curl_cffi.curl.CurlError: Failed to perform, ErrCode: 28, Reason: 'Failed to connect to sdk.vercel.ai port 443 after 22503 ms: Timed out'. This may be a libcurl error, See https://curl.se/libcurl/c/libcurl-errors.html first for more details.\n",
      "\n",
      "The above exception was the direct cause of the following exception:\n",
      "\n",
      "Traceback (most recent call last):\n",
      "  File \"C:\\Users\\fiori\\AppData\\Local\\Programs\\Python\\Python39\\lib\\threading.py\", line 980, in _bootstrap_inner\n",
      "    script = self.session.get(script_url).text\n",
      "  File \"C:\\Users\\fiori\\PycharmProjects\\pythonProject1\\venv\\lib\\site-packages\\curl_cffi\\requests\\session.py\", line 567, in request\n",
      "    script = self.session.get(script_url).text\n",
      "  File \"C:\\Users\\fiori\\PycharmProjects\\pythonProject1\\venv\\lib\\site-packages\\curl_cffi\\requests\\session.py\", line 567, in request\n",
      "    raise error\n",
      "curl_cffi.curl.CurlError: Failed to perform, ErrCode: 28, Reason: 'Failed to connect to sdk.vercel.ai port 443 after 22516 ms: Timed out'. This may be a libcurl error, See https://curl.se/libcurl/c/libcurl-errors.html first for more details.\n",
      "\n",
      "The above exception was the direct cause of the following exception:\n",
      "\n",
      "Traceback (most recent call last):\n",
      "  File \"C:\\Users\\fiori\\AppData\\Local\\Programs\\Python\\Python39\\lib\\threading.py\", line 980, in _bootstrap_inner\n",
      "    self.run()\n",
      "  File \"C:\\Users\\fiori\\AppData\\Local\\Programs\\Python\\Python39\\lib\\threading.py\", line 917, in run\n",
      "    raise error\n",
      "curl_cffi.curl.CurlError: Failed to perform, ErrCode: 28, Reason: 'Failed to connect to sdk.vercel.ai port 443 after 22506 ms: Timed out'. This may be a libcurl error, See https://curl.se/libcurl/c/libcurl-errors.html first for more details.\n",
      "\n",
      "The above exception was the direct cause of the following exception:\n",
      "\n",
      "Traceback (most recent call last):\n",
      "  File \"C:\\Users\\fiori\\AppData\\Local\\Programs\\Python\\Python39\\lib\\threading.py\", line 980, in _bootstrap_inner\n",
      "    self.run()\n",
      "  File \"C:\\Users\\fiori\\AppData\\Local\\Programs\\Python\\Python39\\lib\\threading.py\", line 917, in run\n",
      "    raise RequestsError(str(e), e.code, rsp) from e\n",
      "curl_cffi.requests.errors.RequestsError: Failed to perform, ErrCode: 28, Reason: 'Failed to connect to sdk.vercel.ai port 443 after 22507 ms: Timed out'. This may be a libcurl error, See https://curl.se/libcurl/c/libcurl-errors.html first for more details.\n",
      "    self.run()\n",
      "  File \"C:\\Users\\fiori\\AppData\\Local\\Programs\\Python\\Python39\\lib\\threading.py\", line 917, in run\n",
      "Exception in thread Thread-36:\n",
      "Traceback (most recent call last):\n",
      "  File \"C:\\Users\\fiori\\PycharmProjects\\pythonProject1\\venv\\lib\\site-packages\\curl_cffi\\requests\\session.py\", line 563, in request\n",
      "    self._target(*self._args, **self._kwargs)\n",
      "  File \"C:\\Users\\fiori\\PycharmProjects\\pythonProject1\\venv\\lib\\site-packages\\vercel_ai.py\", line 65, in download_thread\n",
      "        raise RequestsError(str(e), e.code, rsp) from e\n",
      "curl_cffi.requests.errors.RequestsError: Failed to perform, ErrCode: 28, Reason: 'Failed to connect to sdk.vercel.ai port 443 after 22508 ms: Timed out'. This may be a libcurl error, See https://curl.se/libcurl/c/libcurl-errors.html first for more details.\n",
      "    script = self.session.get(script_url).text\n",
      "  File \"C:\\Users\\fiori\\PycharmProjects\\pythonProject1\\venv\\lib\\site-packages\\curl_cffi\\requests\\session.py\", line 567, in request\n",
      "self._target(*self._args, **self._kwargs)\n",
      "  File \"C:\\Users\\fiori\\PycharmProjects\\pythonProject1\\venv\\lib\\site-packages\\vercel_ai.py\", line 65, in download_thread\n",
      "    self._target(*self._args, **self._kwargs)\n",
      "  File \"C:\\Users\\fiori\\PycharmProjects\\pythonProject1\\venv\\lib\\site-packages\\vercel_ai.py\", line 65, in download_thread\n",
      "    c.perform()\n",
      "  File \"C:\\Users\\fiori\\PycharmProjects\\pythonProject1\\venv\\lib\\site-packages\\curl_cffi\\curl.py\", line 251, in perform\n",
      "    self.run()\n",
      "  File \"C:\\Users\\fiori\\AppData\\Local\\Programs\\Python\\Python39\\lib\\threading.py\", line 917, in run\n",
      "    raise RequestsError(str(e), e.code, rsp) from e\n",
      "curl_cffi.requests.errors.RequestsError: Failed to perform, ErrCode: 28, Reason: 'Failed to connect to sdk.vercel.ai port 443 after 22514 ms: Timed out'. This may be a libcurl error, See https://curl.se/libcurl/c/libcurl-errors.html first for more details.\n",
      "        script = self.session.get(script_url).text\n",
      "  File \"C:\\Users\\fiori\\PycharmProjects\\pythonProject1\\venv\\lib\\site-packages\\curl_cffi\\requests\\session.py\", line 567, in request\n",
      "self._check_error(ret, action=\"perform\")\n",
      "  File \"C:\\Users\\fiori\\PycharmProjects\\pythonProject1\\venv\\lib\\site-packages\\curl_cffi\\curl.py\", line 106, in _check_error\n",
      "    script = self.session.get(script_url).text\n",
      "  File \"C:\\Users\\fiori\\PycharmProjects\\pythonProject1\\venv\\lib\\site-packages\\curl_cffi\\requests\\session.py\", line 567, in request\n",
      "        raise RequestsError(str(e), e.code, rsp) from e\n",
      "curl_cffi.requests.errors.RequestsError: Failed to perform, ErrCode: 28, Reason: 'Failed to connect to sdk.vercel.ai port 443 after 22516 ms: Timed out'. This may be a libcurl error, See https://curl.se/libcurl/c/libcurl-errors.html first for more details.\n",
      "self._target(*self._args, **self._kwargs)\n",
      "  File \"C:\\Users\\fiori\\PycharmProjects\\pythonProject1\\venv\\lib\\site-packages\\vercel_ai.py\", line 65, in download_thread\n",
      "    script = self.session.get(script_url).text\n",
      "  File \"C:\\Users\\fiori\\PycharmProjects\\pythonProject1\\venv\\lib\\site-packages\\curl_cffi\\requests\\session.py\", line 567, in request\n",
      "    raise RequestsError(str(e), e.code, rsp) from e\n",
      "curl_cffi.requests.errors.RequestsError: Failed to perform, ErrCode: 28, Reason: 'Failed to connect to sdk.vercel.ai port 443 after 22503 ms: Timed out'. This may be a libcurl error, See https://curl.se/libcurl/c/libcurl-errors.html first for more details.\n",
      "    raise error\n",
      "curl_cffi.curl.CurlError: Failed to perform, ErrCode: 28, Reason: 'Failed to connect to sdk.vercel.ai port 443 after 22512 ms: Timed out'. This may be a libcurl error, See https://curl.se/libcurl/c/libcurl-errors.html first for more details.\n",
      "\n",
      "The above exception was the direct cause of the following exception:\n",
      "\n",
      "Traceback (most recent call last):\n",
      "  File \"C:\\Users\\fiori\\AppData\\Local\\Programs\\Python\\Python39\\lib\\threading.py\", line 980, in _bootstrap_inner\n",
      "    raise RequestsError(str(e), e.code, rsp) from e\n",
      "curl_cffi.requests.errors.RequestsError: Failed to perform, ErrCode: 28, Reason: 'Failed to connect to sdk.vercel.ai port 443 after 22506 ms: Timed out'. This may be a libcurl error, See https://curl.se/libcurl/c/libcurl-errors.html first for more details.\n",
      "    self.run()\n",
      "  File \"C:\\Users\\fiori\\AppData\\Local\\Programs\\Python\\Python39\\lib\\threading.py\", line 917, in run\n",
      "    self._target(*self._args, **self._kwargs)\n",
      "  File \"C:\\Users\\fiori\\PycharmProjects\\pythonProject1\\venv\\lib\\site-packages\\vercel_ai.py\", line 65, in download_thread\n",
      "    script = self.session.get(script_url).text\n",
      "  File \"C:\\Users\\fiori\\PycharmProjects\\pythonProject1\\venv\\lib\\site-packages\\curl_cffi\\requests\\session.py\", line 567, in request\n",
      "    raise RequestsError(str(e), e.code, rsp) from e\n",
      "curl_cffi.requests.errors.RequestsError: Failed to perform, ErrCode: 28, Reason: 'Failed to connect to sdk.vercel.ai port 443 after 22512 ms: Timed out'. This may be a libcurl error, See https://curl.se/libcurl/c/libcurl-errors.html first for more details.\n"
     ]
    }
   ],
   "source": [
    "contest_descriptor = ContextDescriptor()\n",
    "prompt_generator = PromptGenerator(system_message)\n",
    "request_handler = ModelRequestHandler()"
   ]
  },
  {
   "cell_type": "markdown",
   "id": "7b53742f1deddf6b",
   "metadata": {
    "collapsed": false
   },
   "source": [
    "# Initialize example manager"
   ]
  },
  {
   "cell_type": "code",
   "execution_count": 20,
   "id": "abb45f3dbdbb037a",
   "metadata": {
    "collapsed": false,
    "ExecuteTime": {
     "end_time": "2023-10-25T12:52:20.381108800Z",
     "start_time": "2023-10-25T12:52:19.991390700Z"
    }
   },
   "outputs": [],
   "source": [
    "if DATASET == \"DOMINO\":\n",
    "    example_manager = Examples_manager(\"domino_examples.csv\")\n",
    "elif DATASET == \"EXTRASENSORY\":\n",
    "    example_manager = Examples_manager(\"extrasensory_examples.csv\")\n",
    "else:\n",
    "    example_manager = None\n",
    "    raise ValueError(\"DATASET name must be 'DOMINO' or 'EXTRASENSORY'\")"
   ]
  },
  {
   "cell_type": "markdown",
   "id": "9685c917be20d219",
   "metadata": {
    "collapsed": false
   },
   "source": [
    "# Choose context desciption function"
   ]
  },
  {
   "cell_type": "code",
   "execution_count": 21,
   "id": "7535f1e5c1376695",
   "metadata": {
    "collapsed": false,
    "ExecuteTime": {
     "end_time": "2023-10-25T12:52:20.416111600Z",
     "start_time": "2023-10-25T12:52:20.384107800Z"
    }
   },
   "outputs": [],
   "source": [
    "if DATASET == \"DOMINO\":\n",
    "    create_context_description = lambda context_vector: contest_descriptor.create_domino_context_description(context_vector)\n",
    "elif DATASET == \"EXTRASENSORY\":\n",
    "    create_context_description = lambda context_vector: contest_descriptor.create_extrasensory_context_description(context_vector)\n",
    "else:\n",
    "    create_context_description = None\n",
    "    raise ValueError(\"DATASET name must be 'DOMINO' or 'EXTRASENSORY'\")"
   ]
  },
  {
   "cell_type": "markdown",
   "id": "572581ba85558ab7",
   "metadata": {
    "collapsed": false
   },
   "source": [
    "# Make the api calls"
   ]
  },
  {
   "cell_type": "code",
   "execution_count": 22,
   "id": "f7fd20f31ef70dc3",
   "metadata": {
    "collapsed": false,
    "ExecuteTime": {
     "end_time": "2023-10-25T12:52:49.779730500Z",
     "start_time": "2023-10-25T12:52:20.403107100Z"
    }
   },
   "outputs": [
    {
     "name": "stdout",
     "output_type": "stream",
     "text": [
      "[1 0 0 0 0 0 0 0 0 0 0 0 1 0 0 0 1 0 0 0 0 0 1 0 0 0 1 0 0 1 0 1 0 0]\n",
      "['Indoor', 'Barbershop', 'NullSpeed', 'Misty', 'NotOnPublicTransportationRoute', 'NullHeightVariation', 'LowAudioLevel']\n",
      "CURRENT:   In the last 4 seconds the user Bob was in an Indoor environment at the Barbershop, where he was not moving, experiencing Misty weather, not following/close to a public transportation route, and neither going up nor down.\n",
      " In the last 4 seconds the user Bob was in an Indoor environment at the Barbershop, where he was not moving, experiencing Misty weather, not following/close to a public transportation route, and neither going up nor down.\n",
      "[{'role': 'system', 'content': '\\n    You are a domain expert in charge of checking which human activities are suitable with respect to the current surrounding context of a user. \\n    You will receive as input a description of the surrounding context of the user. You have to determine which are the activities that are suitable in the given context. \\n    This is the list of the possible user activities that you have to consider: BRUSHING_TEETH, CYCLING, ELEVATOR_DOWN, ELEVATOR_UP, LYING, MOVING_BY_CAR, RUNNING, SITTING, SITTING_ON_TRANSPORT, STAIRS_DOWN, STAIRS_UP, STANDING, STANDING_ON_TRANSPORT, WALKING\\n\\n    Accomplish the task by following the steps below:\\n\\n    Step 1: Analyze the context.\\n    Step 2: Determine which activities are likely in the given context, by analyzing each activity. Apply the open-world assumption: anything that is not explicit in the surrounding context of the user may be possible. Do not exclude activities for which you cannot determine their likelihood or the ones for which there are no specific information about objects and vehicles that the user is using.\\n    Step 3: Provide the result in the form of a list.'}, {'role': 'user', 'content': \"- Context: the user was indoor, at the workplace, where he was not moving, experiencing sunny weather, not following/close a public transportation route, and neither going up nor down \\n Likely activities: ['BRUSHING_TEETH', 'LYING', 'SITTING', 'STANDING']\\n- Context: the user was indoor, at home, where he was not moving, experiencing sunny weather, not following/close a public transportation route, and neither going up nor down \\n Likely activities: ['BRUSHING_TEETH', 'CYCLING', 'LYING', 'RUNNING', 'SITTING', 'STANDING']\\n- Context: the user was indoor, at the mall, not moving, experiencing sunny weather, not following/close a public transportation route, and neither going up nor down \\n Likely activities: ['LYING', 'SITTING', 'STANDING']\\n- Context: the user was indoor, at the gym, not moving and experiencing cloudy weather. He was not following/close to a public transportation route, and he was neither going up nor down \\n Likely activities: ['CYCLING', 'RUNNING', 'LYING', 'SITTING','STANDING']\\n                       -Context:  In the last 4 seconds the user Bob was in an Indoor environment at the Barbershop, where he was not moving, experiencing Misty weather, not following/close to a public transportation route, and neither going up nor down. \\n-Likely activities: \"}]\n",
      "HTTP Error 500: \n",
      "[['brushing_teeth', 'lying', 'sitting', 'standing']]\n",
      "---------------------------------------------------------------------------------\n"
     ]
    }
   ],
   "source": [
    "all_responses = []\n",
    "i = 0\n",
    "for c, l, o in list(zip(unique_contexts, unique_contexts_labels, unique_contexts_ontology_consistencies)):\n",
    "    i += 1\n",
    "    #print(c)\n",
    "    description = create_context_description(c)\n",
    "    print('CURRENT: ', description)\n",
    "    most_similar_examples = example_manager.get_most_similar_examples(description)\n",
    "    #print('SIMILAR: \\n', most_similar_examples) \n",
    "    print(description)\n",
    "    prompt = prompt_generator.generate_prompt(description, most_similar_examples)\n",
    "    print(prompt)\n",
    "    responses = request_handler.handle_request(prompt, repetitions=1, return_all=True)\n",
    "    print(responses)\n",
    "    #all_responses.append(responses)\n",
    "    print(\"---------------------------------------------------------------------------------\")"
   ]
  },
  {
   "cell_type": "markdown",
   "id": "32779ea0d39528f",
   "metadata": {
    "collapsed": false
   },
   "source": [
    "# Dump answers\n",
    "Increment n each time to have different files"
   ]
  },
  {
   "cell_type": "code",
   "execution_count": 12,
   "id": "6f958c1f38567b18",
   "metadata": {
    "ExecuteTime": {
     "end_time": "2023-10-25T08:14:08.035428300Z",
     "start_time": "2023-10-25T08:14:07.999524400Z"
    },
    "collapsed": false
   },
   "outputs": [],
   "source": [
    "n = 1"
   ]
  },
  {
   "cell_type": "code",
   "execution_count": 25,
   "id": "d3d76bd96bb2592f",
   "metadata": {
    "ExecuteTime": {
     "end_time": "2023-10-25T08:14:14.207799500Z",
     "start_time": "2023-10-25T08:14:14.162328900Z"
    },
    "collapsed": false
   },
   "outputs": [],
   "source": [
    "if DATASET == \"DOMINO\":\n",
    "    answers_path = f\"answers/domino/a_{n}.pkl\"\n",
    "elif DATASET == \"EXTRASENSORY\":\n",
    "    answers_path = f\"answers/extrasensory/a_{n}.pkl\"\n",
    "else:\n",
    "    answers_path = None\n",
    "    raise ValueError(\"DATASET name must be 'DOMINO' or 'EXTRASENSORY'\")"
   ]
  },
  {
   "cell_type": "code",
   "execution_count": 26,
   "id": "9757b1633f9d9a6c",
   "metadata": {
    "ExecuteTime": {
     "end_time": "2023-10-25T08:14:14.411763200Z",
     "start_time": "2023-10-25T08:14:14.342645Z"
    },
    "collapsed": false
   },
   "outputs": [],
   "source": [
    "with open(answers_path, \"wb\") as file:\n",
    "    pkl.dump(all_responses, file)"
   ]
  },
  {
   "cell_type": "markdown",
   "id": "ac524d73909ed0c0",
   "metadata": {
    "collapsed": false
   },
   "source": [
    "# Load answers and ontology"
   ]
  },
  {
   "cell_type": "code",
   "execution_count": 13,
   "id": "444ad2f989868013",
   "metadata": {
    "ExecuteTime": {
     "end_time": "2023-10-25T08:14:57.887047500Z",
     "start_time": "2023-10-25T08:14:57.840201Z"
    },
    "collapsed": false
   },
   "outputs": [],
   "source": [
    "if DATASET == \"DOMINO\":\n",
    "    answers_path = f\"answers/domino/a_{n}.pkl\"\n",
    "elif DATASET == \"EXTRASENSORY\":\n",
    "    answers_path = f\"answers/extrasensory/a_{n}.pkl\"\n",
    "else:\n",
    "    answers_path = None\n",
    "    raise ValueError(\"DATASET name must be 'DOMINO' or 'EXTRASENSORY'\")"
   ]
  },
  {
   "cell_type": "code",
   "execution_count": 14,
   "id": "a6262ec3951d8633",
   "metadata": {
    "ExecuteTime": {
     "end_time": "2023-10-25T08:14:58.103655700Z",
     "start_time": "2023-10-25T08:14:58.054660800Z"
    },
    "collapsed": false
   },
   "outputs": [],
   "source": [
    "if DATASET == \"DOMINO\":\n",
    "    ontology_path = f'datasets/domino/domino_unique_contexts_ontology_consistencies.pkl'\n",
    "elif DATASET == \"EXTRASENSORY\":\n",
    "    ontology_path = f\"datasets/extrasensory/extrasensory_unique_contexts_ontology_consistencies.pkl\"\n",
    "else:\n",
    "    answers_path = None\n",
    "    raise ValueError(\"DATASET name must be 'DOMINO' or 'EXTRASENSORY'\")"
   ]
  },
  {
   "cell_type": "code",
   "execution_count": 16,
   "id": "19bf7c0262f1f635",
   "metadata": {
    "ExecuteTime": {
     "end_time": "2023-10-25T08:14:58.241007400Z",
     "start_time": "2023-10-25T08:14:58.175269300Z"
    },
    "collapsed": false
   },
   "outputs": [],
   "source": [
    "#with open(answers_path, \"rb\") as file:\n",
    "#    all_responses = pkl.load(file)\n",
    "with open(ontology_path, \"rb\") as file:\n",
    "    ontology_consistencies = pkl.load(file)"
   ]
  },
  {
   "cell_type": "markdown",
   "id": "a0f0626f2d25f10d",
   "metadata": {
    "collapsed": false
   },
   "source": [
    "# Compute results"
   ]
  },
  {
   "cell_type": "code",
   "execution_count": 36,
   "id": "ff58772a35144ff6",
   "metadata": {
    "ExecuteTime": {
     "end_time": "2023-10-25T08:14:58.977773800Z",
     "start_time": "2023-10-25T08:14:58.938883600Z"
    },
    "collapsed": false
   },
   "outputs": [],
   "source": [
    "def count_occurrences(activity, list_of_lists):\n",
    "    count = 0\n",
    "    for sublist in list_of_lists:\n",
    "        count += sublist.count(activity)\n",
    "    return count"
   ]
  },
  {
   "cell_type": "code",
   "execution_count": 37,
   "id": "15009cea0c181cb5",
   "metadata": {
    "ExecuteTime": {
     "end_time": "2023-10-25T08:14:59.182227800Z",
     "start_time": "2023-10-25T08:14:59.140339300Z"
    },
    "collapsed": false
   },
   "outputs": [],
   "source": [
    "def get_classes_from_binary_vector(bin_vec):\n",
    "    classes_to_return = []\n",
    "    for v, c in zip(bin_vec, CLASSES):\n",
    "        if v==1:\n",
    "            classes_to_return.append(c)\n",
    "    return classes_to_return"
   ]
  },
  {
   "cell_type": "code",
   "execution_count": 39,
   "id": "293c22886a21f4d0",
   "metadata": {
    "ExecuteTime": {
     "end_time": "2023-10-25T08:15:23.821583600Z",
     "start_time": "2023-10-25T08:15:23.792660400Z"
    },
    "collapsed": false
   },
   "outputs": [],
   "source": [
    "min_count = 1"
   ]
  },
  {
   "cell_type": "code",
   "execution_count": 40,
   "id": "3a373895dff4b6b5",
   "metadata": {
    "ExecuteTime": {
     "end_time": "2023-10-25T08:15:24.280790500Z",
     "start_time": "2023-10-25T08:15:24.247879100Z"
    },
    "collapsed": false
   },
   "outputs": [],
   "source": [
    "preds = []\n",
    "for response in all_responses:\n",
    "    # print(response)\n",
    "    aggregated_response = []\n",
    "    for act in CLASSES:\n",
    "        if count_occurrences(act.lower(), response) >= min_count:\n",
    "            aggregated_response.append(1)\n",
    "        else:\n",
    "            aggregated_response.append(0)\n",
    "    preds.append(aggregated_response)"
   ]
  },
  {
   "cell_type": "code",
   "execution_count": 30,
   "id": "34079bbb6d6c094b",
   "metadata": {
    "ExecuteTime": {
     "end_time": "2023-10-25T08:14:19.327818100Z",
     "start_time": "2023-10-25T08:14:19.297858200Z"
    },
    "collapsed": false
   },
   "outputs": [],
   "source": [
    "print(classification_report(ontology_consistencies, preds, target_names=CLASSES))"
   ]
  },
  {
   "cell_type": "markdown",
   "id": "ab3155628260ca33",
   "metadata": {
    "collapsed": false
   },
   "source": [
    "# Get results for DL"
   ]
  },
  {
   "cell_type": "code",
   "execution_count": 42,
   "id": "791962036abf9730",
   "metadata": {
    "ExecuteTime": {
     "end_time": "2023-10-25T08:17:34.051830Z",
     "start_time": "2023-10-25T08:17:33.987953200Z"
    },
    "collapsed": false
   },
   "outputs": [],
   "source": [
    "#TODO"
   ]
  }
 ],
 "metadata": {
  "kernelspec": {
   "display_name": "Python 3",
   "language": "python",
   "name": "python3"
  },
  "language_info": {
   "codemirror_mode": {
    "name": "ipython",
    "version": 3
   },
   "file_extension": ".py",
   "mimetype": "text/x-python",
   "name": "python",
   "nbconvert_exporter": "python",
   "pygments_lexer": "ipython3",
   "version": "3.9.13"
  }
 },
 "nbformat": 4,
 "nbformat_minor": 5
}
