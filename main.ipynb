{
 "cells": [
  {
   "cell_type": "markdown",
   "source": [
    "# Setup"
   ],
   "metadata": {
    "collapsed": false
   },
   "id": "e23b209ad1e8d4ce"
  },
  {
   "cell_type": "code",
   "execution_count": 41,
   "id": "initial_id",
   "metadata": {
    "collapsed": true,
    "ExecuteTime": {
     "end_time": "2023-10-25T08:15:54.974211300Z",
     "start_time": "2023-10-25T08:15:54.918360Z"
    }
   },
   "outputs": [],
   "source": [
    "import pickle as pkl\n",
    "from context_descriptor import ContextDescriptor\n",
    "from prompt_generator import PromptGenerator\n",
    "from model_request_handler import ModelRequestHandler\n",
    "import numpy as np\n",
    "from examples_manager import Examples_manager\n",
    "from sklearn.metrics import classification_report"
   ]
  },
  {
   "cell_type": "code",
   "execution_count": 2,
   "outputs": [],
   "source": [
    "DATASET = \"EXTRASENSORY\"\n",
    "if DATASET not in [\"DOMINO\", \"EXTRASENSORY\"]:\n",
    "    raise ValueError(\"DATASET name must be 'DOMINO' or 'EXTRASENSORY'\")"
   ],
   "metadata": {
    "collapsed": false,
    "ExecuteTime": {
     "end_time": "2023-10-25T07:59:58.070283800Z",
     "start_time": "2023-10-25T07:59:58.036414500Z"
    }
   },
   "id": "c99adbbe10c421b"
  },
  {
   "cell_type": "code",
   "execution_count": 3,
   "outputs": [],
   "source": [
    "extrasensory_classes = ['BICICLYNG', 'LAYING_DOWN', 'MOVING_BY_CAR', 'ON_TRANSPORT', 'SITTING', 'STANDING', 'WALKING']\n",
    "domino_classes = ['BRUSHING_TEETH', 'CYCLING', 'ELEVATOR_DOWN', 'ELEVATOR_UP', 'LYING', 'MOVING_BY_CAR', 'RUNNING', 'SITTING', 'SITTING_ON_TRANSPORT', 'STAIRS_DOWN', 'STAIRS_UP', 'STANDING', 'STANDING_ON_TRANSPORT', 'WALKING']"
   ],
   "metadata": {
    "collapsed": false,
    "ExecuteTime": {
     "end_time": "2023-10-25T07:59:58.742848900Z",
     "start_time": "2023-10-25T07:59:58.693981Z"
    }
   },
   "id": "fa24b24792f4e1d6"
  },
  {
   "cell_type": "code",
   "execution_count": 4,
   "outputs": [],
   "source": [
    "if DATASET == \"DOMINO\":\n",
    "    CLASSES = domino_classes\n",
    "elif DATASET == \"EXTRASENSORY\":\n",
    "    CLASSES = extrasensory_classes\n",
    "else:\n",
    "    CLASSES = None\n",
    "    raise ValueError(\"DATASET name must be 'DOMINO' or 'EXTRASENSORY'\")"
   ],
   "metadata": {
    "collapsed": false,
    "ExecuteTime": {
     "end_time": "2023-10-25T07:59:59.218028800Z",
     "start_time": "2023-10-25T07:59:59.198084Z"
    }
   },
   "id": "773d17aa4c791892"
  },
  {
   "cell_type": "markdown",
   "source": [
    "# Load dataset"
   ],
   "metadata": {
    "collapsed": false
   },
   "id": "65b13ddfd26147de"
  },
  {
   "cell_type": "code",
   "execution_count": 5,
   "outputs": [],
   "source": [
    "if DATASET == \"DOMINO\":\n",
    "    \n",
    "    def derive_context(context_vector):\n",
    "        context_mapper = {\n",
    "            \"Indoor\": 0, \"Outdoor\": 1,\n",
    "            \"Home\": 2, \"Office\": 3, \"University\": 4, \"Mall\": 5, \"Station\": 6, \"Museum\": 7, \"Gym\": 8, \"Shop\": 9, \"Bar\": 10,\n",
    "            \"Restaurant\": 11, \"Barbershop\": 12, \"Bank\": 13, \"Church\": 14, \"NullSemanticPlace\": 15,\n",
    "            \"NullSpeed\": 16, \"LowSpeed\": 17, \"MediumSpeed\": 18, \"HighSpeed\": 19,\n",
    "            \"Sunny\": 20, \"Rainy\": 21, \"Misty\": 22, \"Cloudy\": 23, \"Drizzly\": 24, \"Stormy\": 25,\n",
    "            \"NotOnPublicTransportationRoute\": 26, \"OnPublicTransportationRoute\": 27,\n",
    "            \"NegativeHeightVariation\": 28, \"NullHeightVariation\": 29, \"PositiveHeightVariation\": 30,\n",
    "            \"LowAudioLevel\": 31, \"MediumAudioLevel\": 32, \"HighAudioLevel\": 33\n",
    "        }\n",
    "        inverse_context_mapper = {index: name for name, index in context_mapper.items()}\n",
    "        context_vector = np.where(np.array(context_vector) == 1)[0]  # returns the indices of the elements equal to 1\n",
    "        context_vector = [inverse_context_mapper[index] for index in context_vector]\n",
    "        return context_vector\n",
    "    \n",
    "    f_contexts = open(f\"datasets/domino/domino-segmented-w4-hz50.txt\", \"rb\")\n",
    "    f_consistencies = open(f\"datasets/domino/consistencies.txt\", \"rb\")\n",
    "    dataset = pkl.load(f_contexts)\n",
    "    consistencies = pkl.load(f_consistencies)\n",
    "    contexts = dataset[\"enhanced_context\"]\n",
    "    labels = dataset['labels']\n",
    "    unique_instances_dict = {}\n",
    "    unique_contexts = []\n",
    "    # Iterate through the rows of the input array\n",
    "    for idx, row in enumerate(contexts):\n",
    "        # Convert the row to a tuple to make it hashable\n",
    "        row_tuple = tuple(row)\n",
    "        # If the row is not in the dictionary, add it with its index\n",
    "        if row_tuple not in unique_instances_dict:\n",
    "            unique_contexts.append(derive_context(list(row_tuple)))\n",
    "            unique_instances_dict[row_tuple] = {'occurrences': [], 'labels': []}\n",
    "        unique_instances_dict[row_tuple]['occurrences'].append(idx)\n",
    "        if labels[idx] not in unique_instances_dict[row_tuple]['labels']:\n",
    "            unique_instances_dict[row_tuple]['labels'].append(labels[idx])\n",
    "            \n",
    "elif DATASET == \"EXTRASENSORY\":\n",
    "    with open(\"datasets/extrasensory/extrasensory_unique_contexts.pkl\", \"rb\") as file:\n",
    "        unique_contexts = pkl.load(file)\n",
    "    with open(\"datasets/extrasensory/extrasensory_unique_contexts_labels.pkl\", \"rb\") as file:\n",
    "        unique_contexts_labels = pkl.load(file)\n",
    "    with open(\"datasets/extrasensory/extrasensory_unique_contexts_ontology_consistencies.pkl\", \"rb\") as file:\n",
    "        unique_contexts_ontology_consistencies = pkl.load(file)\n",
    "        \n",
    "else:\n",
    "    raise ValueError(\"DATASET name must be 'DOMINO' or 'EXTRASENSORY'\")"
   ],
   "metadata": {
    "collapsed": false,
    "ExecuteTime": {
     "end_time": "2023-10-25T08:00:01.106292200Z",
     "start_time": "2023-10-25T08:00:01.034482300Z"
    }
   },
   "id": "5b0df3761f738f38"
  },
  {
   "cell_type": "markdown",
   "source": [
    "# Define system message"
   ],
   "metadata": {
    "collapsed": false
   },
   "id": "d1ecfded74ee4b8e"
  },
  {
   "cell_type": "code",
   "execution_count": 6,
   "outputs": [],
   "source": [
    "system_message = f'''\n",
    "    You are a domain expert in charge of checking which human activities are suitable with respect to the current surrounding context of a user. \n",
    "    You will receive as input a description of the surrounding context of the user. You have to determine which are the activities that are suitable in the given context. \n",
    "    This is the list of the possible user activities that you have to consider: {', '.join(CLASSES)}\n",
    "\n",
    "    Accomplish the task by following the steps below:\n",
    "\n",
    "    Step 1: Analyze the context.\n",
    "    Step 2: Determine which activities are likely in the given context, by analyzing each activity. Apply the open-world assumption: anything that is not explicit in the surrounding context of the user may be possible. Do not exclude activities for which you cannot determine their likelihood or the ones for which there are no specific information about objects and vehicles that the user is using.\n",
    "    Step 3: Provide the result in the form of a list.'''"
   ],
   "metadata": {
    "collapsed": false,
    "ExecuteTime": {
     "end_time": "2023-10-25T08:00:03.289457400Z",
     "start_time": "2023-10-25T08:00:03.265523900Z"
    }
   },
   "id": "404b020aea980bb7"
  },
  {
   "cell_type": "code",
   "execution_count": 7,
   "outputs": [],
   "source": [
    "#Think about the \"answer and step by step analyze each activity.\n",
    "#system_message += \"In the following i'll give you some examples of contexts that you can receive and the answer \" \\\n",
    "#                  \"that i would expect: \""
   ],
   "metadata": {
    "collapsed": false,
    "ExecuteTime": {
     "end_time": "2023-10-25T08:00:03.889781900Z",
     "start_time": "2023-10-25T08:00:03.850291200Z"
    }
   },
   "id": "7a0dba073a55bfd2"
  },
  {
   "cell_type": "markdown",
   "source": [
    "# Initialize helper classes"
   ],
   "metadata": {
    "collapsed": false
   },
   "id": "99e4c3d280c439ea"
  },
  {
   "cell_type": "code",
   "execution_count": 8,
   "outputs": [],
   "source": [
    "contest_descriptor = ContextDescriptor()\n",
    "prompt_generator = PromptGenerator(system_message)\n",
    "request_handler = ModelRequestHandler()"
   ],
   "metadata": {
    "collapsed": false,
    "ExecuteTime": {
     "end_time": "2023-10-25T08:00:06.244633800Z",
     "start_time": "2023-10-25T08:00:05.316659900Z"
    }
   },
   "id": "b47b2049f579e102"
  },
  {
   "cell_type": "markdown",
   "source": [
    "# Initialize example manager"
   ],
   "metadata": {
    "collapsed": false
   },
   "id": "7b53742f1deddf6b"
  },
  {
   "cell_type": "code",
   "execution_count": 9,
   "outputs": [],
   "source": [
    "if DATASET == \"DOMINO\":\n",
    "    example_manager = Examples_manager(\"domino_examples.csv\")\n",
    "elif DATASET == \"EXTRASENSORY\":\n",
    "    example_manager = Examples_manager(\"extrasensory_examples.csv\")\n",
    "else:\n",
    "    example_manager = None\n",
    "    raise ValueError(\"DATASET name must be 'DOMINO' or 'EXTRASENSORY'\")"
   ],
   "metadata": {
    "collapsed": false,
    "ExecuteTime": {
     "end_time": "2023-10-25T08:00:07.954564Z",
     "start_time": "2023-10-25T08:00:06.793307700Z"
    }
   },
   "id": "abb45f3dbdbb037a"
  },
  {
   "cell_type": "markdown",
   "source": [
    "# Choose context desciption function"
   ],
   "metadata": {
    "collapsed": false
   },
   "id": "9685c917be20d219"
  },
  {
   "cell_type": "code",
   "execution_count": 10,
   "outputs": [],
   "source": [
    "if DATASET == \"DOMINO\":\n",
    "    create_context_description = lambda context_vector: contest_descriptor.create_domino_context_description(context_vector)\n",
    "elif DATASET == \"EXTRASENSORY\":\n",
    "    create_context_description = lambda context_vector: contest_descriptor.create_extrasensory_context_description(context_vector)\n",
    "else:\n",
    "    create_context_description = None\n",
    "    raise ValueError(\"DATASET name must be 'DOMINO' or 'EXTRASENSORY'\")"
   ],
   "metadata": {
    "collapsed": false,
    "ExecuteTime": {
     "end_time": "2023-10-25T08:00:09.422437300Z",
     "start_time": "2023-10-25T08:00:09.385546Z"
    }
   },
   "id": "7535f1e5c1376695"
  },
  {
   "cell_type": "markdown",
   "source": [
    "# Make the api calls"
   ],
   "metadata": {
    "collapsed": false
   },
   "id": "572581ba85558ab7"
  },
  {
   "cell_type": "code",
   "execution_count": null,
   "outputs": [],
   "source": [
    "all_responses = []\n",
    "i = 0\n",
    "for c, l, o in list(zip(unique_contexts, unique_contexts_labels, unique_contexts_ontology_consistencies))[:1]:\n",
    "    i += 1\n",
    "    description = create_context_description(c)\n",
    "    print('CURRENT: ', description)\n",
    "    most_similar_examples = example_manager.get_most_similar_examples(description)\n",
    "    #print('SIMILAR: \\n', most_similar_examples) \n",
    "    print(description)\n",
    "    prompt = prompt_generator.generate_prompt(description, most_similar_examples)\n",
    "    print(prompt)\n",
    "    responses = request_handler.handle_request(prompt, repetitions=1, return_all=True)\n",
    "    print(responses)\n",
    "    #all_responses.append(responses)\n",
    "    print(\"---------------------------------------------------------------------------------\")"
   ],
   "metadata": {
    "collapsed": false
   },
   "id": "f7fd20f31ef70dc3"
  },
  {
   "cell_type": "markdown",
   "source": [
    "# Dump answers\n",
    "Increment n each time to have different files"
   ],
   "metadata": {
    "collapsed": false
   },
   "id": "32779ea0d39528f"
  },
  {
   "cell_type": "code",
   "execution_count": 24,
   "outputs": [],
   "source": [
    "n = 1"
   ],
   "metadata": {
    "collapsed": false,
    "ExecuteTime": {
     "end_time": "2023-10-25T08:14:08.035428300Z",
     "start_time": "2023-10-25T08:14:07.999524400Z"
    }
   },
   "id": "6f958c1f38567b18"
  },
  {
   "cell_type": "code",
   "execution_count": 25,
   "outputs": [],
   "source": [
    "if DATASET == \"DOMINO\":\n",
    "    answers_path = f\"answers/domino/a_{n}.pkl\"\n",
    "elif DATASET == \"EXTRASENSORY\":\n",
    "    answers_path = f\"answers/extrasensory/a_{n}.pkl\"\n",
    "else:\n",
    "    answers_path = None\n",
    "    raise ValueError(\"DATASET name must be 'DOMINO' or 'EXTRASENSORY'\")"
   ],
   "metadata": {
    "collapsed": false,
    "ExecuteTime": {
     "end_time": "2023-10-25T08:14:14.207799500Z",
     "start_time": "2023-10-25T08:14:14.162328900Z"
    }
   },
   "id": "d3d76bd96bb2592f"
  },
  {
   "cell_type": "code",
   "execution_count": 26,
   "outputs": [],
   "source": [
    "with open(answers_path, \"wb\") as file:\n",
    "    pkl.dump(all_responses, file)"
   ],
   "metadata": {
    "collapsed": false,
    "ExecuteTime": {
     "end_time": "2023-10-25T08:14:14.411763200Z",
     "start_time": "2023-10-25T08:14:14.342645Z"
    }
   },
   "id": "9757b1633f9d9a6c"
  },
  {
   "cell_type": "markdown",
   "source": [
    "# Load answers and ontology"
   ],
   "metadata": {
    "collapsed": false
   },
   "id": "ac524d73909ed0c0"
  },
  {
   "cell_type": "code",
   "execution_count": 33,
   "outputs": [],
   "source": [
    "if DATASET == \"DOMINO\":\n",
    "    answers_path = f\"answers/domino/a_{n}.pkl\"\n",
    "elif DATASET == \"EXTRASENSORY\":\n",
    "    answers_path = f\"answers/extrasensory/a_{n}.pkl\"\n",
    "else:\n",
    "    answers_path = None\n",
    "    raise ValueError(\"DATASET name must be 'DOMINO' or 'EXTRASENSORY'\")"
   ],
   "metadata": {
    "collapsed": false,
    "ExecuteTime": {
     "end_time": "2023-10-25T08:14:57.887047500Z",
     "start_time": "2023-10-25T08:14:57.840201Z"
    }
   },
   "id": "444ad2f989868013"
  },
  {
   "cell_type": "code",
   "execution_count": 34,
   "outputs": [],
   "source": [
    "if DATASET == \"DOMINO\":\n",
    "    print() #TODO\n",
    "elif DATASET == \"EXTRASENSORY\":\n",
    "    ontology_path = f\"datasets/extrasensory/extrasensory_unique_contexts_ontology_consistencies.pkl\"\n",
    "else:\n",
    "    answers_path = None\n",
    "    raise ValueError(\"DATASET name must be 'DOMINO' or 'EXTRASENSORY'\")"
   ],
   "metadata": {
    "collapsed": false,
    "ExecuteTime": {
     "end_time": "2023-10-25T08:14:58.103655700Z",
     "start_time": "2023-10-25T08:14:58.054660800Z"
    }
   },
   "id": "a6262ec3951d8633"
  },
  {
   "cell_type": "code",
   "execution_count": 35,
   "outputs": [],
   "source": [
    "with open(answers_path, \"rb\") as file:\n",
    "    all_responses = pkl.load(file)\n",
    "with open(ontology_path, \"rb\") as file:\n",
    "    ontology_consistencies = pkl.load(file)"
   ],
   "metadata": {
    "collapsed": false,
    "ExecuteTime": {
     "end_time": "2023-10-25T08:14:58.241007400Z",
     "start_time": "2023-10-25T08:14:58.175269300Z"
    }
   },
   "id": "19bf7c0262f1f635"
  },
  {
   "cell_type": "markdown",
   "source": [
    "# Compute results"
   ],
   "metadata": {
    "collapsed": false
   },
   "id": "a0f0626f2d25f10d"
  },
  {
   "cell_type": "code",
   "execution_count": 36,
   "outputs": [],
   "source": [
    "def count_occurrences(activity, list_of_lists):\n",
    "    count = 0\n",
    "    for sublist in list_of_lists:\n",
    "        count += sublist.count(activity)\n",
    "    return count"
   ],
   "metadata": {
    "collapsed": false,
    "ExecuteTime": {
     "end_time": "2023-10-25T08:14:58.977773800Z",
     "start_time": "2023-10-25T08:14:58.938883600Z"
    }
   },
   "id": "ff58772a35144ff6"
  },
  {
   "cell_type": "code",
   "execution_count": 37,
   "outputs": [],
   "source": [
    "def get_classes_from_binary_vector(bin_vec):\n",
    "    classes_to_return = []\n",
    "    for v, c in zip(bin_vec, CLASSES):\n",
    "        if v==1:\n",
    "            classes_to_return.append(c)\n",
    "    return classes_to_return"
   ],
   "metadata": {
    "collapsed": false,
    "ExecuteTime": {
     "end_time": "2023-10-25T08:14:59.182227800Z",
     "start_time": "2023-10-25T08:14:59.140339300Z"
    }
   },
   "id": "15009cea0c181cb5"
  },
  {
   "cell_type": "code",
   "execution_count": 39,
   "outputs": [],
   "source": [
    "min_count = 1"
   ],
   "metadata": {
    "collapsed": false,
    "ExecuteTime": {
     "end_time": "2023-10-25T08:15:23.821583600Z",
     "start_time": "2023-10-25T08:15:23.792660400Z"
    }
   },
   "id": "293c22886a21f4d0"
  },
  {
   "cell_type": "code",
   "execution_count": 40,
   "outputs": [],
   "source": [
    "preds = []\n",
    "for response in all_responses:\n",
    "    # print(response)\n",
    "    aggregated_response = []\n",
    "    for act in CLASSES:\n",
    "        if count_occurrences(act.lower(), response) >= min_count:\n",
    "            aggregated_response.append(1)\n",
    "        else:\n",
    "            aggregated_response.append(0)\n",
    "    preds.append(aggregated_response)"
   ],
   "metadata": {
    "collapsed": false,
    "ExecuteTime": {
     "end_time": "2023-10-25T08:15:24.280790500Z",
     "start_time": "2023-10-25T08:15:24.247879100Z"
    }
   },
   "id": "3a373895dff4b6b5"
  },
  {
   "cell_type": "code",
   "execution_count": 30,
   "outputs": [],
   "source": [
    "print(classification_report(ontology_consistencies, preds, target_names=CLASSES))"
   ],
   "metadata": {
    "collapsed": false,
    "ExecuteTime": {
     "end_time": "2023-10-25T08:14:19.327818100Z",
     "start_time": "2023-10-25T08:14:19.297858200Z"
    }
   },
   "id": "34079bbb6d6c094b"
  },
  {
   "cell_type": "markdown",
   "source": [
    "# Get results for DL"
   ],
   "metadata": {
    "collapsed": false
   },
   "id": "ab3155628260ca33"
  },
  {
   "cell_type": "code",
   "execution_count": 42,
   "outputs": [],
   "source": [
    "#TODO"
   ],
   "metadata": {
    "collapsed": false,
    "ExecuteTime": {
     "end_time": "2023-10-25T08:17:34.051830Z",
     "start_time": "2023-10-25T08:17:33.987953200Z"
    }
   },
   "id": "791962036abf9730"
  }
 ],
 "metadata": {
  "kernelspec": {
   "display_name": "Python 3",
   "language": "python",
   "name": "python3"
  },
  "language_info": {
   "codemirror_mode": {
    "name": "ipython",
    "version": 2
   },
   "file_extension": ".py",
   "mimetype": "text/x-python",
   "name": "python",
   "nbconvert_exporter": "python",
   "pygments_lexer": "ipython2",
   "version": "2.7.6"
  }
 },
 "nbformat": 4,
 "nbformat_minor": 5
}
