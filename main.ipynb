{
 "cells": [
  {
   "cell_type": "markdown",
   "id": "e23b209ad1e8d4ce",
   "metadata": {
    "collapsed": false
   },
   "source": [
    "# Setup"
   ]
  },
  {
   "cell_type": "code",
   "execution_count": 30,
   "id": "initial_id",
   "metadata": {
    "ExecuteTime": {
     "end_time": "2023-10-31T15:53:12.818345100Z",
     "start_time": "2023-10-31T15:53:12.775983200Z"
    },
    "collapsed": true
   },
   "outputs": [],
   "source": [
    "import pickle as pkl\n",
    "from context_descriptor import ContextDescriptor\n",
    "from prompt_generator import PromptGenerator\n",
    "from model_request_handler import ModelRequestHandler\n",
    "from open_ai_request_handler import OpenAiRequestHandler\n",
    "import numpy as np\n",
    "from examples_manager import Examples_manager\n",
    "from sklearn.metrics import classification_report\n",
    "import time"
   ]
  },
  {
   "cell_type": "code",
   "execution_count": 31,
   "id": "24de087aff90f16b",
   "metadata": {
    "ExecuteTime": {
     "end_time": "2023-10-31T15:53:13.019046600Z",
     "start_time": "2023-10-31T15:53:12.998006900Z"
    },
    "collapsed": false
   },
   "outputs": [],
   "source": [
    "OPEN_AI_API_KEY = \"\""
   ]
  },
  {
   "cell_type": "code",
   "execution_count": 32,
   "id": "c99adbbe10c421b",
   "metadata": {
    "ExecuteTime": {
     "end_time": "2023-10-31T15:53:13.277841600Z",
     "start_time": "2023-10-31T15:53:13.211243600Z"
    },
    "collapsed": false
   },
   "outputs": [],
   "source": [
    "DATASET = \"EXTRASENSORY\"\n",
    "if DATASET not in [\"DOMINO\", \"EXTRASENSORY\"]:\n",
    "    raise ValueError(\"DATASET name must be 'DOMINO' or 'EXTRASENSORY'\")"
   ]
  },
  {
   "cell_type": "code",
   "execution_count": 33,
   "id": "fa24b24792f4e1d6",
   "metadata": {
    "ExecuteTime": {
     "end_time": "2023-10-31T15:53:13.509839600Z",
     "start_time": "2023-10-31T15:53:13.471842200Z"
    },
    "collapsed": false
   },
   "outputs": [],
   "source": [
    "extrasensory_classes = ['BICYCLING', 'LAYING_DOWN', 'MOVING_BY_CAR', 'ON_TRANSPORT', 'SITTING', 'STANDING', 'WALKING']\n",
    "domino_classes = ['BRUSHING_TEETH', 'CYCLING', 'ELEVATOR_DOWN', 'ELEVATOR_UP', 'LYING', 'MOVING_BY_CAR', 'RUNNING', 'SITTING', 'SITTING_ON_TRANSPORT', 'STAIRS_DOWN', 'STAIRS_UP', 'STANDING', 'STANDING_ON_TRANSPORT', 'WALKING']"
   ]
  },
  {
   "cell_type": "code",
   "execution_count": 34,
   "id": "773d17aa4c791892",
   "metadata": {
    "ExecuteTime": {
     "end_time": "2023-10-31T15:53:13.793842Z",
     "start_time": "2023-10-31T15:53:13.735856400Z"
    },
    "collapsed": false
   },
   "outputs": [],
   "source": [
    "if DATASET == \"DOMINO\":\n",
    "    CLASSES = domino_classes\n",
    "elif DATASET == \"EXTRASENSORY\":\n",
    "    CLASSES = extrasensory_classes\n",
    "else:\n",
    "    CLASSES = None\n",
    "    raise ValueError(\"DATASET name must be 'DOMINO' or 'EXTRASENSORY'\")"
   ]
  },
  {
   "cell_type": "markdown",
   "id": "65b13ddfd26147de",
   "metadata": {
    "collapsed": false
   },
   "source": [
    "# Load dataset"
   ]
  },
  {
   "cell_type": "code",
   "execution_count": 35,
   "id": "5b0df3761f738f38",
   "metadata": {
    "ExecuteTime": {
     "end_time": "2023-10-31T15:53:14.369102800Z",
     "start_time": "2023-10-31T15:53:14.305102500Z"
    },
    "collapsed": false
   },
   "outputs": [],
   "source": [
    "if DATASET == \"DOMINO\":\n",
    "    with open(\"datasets/domino/domino_unique_contexts.pkl\", \"rb\") as file:\n",
    "        unique_contexts = pkl.load(file)\n",
    "    with open(\"datasets/domino/domino_unique_contexts_ontology_consistencies.pkl\", \"rb\") as file:\n",
    "        unique_contexts_ontology_consistencies = pkl.load(file)\n",
    "    with open(\"datasets/domino/domino_unique_contexts_labels.pkl\", \"rb\") as file:\n",
    "        unique_contexts_labels = pkl.load(file)\n",
    "\n",
    "elif DATASET == \"EXTRASENSORY\":\n",
    "    with open(\"datasets/extrasensory/extrasensory_unique_contexts.pkl\", \"rb\") as file:\n",
    "        unique_contexts = pkl.load(file)\n",
    "    with open(\"datasets/extrasensory/extrasensory_unique_contexts_labels.pkl\", \"rb\") as file:\n",
    "        unique_contexts_labels = pkl.load(file)\n",
    "    with open(\"datasets/extrasensory/extrasensory_unique_contexts_ontology_consistencies.pkl\", \"rb\") as file:\n",
    "        unique_contexts_ontology_consistencies = pkl.load(file)\n",
    "        \n",
    "else:\n",
    "    raise ValueError(\"DATASET name must be 'DOMINO' or 'EXTRASENSORY'\")"
   ]
  },
  {
   "cell_type": "markdown",
   "id": "d1ecfded74ee4b8e",
   "metadata": {
    "collapsed": false
   },
   "source": [
    "# Define system message"
   ]
  },
  {
   "cell_type": "code",
   "execution_count": 36,
   "id": "404b020aea980bb7",
   "metadata": {
    "ExecuteTime": {
     "end_time": "2023-10-31T15:53:14.693665200Z",
     "start_time": "2023-10-31T15:53:14.675683500Z"
    },
    "collapsed": false
   },
   "outputs": [],
   "source": [
    "system_message = f'''You are a domain expert in charge of checking which human activities are suitable with respect to the current surrounding context of a user. You will receive as input a description of the surrounding context of the user. You have to determine which are the activities that are suitable in the given context. This is the list of the possible user activities that you have to consider: {', '.join(CLASSES)}. Accomplish the task by following the steps below:Step 1: Analyze the context.Step 2: Determine which activities are likely in the given context, by analyzing each activity. Apply the open-world assumption: anything that is not explicit in the surrounding context of the user may be possible. Do not exclude activities for which you cannot determine their likelihood or the ones for which there are no specific information about objects and vehicles that the user is using.Step 3: Provide the result in the form of a list.'''"
   ]
  },
  {
   "cell_type": "code",
   "execution_count": 37,
   "id": "7a0dba073a55bfd2",
   "metadata": {
    "ExecuteTime": {
     "end_time": "2023-10-31T15:53:14.923621200Z",
     "start_time": "2023-10-31T15:53:14.873632200Z"
    },
    "collapsed": false
   },
   "outputs": [],
   "source": [
    "#Think about the \"answer and step by step analyze each activity.\n",
    "#system_message += \"In the following i'll give you some examples of contexts that you can receive and the answer \" \\\n",
    "#                  \"that i would expect: \""
   ]
  },
  {
   "cell_type": "markdown",
   "id": "99e4c3d280c439ea",
   "metadata": {
    "collapsed": false
   },
   "source": [
    "# Initialize helper classes"
   ]
  },
  {
   "cell_type": "code",
   "execution_count": 38,
   "id": "b47b2049f579e102",
   "metadata": {
    "ExecuteTime": {
     "end_time": "2023-10-31T15:53:15.351376Z",
     "start_time": "2023-10-31T15:53:15.318709Z"
    },
    "collapsed": false
   },
   "outputs": [],
   "source": [
    "contest_descriptor = ContextDescriptor()\n",
    "prompt_generator = PromptGenerator(system_message)\n",
    "#request_handler = ModelRequestHandler()\n",
    "request_handler = OpenAiRequestHandler(api_key=OPEN_AI_API_KEY)"
   ]
  },
  {
   "cell_type": "markdown",
   "id": "7b53742f1deddf6b",
   "metadata": {
    "collapsed": false
   },
   "source": [
    "# Initialize example manager"
   ]
  },
  {
   "cell_type": "code",
   "execution_count": 43,
   "id": "abb45f3dbdbb037a",
   "metadata": {
    "ExecuteTime": {
     "end_time": "2023-10-31T16:05:04.488324500Z",
     "start_time": "2023-10-31T16:05:03.957328800Z"
    },
    "collapsed": false
   },
   "outputs": [],
   "source": [
    "if DATASET == \"DOMINO\":\n",
    "    example_manager = Examples_manager(\"domino_examples.csv\")\n",
    "elif DATASET == \"EXTRASENSORY\":\n",
    "    example_manager = Examples_manager(\"extrasensory_examples.csv\")\n",
    "else:\n",
    "    example_manager = None\n",
    "    raise ValueError(\"DATASET name must be 'DOMINO' or 'EXTRASENSORY'\")"
   ]
  },
  {
   "cell_type": "markdown",
   "id": "9685c917be20d219",
   "metadata": {
    "collapsed": false
   },
   "source": [
    "# Choose context desciption function"
   ]
  },
  {
   "cell_type": "code",
   "execution_count": 44,
   "id": "7535f1e5c1376695",
   "metadata": {
    "ExecuteTime": {
     "end_time": "2023-10-31T16:05:04.494323700Z",
     "start_time": "2023-10-31T16:05:04.481319Z"
    },
    "collapsed": false
   },
   "outputs": [],
   "source": [
    "if DATASET == \"DOMINO\":\n",
    "    create_context_description = lambda context_vector: contest_descriptor.create_domino_context_description(context_vector)\n",
    "elif DATASET == \"EXTRASENSORY\":\n",
    "    create_context_description = lambda context_vector: contest_descriptor.create_extrasensory_context_description(context_vector)\n",
    "else:\n",
    "    create_context_description = None\n",
    "    raise ValueError(\"DATASET name must be 'DOMINO' or 'EXTRASENSORY'\")"
   ]
  },
  {
   "cell_type": "markdown",
   "id": "572581ba85558ab7",
   "metadata": {
    "collapsed": false
   },
   "source": [
    "# Make the api calls"
   ]
  },
  {
   "cell_type": "code",
   "execution_count": 45,
   "id": "cc6daf45463d90de",
   "metadata": {
    "ExecuteTime": {
     "end_time": "2023-10-31T16:05:04.973183Z",
     "start_time": "2023-10-31T16:05:04.948480600Z"
    },
    "collapsed": false
   },
   "outputs": [
    {
     "name": "stderr",
     "output_type": "stream",
     "text": [
      "[nltk_data] Downloading package stopwords to\n",
      "[nltk_data]     C:\\Users\\fiori\\AppData\\Roaming\\nltk_data...\n",
      "[nltk_data]   Package stopwords is already up-to-date!\n",
      "[nltk_data] Downloading package punkt to\n",
      "[nltk_data]     C:\\Users\\fiori\\AppData\\Roaming\\nltk_data...\n",
      "[nltk_data]   Package punkt is already up-to-date!\n"
     ]
    },
    {
     "data": {
      "text/plain": [
       "True"
      ]
     },
     "execution_count": 45,
     "metadata": {},
     "output_type": "execute_result"
    }
   ],
   "source": [
    "import nltk\n",
    "nltk.download('stopwords')\n",
    "nltk.download('punkt')"
   ]
  },
  {
   "cell_type": "code",
   "execution_count": null,
   "id": "f7fd20f31ef70dc3",
   "metadata": {
    "ExecuteTime": {
     "start_time": "2023-10-31T16:05:05.415769700Z"
    },
    "collapsed": false,
    "is_executing": true
   },
   "outputs": [
    {
     "name": "stdout",
     "output_type": "stream",
     "text": [
      "1 ['BICYCLING', 'WALKING']\n",
      "MODEL RESPONSE:\n",
      "['BICYCLING', 'WALKING']\n",
      "---------------------------------------------------------------------------------\n",
      "2 ['BICYCLING', 'LAYING_DOWN', 'SITTING', 'STANDING', 'WALKING']\n",
      "MODEL RESPONSE:\n",
      "['BICYCLING', 'LAYING_DOWN', 'SITTING', 'STANDING', 'WALKING']\n",
      "---------------------------------------------------------------------------------\n",
      "3 ['BICYCLING', 'MOVING_BY_CAR', 'WALKING']\n",
      "MODEL RESPONSE:\n",
      "['BICYCLING', 'MOVING_BY_CAR', 'WALKING']\n",
      "---------------------------------------------------------------------------------\n",
      "4 ['BICYCLING', 'MOVING_BY_CAR', 'WALKING']\n",
      "MODEL RESPONSE:\n",
      "['BICYCLING', 'MOVING_BY_CAR', 'WALKING']\n",
      "---------------------------------------------------------------------------------\n",
      "5 ['BICYCLING', 'MOVING_BY_CAR', 'WALKING']\n"
     ]
    }
   ],
   "source": [
    "start_time = time.time()\n",
    "all_responses = []\n",
    "all_usages = []\n",
    "i = 0\n",
    "for c, l, o in list(zip(unique_contexts, unique_contexts_labels, unique_contexts_ontology_consistencies)):\n",
    "    i += 1\n",
    "    print(i, get_classes_from_binary_vector(o))\n",
    "    #print(o, get_classes_from_binary_vector(o))\n",
    "    description = create_context_description(c)\n",
    "    #print(description)\n",
    "    most_similar_examples =  example_manager.get_most_similar_examples(description)\n",
    "    print('SIMILAR: \\n', most_similar_examples) \n",
    "    #print(description)\n",
    "    prompt = prompt_generator.generate_prompt(description, most_similar_examples)\n",
    "    #print(prompt)\n",
    "    responses, usages = request_handler.handle_request(prompt, repetitions=1, return_all=True)\n",
    "    #print(responses)\n",
    "    if [a.upper() for a in responses[0]] != get_classes_from_binary_vector(o) and [a.lower() for a in responses[0]] != get_classes_from_binary_vector(o):\n",
    "        print()\n",
    "        print(description, \"\\n\", get_classes_from_binary_vector(o), \"\\n\", responses[0])\n",
    "    all_responses.append(responses)\n",
    "    all_usages.append(usages)\n",
    "    print(\"---------------------------------------------------------------------------------\")\n",
    "print(\"--- %s seconds ---\" % (time.time() - start_time))"
   ]
  },
  {
   "cell_type": "code",
   "execution_count": null,
   "id": "19ad6574584753de",
   "metadata": {
    "collapsed": false
   },
   "outputs": [],
   "source": []
  },
  {
   "cell_type": "code",
   "execution_count": null,
   "id": "30df79db98fc6028",
   "metadata": {
    "collapsed": false,
    "is_executing": true
   },
   "outputs": [],
   "source": [
    "print()"
   ]
  },
  {
   "cell_type": "code",
   "execution_count": null,
   "id": "f27afc65a81eb4bc",
   "metadata": {
    "collapsed": false
   },
   "outputs": [],
   "source": []
  },
  {
   "cell_type": "code",
   "execution_count": null,
   "id": "61ea54163f90f8a6",
   "metadata": {
    "collapsed": false
   },
   "outputs": [],
   "source": []
  },
  {
   "cell_type": "markdown",
   "id": "3e1211a64bfa7f11",
   "metadata": {
    "collapsed": false
   },
   "source": [
    "# Dump data\n",
    "Increment n each time to have different files"
   ]
  },
  {
   "cell_type": "code",
   "execution_count": 16,
   "id": "6f958c1f38567b18",
   "metadata": {
    "ExecuteTime": {
     "end_time": "2023-10-31T15:32:19.041558200Z",
     "start_time": "2023-10-31T15:32:19.007564200Z"
    },
    "collapsed": false
   },
   "outputs": [],
   "source": [
    "n = 40"
   ]
  },
  {
   "cell_type": "markdown",
   "id": "32779ea0d39528f",
   "metadata": {
    "collapsed": false
   },
   "source": [
    "## Dump answers"
   ]
  },
  {
   "cell_type": "code",
   "execution_count": 17,
   "id": "d3d76bd96bb2592f",
   "metadata": {
    "ExecuteTime": {
     "end_time": "2023-10-31T15:32:19.804709400Z",
     "start_time": "2023-10-31T15:32:19.782715Z"
    },
    "collapsed": false
   },
   "outputs": [],
   "source": [
    "if DATASET == \"DOMINO\":\n",
    "    answers_path = f\"answers/domino/a_{n}.pkl\"\n",
    "elif DATASET == \"EXTRASENSORY\":\n",
    "    answers_path = f\"answers/extrasensory/a_{n}.pkl\"\n",
    "else:\n",
    "    answers_path = None\n",
    "    raise ValueError(\"DATASET name must be 'DOMINO' or 'EXTRASENSORY'\")"
   ]
  },
  {
   "cell_type": "code",
   "execution_count": 18,
   "id": "9757b1633f9d9a6c",
   "metadata": {
    "ExecuteTime": {
     "end_time": "2023-10-31T15:32:20.600619Z",
     "start_time": "2023-10-31T15:32:20.543586600Z"
    },
    "collapsed": false
   },
   "outputs": [],
   "source": [
    "with open(answers_path, \"wb\") as file:\n",
    "    pkl.dump(all_responses, file)"
   ]
  },
  {
   "cell_type": "markdown",
   "id": "4eeb1de3f4a3aa99",
   "metadata": {
    "collapsed": false
   },
   "source": [
    "# Dump usages"
   ]
  },
  {
   "cell_type": "code",
   "execution_count": 19,
   "id": "3bbcefe82e11f2c1",
   "metadata": {
    "ExecuteTime": {
     "end_time": "2023-10-31T15:32:21.125894600Z",
     "start_time": "2023-10-31T15:32:21.097434Z"
    },
    "collapsed": false
   },
   "outputs": [],
   "source": [
    "if DATASET == \"DOMINO\":\n",
    "    usages_path = f\"usages/domino/u_{n}.pkl\"\n",
    "elif DATASET == \"EXTRASENSORY\":\n",
    "    usages_path = f\"usages/extrasensory/u_{n}.pkl\"\n",
    "else:\n",
    "    usages_path = None\n",
    "    raise ValueError(\"DATASET name must be 'DOMINO' or 'EXTRASENSORY'\")"
   ]
  },
  {
   "cell_type": "code",
   "execution_count": 20,
   "id": "94230f1055b2f420",
   "metadata": {
    "ExecuteTime": {
     "end_time": "2023-10-31T15:32:21.787396700Z",
     "start_time": "2023-10-31T15:32:21.710399900Z"
    },
    "collapsed": false
   },
   "outputs": [],
   "source": [
    "with open(usages_path, \"wb\") as file:\n",
    "    pkl.dump(all_usages, file)"
   ]
  },
  {
   "cell_type": "markdown",
   "id": "ac524d73909ed0c0",
   "metadata": {
    "collapsed": false
   },
   "source": [
    "# Load answers and ontology"
   ]
  },
  {
   "cell_type": "code",
   "execution_count": 21,
   "id": "444ad2f989868013",
   "metadata": {
    "ExecuteTime": {
     "end_time": "2023-10-31T15:32:24.021657200Z",
     "start_time": "2023-10-31T15:32:23.998653Z"
    },
    "collapsed": false
   },
   "outputs": [],
   "source": [
    "if DATASET == \"DOMINO\":\n",
    "    answers_path = f\"answers/domino/a_{n}.pkl\"\n",
    "elif DATASET == \"EXTRASENSORY\":\n",
    "    answers_path = f\"answers/extrasensory/a_{n}.pkl\"\n",
    "else:\n",
    "    answers_path = None\n",
    "    raise ValueError(\"DATASET name must be 'DOMINO' or 'EXTRASENSORY'\")"
   ]
  },
  {
   "cell_type": "code",
   "execution_count": 22,
   "id": "a6262ec3951d8633",
   "metadata": {
    "ExecuteTime": {
     "end_time": "2023-10-31T15:32:24.726880800Z",
     "start_time": "2023-10-31T15:32:24.687584500Z"
    },
    "collapsed": false
   },
   "outputs": [],
   "source": [
    "if DATASET == \"DOMINO\":\n",
    "    ontology_path = f'datasets/domino/domino_unique_contexts_ontology_consistencies.pkl'\n",
    "elif DATASET == \"EXTRASENSORY\":\n",
    "    ontology_path = f\"datasets/extrasensory/extrasensory_unique_contexts_ontology_consistencies.pkl\"\n",
    "else:\n",
    "    answers_path = None\n",
    "    raise ValueError(\"DATASET name must be 'DOMINO' or 'EXTRASENSORY'\")"
   ]
  },
  {
   "cell_type": "code",
   "execution_count": 23,
   "id": "19bf7c0262f1f635",
   "metadata": {
    "ExecuteTime": {
     "end_time": "2023-10-31T15:32:25.383064300Z",
     "start_time": "2023-10-31T15:32:25.346060600Z"
    },
    "collapsed": false
   },
   "outputs": [],
   "source": [
    "#with open(answers_path, \"rb\") as file:\n",
    "#    all_responses = pkl.load(file)\n",
    "with open(ontology_path, \"rb\") as file:\n",
    "    ontology_consistencies = pkl.load(file)"
   ]
  },
  {
   "cell_type": "markdown",
   "id": "a0f0626f2d25f10d",
   "metadata": {
    "collapsed": false
   },
   "source": [
    "# Compute results"
   ]
  },
  {
   "cell_type": "code",
   "execution_count": 24,
   "id": "ff58772a35144ff6",
   "metadata": {
    "ExecuteTime": {
     "end_time": "2023-10-31T15:32:26.429027400Z",
     "start_time": "2023-10-31T15:32:26.407998100Z"
    },
    "collapsed": false
   },
   "outputs": [],
   "source": [
    "def count_occurrences(activity, list_of_lists):\n",
    "    count = 0\n",
    "    for sublist in list_of_lists:\n",
    "        count += sublist.count(activity)\n",
    "    return count"
   ]
  },
  {
   "cell_type": "code",
   "execution_count": 25,
   "id": "15009cea0c181cb5",
   "metadata": {
    "ExecuteTime": {
     "end_time": "2023-10-31T15:32:26.720416500Z",
     "start_time": "2023-10-31T15:32:26.695967200Z"
    },
    "collapsed": false
   },
   "outputs": [],
   "source": [
    "def get_classes_from_binary_vector(bin_vec):\n",
    "    classes_to_return = []\n",
    "    for v, c in zip(bin_vec, CLASSES):\n",
    "        if v==1:\n",
    "            classes_to_return.append(c)\n",
    "    return classes_to_return"
   ]
  },
  {
   "cell_type": "code",
   "execution_count": 26,
   "id": "293c22886a21f4d0",
   "metadata": {
    "ExecuteTime": {
     "end_time": "2023-10-31T15:32:27.021814400Z",
     "start_time": "2023-10-31T15:32:26.988808800Z"
    },
    "collapsed": false
   },
   "outputs": [],
   "source": [
    "min_count = 1"
   ]
  },
  {
   "cell_type": "code",
   "execution_count": 27,
   "id": "3a373895dff4b6b5",
   "metadata": {
    "ExecuteTime": {
     "end_time": "2023-10-31T15:32:27.689809200Z",
     "start_time": "2023-10-31T15:32:27.642810800Z"
    },
    "collapsed": false
   },
   "outputs": [],
   "source": [
    "preds = []\n",
    "for response in all_responses:\n",
    "    # print(response)\n",
    "    aggregated_response = []\n",
    "    for act in CLASSES:\n",
    "        if count_occurrences(act.lower(), response) >= min_count:\n",
    "            aggregated_response.append(1)\n",
    "        else:\n",
    "            aggregated_response.append(0)\n",
    "    preds.append(aggregated_response)"
   ]
  },
  {
   "cell_type": "code",
   "execution_count": 29,
   "id": "34079bbb6d6c094b",
   "metadata": {
    "ExecuteTime": {
     "end_time": "2023-10-31T15:32:34.980111500Z",
     "start_time": "2023-10-31T15:32:34.890099100Z"
    },
    "collapsed": false
   },
   "outputs": [
    {
     "name": "stdout",
     "output_type": "stream",
     "text": [
      "               precision    recall  f1-score   support\n",
      "\n",
      "    BICYCLING       0.81      0.40      0.54        55\n",
      "  LAYING_DOWN       0.40      0.62      0.48        13\n",
      "MOVING_BY_CAR       0.74      0.92      0.82        25\n",
      " ON_TRANSPORT       0.57      1.00      0.73         4\n",
      "      SITTING       0.43      1.00      0.60        13\n",
      "     STANDING       0.43      1.00      0.60        13\n",
      "      WALKING       0.73      0.98      0.84        42\n",
      "\n",
      "    micro avg       0.62      0.75      0.68       165\n",
      "    macro avg       0.59      0.84      0.66       165\n",
      " weighted avg       0.68      0.75      0.67       165\n",
      "  samples avg       0.69      0.78      0.68       165\n"
     ]
    }
   ],
   "source": [
    "print(classification_report(ontology_consistencies[:64], preds, target_names=CLASSES))"
   ]
  },
  {
   "cell_type": "code",
   "execution_count": 67,
   "id": "83c5a7b12b5cf4c",
   "metadata": {
    "ExecuteTime": {
     "end_time": "2023-10-28T19:17:52.266257700Z",
     "start_time": "2023-10-28T19:17:52.222258900Z"
    },
    "collapsed": false
   },
   "outputs": [],
   "source": []
  },
  {
   "cell_type": "code",
   "execution_count": 67,
   "id": "906824ca69aaa498",
   "metadata": {
    "ExecuteTime": {
     "end_time": "2023-10-28T19:17:52.426306700Z",
     "start_time": "2023-10-28T19:17:52.385260700Z"
    },
    "collapsed": false
   },
   "outputs": [],
   "source": []
  },
  {
   "cell_type": "code",
   "execution_count": 68,
   "id": "c500e74d017c35ee",
   "metadata": {
    "ExecuteTime": {
     "end_time": "2023-10-28T19:17:52.679263400Z",
     "start_time": "2023-10-28T19:17:52.582261800Z"
    },
    "collapsed": false
   },
   "outputs": [
    {
     "data": {
      "text/plain": [
       "['BICYCLING',\n",
       " 'LAYING DOWN',\n",
       " 'MOVING BY CAR',\n",
       " 'ON TRANSPORT',\n",
       " 'SITTING',\n",
       " 'STANDING',\n",
       " 'WALKING']"
      ]
     },
     "execution_count": 68,
     "metadata": {},
     "output_type": "execute_result"
    }
   ],
   "source": [
    "CLASSES"
   ]
  },
  {
   "cell_type": "code",
   "execution_count": 58,
   "id": "ddb83a14c88fc866",
   "metadata": {
    "ExecuteTime": {
     "end_time": "2023-10-28T19:17:04.015717900Z",
     "start_time": "2023-10-28T19:17:03.985097200Z"
    },
    "collapsed": false
   },
   "outputs": [],
   "source": []
  },
  {
   "cell_type": "code",
   "execution_count": 59,
   "id": "9b28091d5d99cdee",
   "metadata": {
    "ExecuteTime": {
     "end_time": "2023-10-28T19:17:04.354726400Z",
     "start_time": "2023-10-28T19:17:04.282735800Z"
    },
    "collapsed": false
   },
   "outputs": [
    {
     "name": "stdout",
     "output_type": "stream",
     "text": [
      "[['bicycling', 'walking']] ['WALKING'] ['BICICLYNG', 'WALKING']\n",
      "[['laying down', 'sitting', 'standing', 'walking']] ['SITTING', 'STANDING', 'WALKING'] ['BICICLYNG', 'LAYING_DOWN', 'SITTING', 'STANDING', 'WALKING']\n",
      "[['bicycling', 'moving by car', 'walking']] ['WALKING'] ['BICICLYNG', 'MOVING_BY_CAR', 'WALKING']\n",
      "[['bicycling', 'walking']] ['WALKING'] ['BICICLYNG', 'MOVING_BY_CAR', 'WALKING']\n",
      "[['bicycling', 'moving by car', 'walking']] ['WALKING'] ['BICICLYNG', 'MOVING_BY_CAR', 'WALKING']\n",
      "[['bicycling', 'laying down', 'sitting', 'standing', 'walking']] ['SITTING', 'STANDING', 'WALKING'] ['BICICLYNG', 'LAYING_DOWN', 'SITTING', 'STANDING', 'WALKING']\n",
      "[['bicycling', 'laying down', 'sitting', 'standing', 'walking']] ['SITTING', 'STANDING', 'WALKING'] ['BICICLYNG', 'WALKING']\n",
      "[['bicycling', 'walking']] ['WALKING'] ['BICICLYNG', 'MOVING_BY_CAR', 'WALKING']\n",
      "[['bicycling', 'moving by car', 'walking']] ['WALKING'] ['BICICLYNG', 'MOVING_BY_CAR', 'WALKING']\n",
      "[['laying down', 'sitting', 'standing', 'walking']] ['SITTING', 'STANDING', 'WALKING'] ['BICICLYNG', 'LAYING_DOWN', 'SITTING', 'STANDING', 'WALKING']\n",
      "[['laying down', 'sitting', 'standing', 'walking']] ['SITTING', 'STANDING', 'WALKING'] ['BICICLYNG', 'WALKING']\n",
      "[['laying down', 'sitting', 'standing', 'walking']] ['SITTING', 'STANDING', 'WALKING'] ['BICICLYNG', 'WALKING']\n",
      "[['laying down', 'sitting', 'standing', 'walking']] ['SITTING', 'STANDING', 'WALKING'] ['BICICLYNG', 'LAYING_DOWN', 'SITTING', 'STANDING', 'WALKING']\n",
      "[['laying down', 'sitting', 'standing', 'walking']] ['SITTING', 'STANDING', 'WALKING'] ['BICICLYNG', 'LAYING_DOWN', 'SITTING', 'STANDING', 'WALKING']\n",
      "[['laying down', 'sitting', 'standing', 'walking']] ['SITTING', 'STANDING', 'WALKING'] ['BICICLYNG', 'LAYING_DOWN', 'SITTING', 'STANDING', 'WALKING']\n",
      "[['bicycling', 'walking']] ['WALKING'] ['BICICLYNG', 'WALKING']\n",
      "[['laying down', 'sitting', 'standing', 'walking']] ['SITTING', 'STANDING', 'WALKING'] ['BICICLYNG', 'LAYING_DOWN', 'SITTING', 'STANDING', 'WALKING']\n",
      "[['laying down', 'sitting', 'standing', 'walking']] ['SITTING', 'STANDING', 'WALKING'] ['BICICLYNG', 'WALKING']\n",
      "[['laying down', 'sitting', 'standing', 'walking']] ['SITTING', 'STANDING', 'WALKING'] ['BICICLYNG', 'LAYING_DOWN', 'SITTING', 'STANDING', 'WALKING']\n",
      "[['laying down', 'sitting', 'standing', 'walking']] ['SITTING', 'STANDING', 'WALKING'] ['BICICLYNG', 'LAYING_DOWN', 'SITTING', 'STANDING', 'WALKING']\n",
      "[['laying down', 'sitting', 'standing', 'walking']] ['SITTING', 'STANDING', 'WALKING'] ['BICICLYNG', 'LAYING_DOWN', 'SITTING', 'STANDING', 'WALKING']\n",
      "[['bicycling', 'moving by car', 'walking']] ['WALKING'] ['BICICLYNG', 'MOVING_BY_CAR', 'WALKING']\n",
      "[['laying down', 'sitting', 'standing', 'walking']] ['SITTING', 'STANDING', 'WALKING'] ['BICICLYNG', 'WALKING']\n",
      "[['laying down', 'sitting', 'standing', 'walking']] ['SITTING', 'STANDING', 'WALKING'] ['BICICLYNG', 'WALKING']\n",
      "[['on transport']] [] ['ON_TRANSPORT']\n",
      "[['laying down', 'sitting', 'standing', 'walking']] ['SITTING', 'STANDING', 'WALKING'] ['BICICLYNG', 'LAYING_DOWN', 'SITTING', 'STANDING', 'WALKING']\n",
      "[['bicycling', 'walking']] ['WALKING'] ['BICICLYNG', 'MOVING_BY_CAR']\n",
      "[['bicycling', 'moving by car', 'walking']] ['WALKING'] ['BICICLYNG', 'MOVING_BY_CAR']\n",
      "[['bicycling', 'moving by car', 'walking']] ['WALKING'] ['BICICLYNG', 'MOVING_BY_CAR']\n",
      "[['bicycling', 'moving by car', 'walking']] ['WALKING'] ['BICICLYNG', 'MOVING_BY_CAR']\n",
      "[['bicycling', 'moving by car', 'walking']] ['WALKING'] ['BICICLYNG', 'MOVING_BY_CAR']\n",
      "[['laying down', 'sitting', 'standing', 'walking']] ['SITTING', 'STANDING', 'WALKING'] ['BICICLYNG', 'WALKING']\n",
      "[['bicycling', 'moving by car', 'walking']] ['WALKING'] ['BICICLYNG', 'MOVING_BY_CAR']\n",
      "[['laying down', 'sitting', 'standing', 'walking']] ['SITTING', 'STANDING', 'WALKING'] ['BICICLYNG']\n",
      "[['bicycling', 'moving by car', 'walking']] ['WALKING'] ['BICICLYNG', 'MOVING_BY_CAR']\n",
      "[['bicycling', 'walking']] ['WALKING'] ['BICICLYNG', 'WALKING']\n",
      "[['laying down', 'sitting', 'standing', 'walking']] ['SITTING', 'STANDING', 'WALKING'] ['BICICLYNG', 'WALKING']\n",
      "[['laying down', 'sitting', 'standing', 'walking']] ['SITTING', 'STANDING', 'WALKING'] ['BICICLYNG', 'WALKING']\n",
      "[['laying down', 'sitting', 'standing', 'walking']] ['SITTING', 'STANDING', 'WALKING'] ['BICICLYNG', 'WALKING']\n",
      "[['bicycling', 'moving by car', 'walking']] ['WALKING'] ['MOVING_BY_CAR']\n",
      "[['moving by car']] [] ['MOVING_BY_CAR']\n",
      "[['bicycling', 'moving by car', 'walking']] ['WALKING'] ['MOVING_BY_CAR']\n",
      "[['bicycling', 'moving by car', 'walking']] ['WALKING'] ['MOVING_BY_CAR']\n",
      "[['bicycling', 'moving by car', 'walking']] ['WALKING'] ['BICICLYNG', 'MOVING_BY_CAR', 'WALKING']\n",
      "[['bicycling', 'moving by car', 'walking']] ['WALKING'] ['BICICLYNG', 'MOVING_BY_CAR']\n",
      "[['bicycling', 'moving by car', 'walking']] ['WALKING'] ['BICICLYNG', 'MOVING_BY_CAR']\n",
      "[['bicycling', 'moving by car', 'on transport', 'sitting', 'standing', 'walking']] ['SITTING', 'STANDING', 'WALKING'] ['BICICLYNG', 'MOVING_BY_CAR']\n",
      "[['bicycling', 'moving by car', 'walking']] ['WALKING'] ['BICICLYNG', 'MOVING_BY_CAR']\n",
      "[['walking']] ['WALKING'] ['BICICLYNG', 'MOVING_BY_CAR', 'WALKING']\n",
      "[['bicycling', 'walking']] ['WALKING'] ['BICICLYNG', 'WALKING']\n",
      "[['walking']] ['WALKING'] ['BICICLYNG', 'WALKING']\n",
      "[['walking']] ['WALKING'] ['BICICLYNG', 'WALKING']\n",
      "[['bicycling', 'walking']] ['WALKING'] ['MOVING_BY_CAR']\n",
      "[['bicycling', 'walking']] ['WALKING'] ['BICICLYNG', 'MOVING_BY_CAR']\n",
      "[['laying down', 'sitting', 'standing', 'walking']] ['SITTING', 'STANDING', 'WALKING'] ['BICICLYNG', 'WALKING']\n",
      "[['laying down', 'sitting', 'standing', 'walking']] ['SITTING', 'STANDING', 'WALKING'] ['BICICLYNG', 'LAYING_DOWN', 'SITTING', 'STANDING', 'WALKING']\n",
      "[['laying down', 'sitting', 'standing', 'walking']] ['SITTING', 'STANDING', 'WALKING'] ['BICICLYNG', 'WALKING']\n",
      "[['bicycling', 'laying down', 'sitting', 'standing', 'walking']] ['SITTING', 'STANDING', 'WALKING'] ['BICICLYNG', 'WALKING']\n",
      "[['laying down', 'sitting', 'standing', 'walking']] ['SITTING', 'STANDING', 'WALKING'] ['BICICLYNG', 'LAYING_DOWN', 'SITTING', 'STANDING', 'WALKING']\n",
      "[['laying down', 'sitting', 'standing', 'walking']] ['SITTING', 'STANDING', 'WALKING'] ['BICICLYNG', 'WALKING']\n",
      "[['sitting', 'standing', 'walking']] ['SITTING', 'STANDING', 'WALKING'] ['BICICLYNG', 'WALKING']\n",
      "[['on transport']] [] ['ON_TRANSPORT']\n",
      "[['on transport']] [] ['ON_TRANSPORT']\n",
      "[['on transport']] [] ['ON_TRANSPORT']\n",
      "[['sitting', 'standing', 'walking']] ['SITTING', 'STANDING', 'WALKING'] ['SITTING', 'STANDING', 'WALKING']\n",
      "[['bicycling', 'walking']] ['WALKING'] ['BICICLYNG', 'WALKING']\n",
      "[['bicycling', 'moving by car', 'walking']] ['WALKING'] ['BICICLYNG']\n",
      "[['bicycling', 'walking']] ['WALKING'] ['BICICLYNG']\n",
      "[['laying down', 'sitting', 'standing', 'walking']] ['SITTING', 'STANDING', 'WALKING'] ['SITTING', 'STANDING', 'WALKING']\n",
      "[['bicycling', 'moving by car', 'walking']] ['WALKING'] ['BICICLYNG']\n",
      "[['laying down', 'sitting', 'standing', 'walking']] ['SITTING', 'STANDING', 'WALKING'] ['BICICLYNG', 'WALKING']\n",
      "[['laying down', 'sitting', 'standing', 'walking']] ['SITTING', 'STANDING', 'WALKING'] ['BICICLYNG', 'LAYING_DOWN', 'SITTING', 'STANDING', 'WALKING']\n",
      "[['bicycling', 'moving by car', 'sitting', 'standing', 'walking']] ['SITTING', 'STANDING', 'WALKING'] ['BICICLYNG', 'WALKING']\n",
      "[['bicycling', 'moving by car', 'walking']] ['WALKING'] ['BICICLYNG']\n",
      "[['bicycling', 'moving by car', 'on transport', 'sitting', 'standing', 'walking']] ['SITTING', 'STANDING', 'WALKING'] ['BICICLYNG']\n",
      "[['bicycling', 'walking']] ['WALKING'] ['BICICLYNG']\n",
      "[['bicycling', 'moving by car', 'walking']] ['WALKING'] ['BICICLYNG']\n",
      "[['laying down', 'sitting', 'standing']] ['SITTING', 'STANDING'] ['BICICLYNG', 'WALKING']\n",
      "[['on transport']] [] ['ON_TRANSPORT']\n",
      "[['on transport']] [] ['ON_TRANSPORT']\n",
      "[['on transport']] [] ['ON_TRANSPORT']\n",
      "[['on transport']] [] ['ON_TRANSPORT']\n",
      "[['on transport']] [] ['ON_TRANSPORT']\n",
      "[['bicycling', 'laying down', 'sitting', 'standing', 'walking']] ['SITTING', 'STANDING', 'WALKING'] ['WALKING']\n",
      "[['sitting', 'standing', 'walking']] ['SITTING', 'STANDING', 'WALKING'] ['SITTING', 'STANDING', 'WALKING']\n",
      "[['on transport', 'walking']] ['WALKING'] ['ON_TRANSPORT']\n",
      "[['sitting', 'standing', 'walking']] ['SITTING', 'STANDING', 'WALKING'] ['BICICLYNG', 'WALKING']\n",
      "[['on transport']] [] ['ON_TRANSPORT']\n",
      "[['sitting', 'standing', 'walking']] ['SITTING', 'STANDING', 'WALKING'] ['BICICLYNG', 'WALKING']\n",
      "[['moving by car']] [] ['MOVING_BY_CAR']\n",
      "[['bicycling', 'moving by car', 'walking']] ['WALKING'] ['MOVING_BY_CAR']\n",
      "[['moving by car']] [] ['MOVING_BY_CAR']\n",
      "[['bicycling', 'walking']] ['WALKING'] ['BICICLYNG', 'MOVING_BY_CAR']\n",
      "[['bicycling', 'moving by car', 'walking']] ['WALKING'] ['BICICLYNG', 'MOVING_BY_CAR']\n",
      "[['sitting', 'standing']] ['SITTING', 'STANDING'] ['LAYING_DOWN', 'SITTING', 'STANDING', 'WALKING']\n",
      "[['laying down', 'sitting', 'standing', 'walking']] ['SITTING', 'STANDING', 'WALKING'] ['LAYING_DOWN', 'SITTING', 'STANDING', 'WALKING']\n",
      "[['bicycling', 'laying down', 'sitting', 'standing', 'walking']] ['SITTING', 'STANDING', 'WALKING'] ['LAYING_DOWN', 'SITTING', 'STANDING', 'WALKING']\n",
      "[['bicycling', 'moving by car', 'walking']] ['WALKING'] ['BICICLYNG', 'MOVING_BY_CAR']\n",
      "[['bicycling', 'moving by car', 'walking']] ['WALKING'] ['BICICLYNG', 'MOVING_BY_CAR']\n",
      "[['bicycling', 'moving by car', 'walking']] ['WALKING'] ['BICICLYNG']\n",
      "[['sitting', 'standing']] ['SITTING', 'STANDING'] ['LAYING_DOWN', 'SITTING', 'STANDING', 'WALKING']\n",
      "[['laying down', 'sitting', 'standing', 'walking']] ['SITTING', 'STANDING', 'WALKING'] ['WALKING']\n",
      "[['laying down', 'sitting', 'standing', 'walking']] ['SITTING', 'STANDING', 'WALKING'] ['BICICLYNG', 'LAYING_DOWN', 'SITTING', 'STANDING', 'WALKING']\n",
      "[['bicycling', 'moving by car', 'walking']] ['WALKING'] ['BICICLYNG', 'WALKING']\n",
      "[['bicycling', 'moving by car', 'walking']] ['WALKING'] ['MOVING_BY_CAR']\n",
      "[['bicycling', 'moving by car', 'on transport', 'sitting', 'standing', 'walking']] ['SITTING', 'STANDING', 'WALKING'] ['MOVING_BY_CAR']\n",
      "[['bicycling', 'moving by car', 'sitting', 'standing', 'walking']] ['SITTING', 'STANDING', 'WALKING'] ['BICICLYNG', 'WALKING']\n",
      "[['laying down', 'sitting', 'standing', 'walking']] ['SITTING', 'STANDING', 'WALKING'] ['BICICLYNG', 'WALKING']\n",
      "[['bicycling', 'moving by car', 'walking']] ['WALKING'] ['WALKING']\n",
      "[['sitting', 'standing', 'walking']] ['SITTING', 'STANDING', 'WALKING'] ['WALKING']\n",
      "[['laying down', 'sitting', 'standing', 'walking']] ['SITTING', 'STANDING', 'WALKING'] ['BICICLYNG', 'WALKING']\n",
      "[['sitting', 'standing', 'walking']] ['SITTING', 'STANDING', 'WALKING'] ['SITTING', 'STANDING', 'WALKING']\n",
      "[['bicycling', 'moving by car', 'sitting', 'standing', 'walking']] ['SITTING', 'STANDING', 'WALKING'] ['BICICLYNG', 'WALKING']\n",
      "[['laying down', 'sitting', 'standing']] ['SITTING', 'STANDING'] ['BICICLYNG', 'WALKING']\n",
      "[['bicycling', 'laying down', 'sitting', 'standing', 'walking']] ['SITTING', 'STANDING', 'WALKING'] ['BICICLYNG', 'WALKING']\n",
      "[['bicycling', 'laying down', 'moving by car', 'sitting', 'standing', 'walking']] ['SITTING', 'STANDING', 'WALKING'] ['BICICLYNG', 'WALKING']\n",
      "[['on transport']] [] ['ON_TRANSPORT']\n",
      "[['on transport']] [] ['ON_TRANSPORT']\n",
      "[['laying down', 'sitting', 'standing', 'walking']] ['SITTING', 'STANDING', 'WALKING'] ['SITTING', 'STANDING', 'WALKING']\n",
      "[['laying down', 'sitting', 'standing', 'walking']] ['SITTING', 'STANDING', 'WALKING'] ['LAYING_DOWN', 'SITTING', 'STANDING', 'WALKING']\n",
      "[['on transport']] [] ['ON_TRANSPORT']\n",
      "[['laying down', 'sitting', 'standing', 'walking']] ['SITTING', 'STANDING', 'WALKING'] ['BICICLYNG', 'WALKING']\n",
      "[['laying down', 'sitting', 'standing', 'walking']] ['SITTING', 'STANDING', 'WALKING'] ['BICICLYNG', 'LAYING_DOWN', 'SITTING', 'STANDING', 'WALKING']\n",
      "[['bicycling', 'moving by car', 'walking']] ['WALKING'] ['BICICLYNG']\n",
      "[['walking']] ['WALKING'] ['BICICLYNG']\n",
      "[['laying down', 'sitting', 'standing', 'walking']] ['SITTING', 'STANDING', 'WALKING'] ['BICICLYNG', 'WALKING']\n",
      "[['laying down', 'sitting', 'standing', 'walking']] ['SITTING', 'STANDING', 'WALKING'] ['BICICLYNG', 'WALKING']\n",
      "[['laying down', 'sitting', 'standing', 'walking']] ['SITTING', 'STANDING', 'WALKING'] ['BICICLYNG', 'WALKING']\n",
      "[['bicycling', 'walking']] ['WALKING'] ['BICICLYNG', 'MOVING_BY_CAR']\n",
      "[['bicycling', 'moving by car', 'walking']] ['WALKING'] ['BICICLYNG', 'MOVING_BY_CAR']\n",
      "[['bicycling', 'moving by car', 'walking']] ['WALKING'] ['BICICLYNG', 'MOVING_BY_CAR']\n",
      "[['bicycling', 'moving by car', 'walking']] ['WALKING'] ['BICICLYNG', 'MOVING_BY_CAR']\n",
      "[['laying down', 'sitting', 'standing', 'walking']] ['SITTING', 'STANDING', 'WALKING'] ['BICICLYNG']\n",
      "[['sitting', 'standing', 'walking']] ['SITTING', 'STANDING', 'WALKING'] ['BICICLYNG', 'WALKING']\n",
      "[['bicycling', 'walking']] ['WALKING'] ['BICICLYNG']\n",
      "[['laying down', 'sitting', 'standing', 'walking']] ['SITTING', 'STANDING', 'WALKING'] ['BICICLYNG', 'WALKING']\n",
      "[['sitting', 'standing', 'walking']] ['SITTING', 'STANDING', 'WALKING'] ['BICICLYNG', 'WALKING']\n",
      "[['bicycling', 'walking']] ['WALKING'] ['BICICLYNG']\n",
      "[['walking']] ['WALKING'] ['BICICLYNG', 'WALKING']\n",
      "[['laying down', 'sitting', 'standing', 'walking']] ['SITTING', 'STANDING', 'WALKING'] ['BICICLYNG', 'LAYING_DOWN', 'SITTING', 'STANDING', 'WALKING']\n",
      "[['laying down', 'sitting', 'standing', 'walking']] ['SITTING', 'STANDING', 'WALKING'] ['BICICLYNG', 'WALKING']\n",
      "[['laying down', 'sitting', 'standing', 'walking']] ['SITTING', 'STANDING', 'WALKING'] ['BICICLYNG', 'LAYING_DOWN', 'SITTING', 'STANDING', 'WALKING']\n",
      "[['bicycling', 'moving by car', 'walking']] ['WALKING'] ['MOVING_BY_CAR']\n",
      "[['laying down', 'sitting', 'standing', 'walking']] ['SITTING', 'STANDING', 'WALKING'] ['SITTING', 'STANDING', 'WALKING']\n"
     ]
    }
   ],
   "source": [
    "for r, c, p in zip(all_responses, unique_contexts_ontology_consistencies, preds):\n",
    "    print(r, get_classes_from_binary_vector(p), get_classes_from_binary_vector(c))"
   ]
  },
  {
   "cell_type": "code",
   "execution_count": null,
   "id": "c2a980f162cd5e46",
   "metadata": {
    "collapsed": false
   },
   "outputs": [],
   "source": []
  },
  {
   "cell_type": "code",
   "execution_count": null,
   "id": "dac24d0fd9560bb3",
   "metadata": {
    "collapsed": false
   },
   "outputs": [],
   "source": []
  },
  {
   "cell_type": "markdown",
   "id": "ab3155628260ca33",
   "metadata": {
    "collapsed": false
   },
   "source": [
    "# Get results for DL"
   ]
  },
  {
   "cell_type": "code",
   "execution_count": 42,
   "id": "791962036abf9730",
   "metadata": {
    "ExecuteTime": {
     "end_time": "2023-10-25T08:17:34.051830Z",
     "start_time": "2023-10-25T08:17:33.987953200Z"
    },
    "collapsed": false
   },
   "outputs": [],
   "source": [
    "#TODO"
   ]
  }
 ],
 "metadata": {
  "kernelspec": {
   "display_name": "Python 3",
   "language": "python",
   "name": "python3"
  },
  "language_info": {
   "codemirror_mode": {
    "name": "ipython",
    "version": 3
   },
   "file_extension": ".py",
   "mimetype": "text/x-python",
   "name": "python",
   "nbconvert_exporter": "python",
   "pygments_lexer": "ipython3",
   "version": "3.9.13"
  }
 },
 "nbformat": 4,
 "nbformat_minor": 5
}
