{
 "cells": [
  {
   "cell_type": "markdown",
   "id": "e23b209ad1e8d4ce",
   "metadata": {
    "collapsed": false,
    "jupyter": {
     "outputs_hidden": false
    }
   },
   "source": [
    "# Setup"
   ]
  },
  {
   "cell_type": "code",
   "execution_count": null,
   "id": "initial_id",
   "metadata": {
    "ExecuteTime": {
     "end_time": "2023-10-27T07:58:02.644677200Z",
     "start_time": "2023-10-27T07:57:50.995919700Z"
    }
   },
   "outputs": [],
   "source": [
    "#!pip install -r requirements.txt\n",
    "import pickle as pkl\n",
    "from context_descriptor import ContextDescriptor\n",
    "from prompt_generator import PromptGenerator\n",
    "from model_request_handler import ModelRequestHandler\n",
    "from open_ai_request_handler import OpenAiRequestHandler\n",
    "import numpy as np\n",
    "from examples_manager import Examples_manager\n",
    "from sklearn.metrics import classification_report\n",
    "import time\n",
    "from IPython.display import clear_output\n",
    "import os\n",
    "\n",
    "with open(\"open_ai_api_key.txt\") as f:\n",
    "    OPEN_AI_API_KEY = f.readline()\n",
    "    \n",
    "clear_output()\n",
    "print(\"Setup complete\")"
   ]
  },
  {
   "cell_type": "markdown",
   "id": "ad28f9d8-b61e-42a5-9fe3-ae4136c3aec1",
   "metadata": {
    "ExecuteTime": {
     "end_time": "2023-10-31T15:53:13.019046600Z",
     "start_time": "2023-10-31T15:53:12.998006900Z"
    },
    "collapsed": false,
    "jupyter": {
     "outputs_hidden": false
    }
   },
   "source": [
    "# Select dataset"
   ]
  },
  {
   "cell_type": "code",
   "execution_count": null,
   "id": "c99adbbe10c421b",
   "metadata": {
    "ExecuteTime": {
     "end_time": "2023-10-27T07:58:06.498576900Z",
     "start_time": "2023-10-27T07:58:06.432579400Z"
    }
   },
   "outputs": [],
   "source": [
    "DATASET = \"EXTRASENSORY\"\n",
    "if DATASET not in [\"DOMINO\", \"EXTRASENSORY\"]:\n",
    "    raise ValueError(\"DATASET name must be 'DOMINO' or 'EXTRASENSORY'\")"
   ]
  },
  {
   "cell_type": "markdown",
   "id": "65b13ddfd26147de",
   "metadata": {
    "collapsed": false,
    "jupyter": {
     "outputs_hidden": false
    }
   },
   "source": [
    "# Load dataset"
   ]
  },
  {
   "cell_type": "code",
   "execution_count": null,
   "id": "fa24b24792f4e1d6",
   "metadata": {
    "ExecuteTime": {
     "end_time": "2023-10-27T07:58:07.022588400Z",
     "start_time": "2023-10-27T07:58:06.886582300Z"
    }
   },
   "outputs": [],
   "source": [
    "extrasensory_classes = ['BICYCLING', 'LAYING_DOWN', 'MOVING_BY_CAR', 'ON_TRANSPORT', 'SITTING', 'STANDING', 'WALKING']\n",
    "domino_classes = ['BRUSHING_TEETH', 'CYCLING', 'ELEVATOR_DOWN', 'ELEVATOR_UP', 'LYING', 'MOVING_BY_CAR', 'RUNNING', 'SITTING', 'SITTING_ON_TRANSPORT', 'STAIRS_DOWN', 'STAIRS_UP', 'STANDING', 'STANDING_ON_TRANSPORT', 'WALKING']"
   ]
  },
  {
   "cell_type": "code",
   "execution_count": null,
   "id": "773d17aa4c791892",
   "metadata": {
    "ExecuteTime": {
     "end_time": "2023-10-27T07:58:08.011578900Z",
     "start_time": "2023-10-27T07:58:07.921577800Z"
    }
   },
   "outputs": [],
   "source": [
    "if DATASET == \"DOMINO\":\n",
    "    CLASSES = domino_classes\n",
    "elif DATASET == \"EXTRASENSORY\":\n",
    "    CLASSES = extrasensory_classes\n",
    "else:\n",
    "    CLASSES = None\n",
    "    raise ValueError(\"DATASET name must be 'DOMINO' or 'EXTRASENSORY'\")"
   ]
  },
  {
   "cell_type": "code",
   "execution_count": null,
   "id": "5b0df3761f738f38",
   "metadata": {
    "ExecuteTime": {
     "end_time": "2023-10-27T07:58:13.173160700Z",
     "start_time": "2023-10-27T07:58:13.000168300Z"
    }
   },
   "outputs": [],
   "source": [
    "if DATASET == \"DOMINO\":\n",
    "    with open(\"datasets/domino/domino_unique_contexts.pkl\", \"rb\") as file:\n",
    "        unique_contexts = pkl.load(file)\n",
    "    with open(\"datasets/domino/domino_unique_contexts_ontology_consistencies.pkl\", \"rb\") as file:\n",
    "        unique_contexts_ontology_consistencies = pkl.load(file)\n",
    "    with open(\"datasets/domino/domino_unique_contexts_labels.pkl\", \"rb\") as file:\n",
    "        unique_contexts_labels = pkl.load(file)\n",
    "    with open(\"datasets/domino/domino_unique_contexts_occurrences.pkl\", \"rb\") as file:\n",
    "        unique_occurrences = pkl.load(file)\n",
    "    with open(\"datasets/domino/domino-segmented-w4-hz50.txt\", \"rb\") as file:\n",
    "        domino = pkl.load(file)\n",
    "        context = domino['enhanced_context']\n",
    "\n",
    "elif DATASET == \"EXTRASENSORY\":\n",
    "    with open(\"datasets/extrasensory/extrasensory_unique_contexts.pkl\", \"rb\") as file:\n",
    "        unique_contexts = pkl.load(file)\n",
    "    with open(\"datasets/extrasensory/extrasensory_unique_contexts_labels.pkl\", \"rb\") as file:\n",
    "        unique_contexts_labels = pkl.load(file)\n",
    "    with open(\"datasets/extrasensory/extrasensory_unique_contexts_ontology_consistencies.pkl\", \"rb\") as file:\n",
    "        unique_contexts_ontology_consistencies = pkl.load(file)\n",
    "    with open(\"datasets/extrasensory/extrasensory_unique_contexts_occurrences.pkl\", \"rb\") as file:\n",
    "        unique_occurrences = pkl.load(file)\n",
    "    with open('datasets/extrasensory/extrasensory.pkl', \"rb\") as f:    \n",
    "        extrasensory = pkl.load(f)\n",
    "        context = extrasensory['context']\n",
    "        \n",
    "else:\n",
    "    raise ValueError(\"DATASET name must be 'DOMINO' or 'EXTRASENSORY'\")"
   ]
  },
  {
   "cell_type": "markdown",
   "id": "d1ecfded74ee4b8e",
   "metadata": {
    "collapsed": false,
    "jupyter": {
     "outputs_hidden": false
    }
   },
   "source": [
    "# Define system message"
   ]
  },
  {
   "cell_type": "code",
   "execution_count": null,
   "id": "404b020aea980bb7",
   "metadata": {
    "ExecuteTime": {
     "end_time": "2023-10-27T07:58:14.433204Z",
     "start_time": "2023-10-27T07:58:14.378203600Z"
    }
   },
   "outputs": [],
   "source": [
    "system_message = f'''You are a domain expert in charge of checking which human activities are suitable with respect to the current surrounding context of a user. You will receive as input a description of the surrounding context of the user. You have to determine which are the activities that are suitable in the given context. This is the list of the possible user activities that you have to consider: {', '.join(CLASSES)}. Accomplish the task by following the steps below:Step 1: Analyze the context.Step 2: Determine which activities are likely in the given context, by analyzing each activity. Apply the open-world assumption: anything that is not explicit in the surrounding context of the user may be possible. Do not exclude activities for which you cannot determine their likelihood or the ones for which there are no specific information about objects and vehicles that the user is using.Step 3: Provide the result in the form of a list.'''"
   ]
  },
  {
   "cell_type": "code",
   "execution_count": null,
   "id": "7a0dba073a55bfd2",
   "metadata": {
    "ExecuteTime": {
     "end_time": "2023-10-27T07:58:15.266544800Z",
     "start_time": "2023-10-27T07:58:15.240564600Z"
    }
   },
   "outputs": [],
   "source": [
    "#Think about the \"answer and step by step analyze each activity.\n",
    "#system_message += \"In the following i'll give you some examples of contexts that you can receive and the answer \" \\\n",
    "#                  \"that i would expect: \""
   ]
  },
  {
   "cell_type": "markdown",
   "id": "99e4c3d280c439ea",
   "metadata": {
    "collapsed": false,
    "jupyter": {
     "outputs_hidden": false
    }
   },
   "source": [
    "# Initialize helper classes"
   ]
  },
  {
   "cell_type": "code",
   "execution_count": null,
   "id": "b47b2049f579e102",
   "metadata": {
    "ExecuteTime": {
     "end_time": "2023-10-27T07:58:19.397204Z",
     "start_time": "2023-10-27T07:58:19.362170900Z"
    }
   },
   "outputs": [],
   "source": [
    "contest_descriptor = ContextDescriptor()\n",
    "prompt_generator = PromptGenerator(system_message)\n",
    "request_handler = OpenAiRequestHandler(api_key=OPEN_AI_API_KEY)"
   ]
  },
  {
   "cell_type": "markdown",
   "id": "7b53742f1deddf6b",
   "metadata": {
    "collapsed": false,
    "jupyter": {
     "outputs_hidden": false
    }
   },
   "source": [
    "# Initialize example manager"
   ]
  },
  {
   "cell_type": "code",
   "execution_count": null,
   "id": "abb45f3dbdbb037a",
   "metadata": {
    "ExecuteTime": {
     "end_time": "2023-10-27T07:58:24.022851Z",
     "start_time": "2023-10-27T07:58:21.941850700Z"
    }
   },
   "outputs": [],
   "source": [
    "if DATASET == \"DOMINO\":\n",
    "    example_manager = Examples_manager(\"domino_examples.csv\")\n",
    "elif DATASET == \"EXTRASENSORY\":\n",
    "    example_manager = Examples_manager(\"extrasensory_examples.csv\")\n",
    "else:\n",
    "    example_manager = None\n",
    "    raise ValueError(\"DATASET name must be 'DOMINO' or 'EXTRASENSORY'\")"
   ]
  },
  {
   "cell_type": "markdown",
   "id": "9685c917be20d219",
   "metadata": {
    "collapsed": false,
    "jupyter": {
     "outputs_hidden": false
    }
   },
   "source": [
    "# Choose context desciption function"
   ]
  },
  {
   "cell_type": "code",
   "execution_count": null,
   "id": "7535f1e5c1376695",
   "metadata": {
    "ExecuteTime": {
     "end_time": "2023-10-27T07:58:25.235539500Z",
     "start_time": "2023-10-27T07:58:25.199542300Z"
    }
   },
   "outputs": [],
   "source": [
    "if DATASET == \"DOMINO\":\n",
    "    create_context_description = lambda context_vector: contest_descriptor.create_domino_context_description(context_vector)\n",
    "elif DATASET == \"EXTRASENSORY\":\n",
    "    create_context_description = lambda context_vector: contest_descriptor.create_extrasensory_context_description(context_vector)\n",
    "else:\n",
    "    create_context_description = None\n",
    "    raise ValueError(\"DATASET name must be 'DOMINO' or 'EXTRASENSORY'\")"
   ]
  },
  {
   "cell_type": "markdown",
   "id": "572581ba85558ab7",
   "metadata": {
    "collapsed": false,
    "jupyter": {
     "outputs_hidden": false
    }
   },
   "source": [
    "# Make the api calls"
   ]
  },
  {
   "cell_type": "code",
   "execution_count": null,
   "id": "c513ed99-86a4-4277-badb-a9940ddcbd82",
   "metadata": {},
   "outputs": [],
   "source": [
    "k = #INSERT K"
   ]
  },
  {
   "cell_type": "code",
   "execution_count": null,
   "metadata": {},
   "outputs": [],
   "source": [
    "def get_classes_from_binary_vector(bin_vec):\n",
    "    classes_to_return = []\n",
    "    for v, c in zip(bin_vec, CLASSES):\n",
    "        if v==1:\n",
    "            classes_to_return.append(c)\n",
    "    return classes_to_return"
   ]
  },
  {
   "cell_type": "code",
   "execution_count": null,
   "id": "f7fd20f31ef70dc3",
   "metadata": {
    "ExecuteTime": {
     "end_time": "2023-10-27T08:05:20.440767800Z",
     "start_time": "2023-10-27T07:58:30.534272900Z"
    }
   },
   "outputs": [],
   "source": [
    "start_time = time.time()\n",
    "all_responses = []\n",
    "all_usages = []\n",
    "i = 0\n",
    "for c, l, o in list(zip(unique_contexts, unique_contexts_labels, unique_contexts_ontology_consistencies)):\n",
    "    i += 1\n",
    "    print(i, get_classes_from_binary_vector(o))\n",
    "    #print(o, get_classes_from_binary_vector(o))\n",
    "    description = create_context_description(c)\n",
    "    #print(description)\n",
    "    most_similar_examples =  example_manager.get_most_similar_examples(description, 'cosine',k)\n",
    "    #print(description)\n",
    "    prompt = prompt_generator.generate_prompt(description, most_similar_examples)\n",
    "    #print(prompt)\n",
    "    responses, usages = request_handler.handle_request(prompt, repetitions=1, return_all=True)\n",
    "    #print(responses)\n",
    "    if [a.upper() for a in responses[0]] != get_classes_from_binary_vector(o) and [a.lower() for a in responses[0]] != get_classes_from_binary_vector(o):\n",
    "        print()\n",
    "        print(description, \"\\n\", get_classes_from_binary_vector(o), \"\\n\", responses[0])\n",
    "    all_responses.append(responses)\n",
    "    all_usages.append(usages)\n",
    "    print(\"---------------------------------------------------------------------------------\")\n",
    "print(\"--- %s seconds ---\" % (time.time() - start_time))"
   ]
  },
  {
   "cell_type": "markdown",
   "id": "3e1211a64bfa7f11",
   "metadata": {
    "collapsed": false,
    "jupyter": {
     "outputs_hidden": false
    }
   },
   "source": [
    "# Dump data"
   ]
  },
  {
   "cell_type": "markdown",
   "id": "32779ea0d39528f",
   "metadata": {
    "collapsed": false,
    "jupyter": {
     "outputs_hidden": false
    }
   },
   "source": [
    "## Dump answers"
   ]
  },
  {
   "cell_type": "code",
   "execution_count": null,
   "id": "31efd07b-9f98-42a7-8fa1-3454e0549905",
   "metadata": {},
   "outputs": [],
   "source": [
    "if not os.path.exists(\"answers\"):\n",
    "   os.makedirs(\"answers\")\n",
    "if not os.path.exists(\"answers/extrasensory\"):\n",
    "   os.makedirs(\"answers/extrasensory\")\n",
    "if not os.path.exists(\"answers/domino\"):\n",
    "   os.makedirs(\"answers/domino\")"
   ]
  },
  {
   "cell_type": "code",
   "execution_count": null,
   "id": "d3d76bd96bb2592f",
   "metadata": {
    "ExecuteTime": {
     "end_time": "2023-10-31T15:32:19.804709400Z",
     "start_time": "2023-10-31T15:32:19.782715Z"
    }
   },
   "outputs": [],
   "source": [
    "if DATASET == \"DOMINO\":\n",
    "    answers_path = f\"answers/domino/answers_k{k}.pkl\"\n",
    "elif DATASET == \"EXTRASENSORY\":\n",
    "    answers_path = f\"answers/extrasensory/answers_k{k}.pkl\"\n",
    "else:\n",
    "    answers_path = None\n",
    "    raise ValueError(\"DATASET name must be 'DOMINO' or 'EXTRASENSORY'\")"
   ]
  },
  {
   "cell_type": "code",
   "execution_count": null,
   "id": "9757b1633f9d9a6c",
   "metadata": {
    "ExecuteTime": {
     "end_time": "2023-10-31T15:32:20.600619Z",
     "start_time": "2023-10-31T15:32:20.543586600Z"
    }
   },
   "outputs": [],
   "source": [
    "with open(answers_path, \"wb\") as file:\n",
    "    pkl.dump(all_responses, file)"
   ]
  },
  {
   "cell_type": "markdown",
   "id": "4eeb1de3f4a3aa99",
   "metadata": {
    "collapsed": false,
    "jupyter": {
     "outputs_hidden": false
    }
   },
   "source": [
    "# Dump usages"
   ]
  },
  {
   "cell_type": "code",
   "execution_count": null,
   "id": "341e651d-c2ca-4768-b820-f4b1abf07a2a",
   "metadata": {},
   "outputs": [],
   "source": [
    "if not os.path.exists(\"usages\"):\n",
    "   os.makedirs(\"usages\")\n",
    "if not os.path.exists(\"usages/extrasensory\"):\n",
    "   os.makedirs(\"usages/extrasensory\")\n",
    "if not os.path.exists(\"usages/domino\"):\n",
    "   os.makedirs(\"usages/domino\")"
   ]
  },
  {
   "cell_type": "code",
   "execution_count": null,
   "id": "3bbcefe82e11f2c1",
   "metadata": {
    "ExecuteTime": {
     "end_time": "2023-10-31T15:32:21.125894600Z",
     "start_time": "2023-10-31T15:32:21.097434Z"
    }
   },
   "outputs": [],
   "source": [
    "if DATASET == \"DOMINO\":\n",
    "    usages_path = f\"usages/domino/usages_k{k}.pkl\"\n",
    "elif DATASET == \"EXTRASENSORY\":\n",
    "    usages_path = f\"usages/extrasensory/usages_k{k}.pkl\"\n",
    "else:\n",
    "    usages_path = None\n",
    "    raise ValueError(\"DATASET name must be 'DOMINO' or 'EXTRASENSORY'\")"
   ]
  },
  {
   "cell_type": "code",
   "execution_count": null,
   "id": "94230f1055b2f420",
   "metadata": {
    "ExecuteTime": {
     "end_time": "2023-10-31T15:32:21.787396700Z",
     "start_time": "2023-10-31T15:32:21.710399900Z"
    }
   },
   "outputs": [],
   "source": [
    "with open(usages_path, \"wb\") as file:\n",
    "    pkl.dump(all_usages, file)"
   ]
  },
  {
   "cell_type": "markdown",
   "id": "ac524d73909ed0c0",
   "metadata": {
    "collapsed": false,
    "jupyter": {
     "outputs_hidden": false
    }
   },
   "source": [
    "# Load answers and ontology"
   ]
  },
  {
   "cell_type": "code",
   "execution_count": null,
   "id": "444ad2f989868013",
   "metadata": {
    "ExecuteTime": {
     "end_time": "2023-10-31T15:32:24.021657200Z",
     "start_time": "2023-10-31T15:32:23.998653Z"
    }
   },
   "outputs": [],
   "source": [
    "if DATASET == \"DOMINO\":\n",
    "    answers_path = f\"answers/domino/answers_k{k}.pkl\"\n",
    "elif DATASET == \"EXTRASENSORY\":\n",
    "    answers_path = f\"answers/extrasensory/answers_k{k}.pkl\"\n",
    "else:\n",
    "    answers_path = None\n",
    "    raise ValueError(\"DATASET name must be 'DOMINO' or 'EXTRASENSORY'\")"
   ]
  },
  {
   "cell_type": "code",
   "execution_count": null,
   "id": "a6262ec3951d8633",
   "metadata": {
    "ExecuteTime": {
     "end_time": "2023-10-31T15:32:24.726880800Z",
     "start_time": "2023-10-31T15:32:24.687584500Z"
    }
   },
   "outputs": [],
   "source": [
    "if DATASET == \"DOMINO\":\n",
    "    ontology_path = f'datasets/domino/domino_unique_contexts_ontology_consistencies.pkl'\n",
    "elif DATASET == \"EXTRASENSORY\":\n",
    "    ontology_path = f\"datasets/extrasensory/extrasensory_unique_contexts_ontology_consistencies.pkl\"\n",
    "else:\n",
    "    answers_path = None\n",
    "    raise ValueError(\"DATASET name must be 'DOMINO' or 'EXTRASENSORY'\")"
   ]
  },
  {
   "cell_type": "code",
   "execution_count": null,
   "id": "19bf7c0262f1f635",
   "metadata": {
    "ExecuteTime": {
     "end_time": "2023-10-31T15:32:25.383064300Z",
     "start_time": "2023-10-31T15:32:25.346060600Z"
    }
   },
   "outputs": [],
   "source": [
    "with open(answers_path, \"rb\") as file:\n",
    "    all_responses = pkl.load(file)\n",
    "with open(ontology_path, \"rb\") as file:\n",
    "    ontology_consistencies = pkl.load(file)"
   ]
  },
  {
   "cell_type": "markdown",
   "id": "a0f0626f2d25f10d",
   "metadata": {
    "collapsed": false,
    "jupyter": {
     "outputs_hidden": false
    }
   },
   "source": [
    "# Compute results"
   ]
  },
  {
   "cell_type": "code",
   "execution_count": null,
   "id": "ff58772a35144ff6",
   "metadata": {
    "ExecuteTime": {
     "end_time": "2023-10-31T15:32:26.429027400Z",
     "start_time": "2023-10-31T15:32:26.407998100Z"
    }
   },
   "outputs": [],
   "source": [
    "def count_occurrences(activity, list_of_lists):\n",
    "    count = 0\n",
    "    for sublist in list_of_lists:\n",
    "        count += sublist.count(activity)\n",
    "    return count"
   ]
  },
  {
   "cell_type": "code",
   "execution_count": null,
   "id": "293c22886a21f4d0",
   "metadata": {
    "ExecuteTime": {
     "end_time": "2023-10-31T15:32:27.021814400Z",
     "start_time": "2023-10-31T15:32:26.988808800Z"
    }
   },
   "outputs": [],
   "source": [
    "min_count = 1"
   ]
  },
  {
   "cell_type": "code",
   "execution_count": null,
   "id": "3a373895dff4b6b5",
   "metadata": {
    "ExecuteTime": {
     "end_time": "2023-10-31T15:32:27.689809200Z",
     "start_time": "2023-10-31T15:32:27.642810800Z"
    }
   },
   "outputs": [],
   "source": [
    "preds = []\n",
    "for response in all_responses:\n",
    "    # print(response)\n",
    "    aggregated_response = []\n",
    "    for act in CLASSES:\n",
    "        if count_occurrences(act.lower(), response) >= min_count:\n",
    "            aggregated_response.append(1)\n",
    "        else:\n",
    "            aggregated_response.append(0)\n",
    "    preds.append(aggregated_response)"
   ]
  },
  {
   "cell_type": "code",
   "execution_count": null,
   "id": "34079bbb6d6c094b",
   "metadata": {
    "ExecuteTime": {
     "end_time": "2023-10-31T15:32:34.980111500Z",
     "start_time": "2023-10-31T15:32:34.890099100Z"
    }
   },
   "outputs": [],
   "source": [
    "print(classification_report(ontology_consistencies, preds, target_names=CLASSES))"
   ]
  },
  {
   "cell_type": "markdown",
   "id": "ab3155628260ca33",
   "metadata": {
    "collapsed": false,
    "jupyter": {
     "outputs_hidden": false
    }
   },
   "source": [
    "# Get results for DL"
   ]
  },
  {
   "cell_type": "code",
   "execution_count": null,
   "id": "d682f29d-5052-47fc-8d48-92f7704c1946",
   "metadata": {},
   "outputs": [],
   "source": [
    "if not os.path.exists(\"consistencies\"):\n",
    "   os.makedirs(\"consistencies\")\n",
    "if not os.path.exists(\"consistencies/extrasensory\"):\n",
    "   os.makedirs(\"consistencies/extrasensory\")\n",
    "if not os.path.exists(\"consistencies/domino\"):\n",
    "   os.makedirs(\"consistencies/domino\")"
   ]
  },
  {
   "cell_type": "code",
   "execution_count": null,
   "id": "791962036abf9730",
   "metadata": {
    "ExecuteTime": {
     "end_time": "2023-10-25T08:17:34.051830Z",
     "start_time": "2023-10-25T08:17:33.987953200Z"
    }
   },
   "outputs": [],
   "source": [
    "#TODO\n",
    "#CREATE FINAL CONSISTENCY LIST\n",
    "list_consistencies = [0] * len(context)\n",
    "y = 0\n",
    "for i, un in enumerate(unique_contexts):\n",
    "    for occ in unique_occurrences[i]:\n",
    "        list_consistencies[occ] = all_responses[y] #all_responses = lista di consistenza univoca, sarebbe preds in un caso normale\n",
    "    y+=1"
   ]
  },
  {
   "cell_type": "code",
   "execution_count": null,
   "id": "10cceb7d",
   "metadata": {},
   "outputs": [],
   "source": [
    "len(list_consistencies)"
   ]
  },
  {
   "cell_type": "code",
   "execution_count": null,
   "id": "736746fb-e654-4219-8a25-3f78b5db42b2",
   "metadata": {},
   "outputs": [],
   "source": [
    "if DATASET == \"DOMINO\":\n",
    "    consistencies_path = f'consistencies/domino/consistencies_llm_k{k}.pkl'\n",
    "elif DATASET == \"EXTRASENSORY\":\n",
    "    consistencies_path = f\"consistencies/extrasensory/consistencies_llm_k{k}.pkl\"\n",
    "else:\n",
    "    consistencies_path = None\n",
    "    raise ValueError(\"DATASET name must be 'DOMINO' or 'EXTRASENSORY'\")"
   ]
  },
  {
   "cell_type": "code",
   "execution_count": null,
   "id": "5af80421",
   "metadata": {},
   "outputs": [],
   "source": [
    "with open(consistencies_path, \"wb\") as file:\n",
    "    pkl.dump(np.array(list_consistencies), file)"
   ]
  },
  {
   "cell_type": "markdown",
   "metadata": {},
   "source": [
    "# AUTOMATED EXPERIMENTS"
   ]
  },
  {
   "cell_type": "code",
   "execution_count": null,
   "metadata": {},
   "outputs": [],
   "source": [
    "tresholds = [0.5]"
   ]
  },
  {
   "cell_type": "code",
   "execution_count": null,
   "metadata": {},
   "outputs": [],
   "source": [
    "#CREATE FOLDERS\n",
    "if not os.path.exists(\"answers\"):\n",
    "    os.makedirs(\"answers\")\n",
    "if not os.path.exists(\"answers/extrasensory\"):\n",
    "    os.makedirs(\"answers/extrasensory\")\n",
    "if not os.path.exists(\"answers/domino\"):\n",
    "    os.makedirs(\"answers/domino\")\n",
    "\n",
    "if not os.path.exists(\"usages\"):\n",
    "    os.makedirs(\"usages\")\n",
    "if not os.path.exists(\"usages/extrasensory\"):\n",
    "    os.makedirs(\"usages/extrasensory\")\n",
    "if not os.path.exists(\"usages/domino\"):\n",
    "    os.makedirs(\"usages/domino\")\n",
    "\n",
    "if not os.path.exists(\"n_examples\"):\n",
    "    os.makedirs(\"n_examples\")\n",
    "if not os.path.exists(\"n_examples/extrasensory\"):\n",
    "    os.makedirs(\"n_examples/extrasensory\")\n",
    "if not os.path.exists(\"n_examples/domino\"):\n",
    "    os.makedirs(\"n_examples/domino\")\n",
    "\n",
    "for k in tresholds:\n",
    "    start_time = time.time()\n",
    "    all_responses = []\n",
    "    all_usages = []\n",
    "    n_examples = []\n",
    "    i = 0\n",
    "    for c, l, o in list(zip(unique_contexts, unique_contexts_labels, unique_contexts_ontology_consistencies)):\n",
    "        i += 1\n",
    "        print(i, get_classes_from_binary_vector(o))\n",
    "        #print(o, get_classes_from_binary_vector(o))\n",
    "        description = create_context_description(c)\n",
    "        #print(description)\n",
    "        most_similar_examples =  example_manager.get_most_similar_examples(description, 'cosine',k)\n",
    "        n_examples.append(len(most_similar_examples))\n",
    "        #print(description)\n",
    "        prompt = prompt_generator.generate_prompt(description, most_similar_examples)\n",
    "        #print(prompt)\n",
    "        responses, usages = request_handler.handle_request(prompt, repetitions=1, return_all=True)\n",
    "        #print(responses)\n",
    "        if [a.upper() for a in responses[0]] != get_classes_from_binary_vector(o) and [a.lower() for a in responses[0]] != get_classes_from_binary_vector(o):\n",
    "            print()\n",
    "            print(description, \"\\n\", get_classes_from_binary_vector(o), \"\\n\", responses[0])\n",
    "        all_responses.append(responses)\n",
    "        all_usages.append(usages)\n",
    "        print(\"---------------------------------------------------------------------------------\")\n",
    "    print(\"--- %s seconds ---\" % (time.time() - start_time))\n",
    "\n",
    "    #DUMP ANSWERS\n",
    "    if DATASET == \"DOMINO\":\n",
    "        answers_path = f\"answers/domino/answers_k{k}.pkl\"\n",
    "    elif DATASET == \"EXTRASENSORY\":\n",
    "        answers_path = f\"answers/extrasensory/answers_k{k}.pkl\"\n",
    "    else:\n",
    "        answers_path = None\n",
    "        raise ValueError(\"DATASET name must be 'DOMINO' or 'EXTRASENSORY'\")\n",
    "    \n",
    "    with open(usages_path, \"wb\") as file:\n",
    "        pkl.dump(all_usages, file)\n",
    "\n",
    "    #DUMP USAGES\n",
    "    if DATASET == \"DOMINO\":\n",
    "        usages_path = f\"usages/domino/usages_k{k}.pkl\"\n",
    "    elif DATASET == \"EXTRASENSORY\":\n",
    "        usages_path = f\"usages/extrasensory/usages_k{k}.pkl\"\n",
    "    else:\n",
    "        usages_path = None\n",
    "        raise ValueError(\"DATASET name must be 'DOMINO' or 'EXTRASENSORY'\")\n",
    "    \n",
    "    with open(usages_path, \"wb\") as file:\n",
    "        pkl.dump(all_usages, file)\n",
    "\n",
    "    #DUMP N_EXAMPLES\n",
    "    if DATASET == \"DOMINO\":\n",
    "        examples_path = f\"n_examples/domino/n_examples_k{k}.pkl\"\n",
    "    elif DATASET == \"EXTRASENSORY\":\n",
    "        examples_path = f\"n_examples/extrasensory/n_examples_k{k}.pkl\"\n",
    "    else:\n",
    "        examples_path = None\n",
    "        raise ValueError(\"DATASET name must be 'DOMINO' or 'EXTRASENSORY'\")\n",
    "    \n",
    "    with open(examples_path, \"wb\") as file:\n",
    "        pkl.dump(n_examples, file)"
   ]
  },
  {
   "cell_type": "code",
   "execution_count": null,
   "metadata": {},
   "outputs": [],
   "source": []
  }
 ],
 "metadata": {
  "kernelspec": {
   "display_name": "env",
   "language": "python",
   "name": "python3"
  },
  "language_info": {
   "codemirror_mode": {
    "name": "ipython",
    "version": 3
   },
   "file_extension": ".py",
   "mimetype": "text/x-python",
   "name": "python",
   "nbconvert_exporter": "python",
   "pygments_lexer": "ipython3",
   "version": "3.9.13"
  }
 },
 "nbformat": 4,
 "nbformat_minor": 5
}
