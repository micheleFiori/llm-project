{
 "cells": [
  {
   "cell_type": "markdown",
   "id": "e23b209ad1e8d4ce",
   "metadata": {
    "collapsed": false
   },
   "source": [
    "# Setup"
   ]
  },
  {
   "cell_type": "code",
   "execution_count": null,
   "id": "initial_id",
   "metadata": {
    "ExecuteTime": {
     "end_time": "2023-10-25T12:46:08.928549600Z",
     "start_time": "2023-10-25T12:45:57.301109400Z"
    },
    "collapsed": true
   },
   "outputs": [],
   "source": [
    "import pickle as pkl\n",
    "from context_descriptor import ContextDescriptor\n",
    "from prompt_generator import PromptGenerator\n",
    "from model_request_handler import ModelRequestHandler\n",
    "import numpy as np\n",
    "from examples_manager import Examples_manager\n",
    "from sklearn.metrics import classification_report\n",
    "import time"
   ]
  },
  {
   "cell_type": "code",
   "execution_count": 2,
   "id": "c99adbbe10c421b",
   "metadata": {
    "ExecuteTime": {
     "end_time": "2023-10-25T12:46:08.959552200Z",
     "start_time": "2023-10-25T12:46:08.932549400Z"
    },
    "collapsed": false
   },
   "outputs": [],
   "source": [
    "DATASET = \"EXTRASENSORY\"\n",
    "if DATASET not in [\"DOMINO\", \"EXTRASENSORY\"]:\n",
    "    raise ValueError(\"DATASET name must be 'DOMINO' or 'EXTRASENSORY'\")"
   ]
  },
  {
   "cell_type": "code",
   "execution_count": 3,
   "id": "fa24b24792f4e1d6",
   "metadata": {
    "ExecuteTime": {
     "end_time": "2023-10-25T12:46:09.016545600Z",
     "start_time": "2023-10-25T12:46:08.952554200Z"
    },
    "collapsed": false
   },
   "outputs": [],
   "source": [
    "extrasensory_classes = ['BICICLYNG', 'LAYING_DOWN', 'MOVING_BY_CAR', 'ON_TRANSPORT', 'SITTING', 'STANDING', 'WALKING']\n",
    "domino_classes = ['BRUSHING_TEETH', 'CYCLING', 'ELEVATOR_DOWN', 'ELEVATOR_UP', 'LYING', 'MOVING_BY_CAR', 'RUNNING', 'SITTING', 'SITTING_ON_TRANSPORT', 'STAIRS_DOWN', 'STAIRS_UP', 'STANDING', 'STANDING_ON_TRANSPORT', 'WALKING']"
   ]
  },
  {
   "cell_type": "code",
   "execution_count": 4,
   "id": "773d17aa4c791892",
   "metadata": {
    "ExecuteTime": {
     "end_time": "2023-10-25T12:46:09.017549400Z",
     "start_time": "2023-10-25T12:46:08.972557300Z"
    },
    "collapsed": false
   },
   "outputs": [],
   "source": [
    "if DATASET == \"DOMINO\":\n",
    "    CLASSES = domino_classes\n",
    "elif DATASET == \"EXTRASENSORY\":\n",
    "    CLASSES = extrasensory_classes\n",
    "else:\n",
    "    CLASSES = None\n",
    "    raise ValueError(\"DATASET name must be 'DOMINO' or 'EXTRASENSORY'\")"
   ]
  },
  {
   "cell_type": "markdown",
   "id": "65b13ddfd26147de",
   "metadata": {
    "collapsed": false
   },
   "source": [
    "# Load dataset"
   ]
  },
  {
   "cell_type": "code",
   "execution_count": 5,
   "id": "5b0df3761f738f38",
   "metadata": {
    "ExecuteTime": {
     "end_time": "2023-10-25T12:51:54.557109500Z",
     "start_time": "2023-10-25T12:51:54.504468600Z"
    },
    "collapsed": false
   },
   "outputs": [],
   "source": [
    "if DATASET == \"DOMINO\":\n",
    "    with open(\"datasets/domino/domino_unique_contexts.pkl\", \"rb\") as file:\n",
    "        unique_contexts = pkl.load(file)\n",
    "    with open(\"datasets/domino/domino_unique_contexts_ontology_consistencies.pkl\", \"rb\") as file:\n",
    "        unique_contexts_ontology_consistencies = pkl.load(file)\n",
    "    with open(\"datasets/domino/domino_unique_contexts_labels.pkl\", \"rb\") as file:\n",
    "        unique_contexts_labels = pkl.load(file)\n",
    "\n",
    "elif DATASET == \"EXTRASENSORY\":\n",
    "    with open(\"datasets/extrasensory/extrasensory_unique_contexts.pkl\", \"rb\") as file:\n",
    "        unique_contexts = pkl.load(file)\n",
    "    with open(\"datasets/extrasensory/extrasensory_unique_contexts_labels.pkl\", \"rb\") as file:\n",
    "        unique_contexts_labels = pkl.load(file)\n",
    "    with open(\"datasets/extrasensory/extrasensory_unique_contexts_ontology_consistencies.pkl\", \"rb\") as file:\n",
    "        unique_contexts_ontology_consistencies = pkl.load(file)\n",
    "        \n",
    "else:\n",
    "    raise ValueError(\"DATASET name must be 'DOMINO' or 'EXTRASENSORY'\")"
   ]
  },
  {
   "cell_type": "markdown",
   "id": "d1ecfded74ee4b8e",
   "metadata": {
    "collapsed": false
   },
   "source": [
    "# Define system message"
   ]
  },
  {
   "cell_type": "code",
   "execution_count": 6,
   "id": "404b020aea980bb7",
   "metadata": {
    "ExecuteTime": {
     "end_time": "2023-10-25T12:51:54.838107900Z",
     "start_time": "2023-10-25T12:51:54.819108100Z"
    },
    "collapsed": false
   },
   "outputs": [],
   "source": [
    "system_message = f'''\n",
    "    You are a domain expert in charge of checking which human activities are suitable with respect to the current surrounding context of a user. \n",
    "    You will receive as input a description of the surrounding context of the user. You have to determine which are the activities that are suitable in the given context. \n",
    "    This is the list of the possible user activities that you have to consider: {', '.join(CLASSES)}\n",
    "\n",
    "    Accomplish the task by following the steps below:\n",
    "\n",
    "    Step 1: Analyze the context.\n",
    "    Step 2: Determine which activities are likely in the given context, by analyzing each activity. Apply the open-world assumption: anything that is not explicit in the surrounding context of the user may be possible. Do not exclude activities for which you cannot determine their likelihood or the ones for which there are no specific information about objects and vehicles that the user is using.\n",
    "    Step 3: Provide the result in the form of a list.'''"
   ]
  },
  {
   "cell_type": "code",
   "execution_count": 7,
   "id": "7a0dba073a55bfd2",
   "metadata": {
    "ExecuteTime": {
     "end_time": "2023-10-25T12:51:55.105107Z",
     "start_time": "2023-10-25T12:51:55.034109500Z"
    },
    "collapsed": false
   },
   "outputs": [],
   "source": [
    "#Think about the \"answer and step by step analyze each activity.\n",
    "#system_message += \"In the following i'll give you some examples of contexts that you can receive and the answer \" \\\n",
    "#                  \"that i would expect: \""
   ]
  },
  {
   "cell_type": "markdown",
   "id": "99e4c3d280c439ea",
   "metadata": {
    "collapsed": false
   },
   "source": [
    "# Initialize helper classes"
   ]
  },
  {
   "cell_type": "code",
   "execution_count": 8,
   "id": "b47b2049f579e102",
   "metadata": {
    "ExecuteTime": {
     "end_time": "2023-10-25T12:52:20.060152900Z",
     "start_time": "2023-10-25T12:51:55.389097200Z"
    },
    "collapsed": false
   },
   "outputs": [],
   "source": [
    "contest_descriptor = ContextDescriptor()\n",
    "prompt_generator = PromptGenerator(system_message)\n",
    "request_handler = ModelRequestHandler()"
   ]
  },
  {
   "cell_type": "markdown",
   "id": "7b53742f1deddf6b",
   "metadata": {
    "collapsed": false
   },
   "source": [
    "# Initialize example manager"
   ]
  },
  {
   "cell_type": "code",
   "execution_count": 9,
   "id": "abb45f3dbdbb037a",
   "metadata": {
    "ExecuteTime": {
     "end_time": "2023-10-25T12:52:20.381108800Z",
     "start_time": "2023-10-25T12:52:19.991390700Z"
    },
    "collapsed": false
   },
   "outputs": [],
   "source": [
    "if DATASET == \"DOMINO\":\n",
    "    example_manager = Examples_manager(\"domino_examples.csv\")\n",
    "elif DATASET == \"EXTRASENSORY\":\n",
    "    example_manager = Examples_manager(\"extrasensory_examples.csv\")\n",
    "else:\n",
    "    example_manager = None\n",
    "    raise ValueError(\"DATASET name must be 'DOMINO' or 'EXTRASENSORY'\")"
   ]
  },
  {
   "cell_type": "markdown",
   "id": "9685c917be20d219",
   "metadata": {
    "collapsed": false
   },
   "source": [
    "# Choose context desciption function"
   ]
  },
  {
   "cell_type": "code",
   "execution_count": 10,
   "id": "7535f1e5c1376695",
   "metadata": {
    "ExecuteTime": {
     "end_time": "2023-10-25T12:52:20.416111600Z",
     "start_time": "2023-10-25T12:52:20.384107800Z"
    },
    "collapsed": false
   },
   "outputs": [],
   "source": [
    "if DATASET == \"DOMINO\":\n",
    "    create_context_description = lambda context_vector: contest_descriptor.create_domino_context_description(context_vector)\n",
    "elif DATASET == \"EXTRASENSORY\":\n",
    "    create_context_description = lambda context_vector: contest_descriptor.create_extrasensory_context_description(context_vector)\n",
    "else:\n",
    "    create_context_description = None\n",
    "    raise ValueError(\"DATASET name must be 'DOMINO' or 'EXTRASENSORY'\")"
   ]
  },
  {
   "cell_type": "markdown",
   "id": "572581ba85558ab7",
   "metadata": {
    "collapsed": false
   },
   "source": [
    "# Make the api calls"
   ]
  },
  {
   "cell_type": "code",
   "execution_count": null,
   "id": "f7fd20f31ef70dc3",
   "metadata": {
    "ExecuteTime": {
     "end_time": "2023-10-25T12:52:49.779730500Z",
     "start_time": "2023-10-25T12:52:20.403107100Z"
    },
    "collapsed": false
   },
   "outputs": [],
   "source": [
    "all_responses = []\n",
    "i = 0\n",
    "for c, l, o in list(zip(unique_contexts, unique_contexts_labels, unique_contexts_ontology_consistencies)):\n",
    "    i += 1\n",
    "    print(c)\n",
    "    description = create_context_description(c)\n",
    "    print('CURRENT: ', description)\n",
    "    most_similar_examples = example_manager.get_most_similar_examples(description)\n",
    "    #print('SIMILAR: \\n', most_similar_examples) \n",
    "    print(description)\n",
    "    prompt = prompt_generator.generate_prompt(description, most_similar_examples)\n",
    "    print(prompt)\n",
    "    responses = request_handler.handle_request(prompt, repetitions=1, return_all=True)\n",
    "    print(responses)\n",
    "    #all_responses.append(responses)\n",
    "    print(\"---------------------------------------------------------------------------------\")\n",
    "    time.sleep(3)\n"
   ]
  },
  {
   "cell_type": "markdown",
   "id": "32779ea0d39528f",
   "metadata": {
    "collapsed": false
   },
   "source": [
    "# Dump answers\n",
    "Increment n each time to have different files"
   ]
  },
  {
   "cell_type": "code",
   "execution_count": 12,
   "id": "6f958c1f38567b18",
   "metadata": {
    "ExecuteTime": {
     "end_time": "2023-10-25T08:14:08.035428300Z",
     "start_time": "2023-10-25T08:14:07.999524400Z"
    },
    "collapsed": false
   },
   "outputs": [],
   "source": [
    "n = 1"
   ]
  },
  {
   "cell_type": "code",
   "execution_count": 25,
   "id": "d3d76bd96bb2592f",
   "metadata": {
    "ExecuteTime": {
     "end_time": "2023-10-25T08:14:14.207799500Z",
     "start_time": "2023-10-25T08:14:14.162328900Z"
    },
    "collapsed": false
   },
   "outputs": [],
   "source": [
    "if DATASET == \"DOMINO\":\n",
    "    answers_path = f\"answers/domino/a_{n}.pkl\"\n",
    "elif DATASET == \"EXTRASENSORY\":\n",
    "    answers_path = f\"answers/extrasensory/a_{n}.pkl\"\n",
    "else:\n",
    "    answers_path = None\n",
    "    raise ValueError(\"DATASET name must be 'DOMINO' or 'EXTRASENSORY'\")"
   ]
  },
  {
   "cell_type": "code",
   "execution_count": 26,
   "id": "9757b1633f9d9a6c",
   "metadata": {
    "ExecuteTime": {
     "end_time": "2023-10-25T08:14:14.411763200Z",
     "start_time": "2023-10-25T08:14:14.342645Z"
    },
    "collapsed": false
   },
   "outputs": [],
   "source": [
    "with open(answers_path, \"wb\") as file:\n",
    "    pkl.dump(all_responses, file)"
   ]
  },
  {
   "cell_type": "markdown",
   "id": "ac524d73909ed0c0",
   "metadata": {
    "collapsed": false
   },
   "source": [
    "# Load answers and ontology"
   ]
  },
  {
   "cell_type": "code",
   "execution_count": 13,
   "id": "444ad2f989868013",
   "metadata": {
    "ExecuteTime": {
     "end_time": "2023-10-25T08:14:57.887047500Z",
     "start_time": "2023-10-25T08:14:57.840201Z"
    },
    "collapsed": false
   },
   "outputs": [],
   "source": [
    "if DATASET == \"DOMINO\":\n",
    "    answers_path = f\"answers/domino/a_{n}.pkl\"\n",
    "elif DATASET == \"EXTRASENSORY\":\n",
    "    answers_path = f\"answers/extrasensory/a_{n}.pkl\"\n",
    "else:\n",
    "    answers_path = None\n",
    "    raise ValueError(\"DATASET name must be 'DOMINO' or 'EXTRASENSORY'\")"
   ]
  },
  {
   "cell_type": "code",
   "execution_count": 14,
   "id": "a6262ec3951d8633",
   "metadata": {
    "ExecuteTime": {
     "end_time": "2023-10-25T08:14:58.103655700Z",
     "start_time": "2023-10-25T08:14:58.054660800Z"
    },
    "collapsed": false
   },
   "outputs": [],
   "source": [
    "if DATASET == \"DOMINO\":\n",
    "    ontology_path = f'datasets/domino/domino_unique_contexts_ontology_consistencies.pkl'\n",
    "elif DATASET == \"EXTRASENSORY\":\n",
    "    ontology_path = f\"datasets/extrasensory/extrasensory_unique_contexts_ontology_consistencies.pkl\"\n",
    "else:\n",
    "    answers_path = None\n",
    "    raise ValueError(\"DATASET name must be 'DOMINO' or 'EXTRASENSORY'\")"
   ]
  },
  {
   "cell_type": "code",
   "execution_count": 16,
   "id": "19bf7c0262f1f635",
   "metadata": {
    "ExecuteTime": {
     "end_time": "2023-10-25T08:14:58.241007400Z",
     "start_time": "2023-10-25T08:14:58.175269300Z"
    },
    "collapsed": false
   },
   "outputs": [],
   "source": [
    "#with open(answers_path, \"rb\") as file:\n",
    "#    all_responses = pkl.load(file)\n",
    "with open(ontology_path, \"rb\") as file:\n",
    "    ontology_consistencies = pkl.load(file)"
   ]
  },
  {
   "cell_type": "markdown",
   "id": "a0f0626f2d25f10d",
   "metadata": {
    "collapsed": false
   },
   "source": [
    "# Compute results"
   ]
  },
  {
   "cell_type": "code",
   "execution_count": 36,
   "id": "ff58772a35144ff6",
   "metadata": {
    "ExecuteTime": {
     "end_time": "2023-10-25T08:14:58.977773800Z",
     "start_time": "2023-10-25T08:14:58.938883600Z"
    },
    "collapsed": false
   },
   "outputs": [],
   "source": [
    "def count_occurrences(activity, list_of_lists):\n",
    "    count = 0\n",
    "    for sublist in list_of_lists:\n",
    "        count += sublist.count(activity)\n",
    "    return count"
   ]
  },
  {
   "cell_type": "code",
   "execution_count": 37,
   "id": "15009cea0c181cb5",
   "metadata": {
    "ExecuteTime": {
     "end_time": "2023-10-25T08:14:59.182227800Z",
     "start_time": "2023-10-25T08:14:59.140339300Z"
    },
    "collapsed": false
   },
   "outputs": [],
   "source": [
    "def get_classes_from_binary_vector(bin_vec):\n",
    "    classes_to_return = []\n",
    "    for v, c in zip(bin_vec, CLASSES):\n",
    "        if v==1:\n",
    "            classes_to_return.append(c)\n",
    "    return classes_to_return"
   ]
  },
  {
   "cell_type": "code",
   "execution_count": 39,
   "id": "293c22886a21f4d0",
   "metadata": {
    "ExecuteTime": {
     "end_time": "2023-10-25T08:15:23.821583600Z",
     "start_time": "2023-10-25T08:15:23.792660400Z"
    },
    "collapsed": false
   },
   "outputs": [],
   "source": [
    "min_count = 1"
   ]
  },
  {
   "cell_type": "code",
   "execution_count": 40,
   "id": "3a373895dff4b6b5",
   "metadata": {
    "ExecuteTime": {
     "end_time": "2023-10-25T08:15:24.280790500Z",
     "start_time": "2023-10-25T08:15:24.247879100Z"
    },
    "collapsed": false
   },
   "outputs": [],
   "source": [
    "preds = []\n",
    "for response in all_responses:\n",
    "    # print(response)\n",
    "    aggregated_response = []\n",
    "    for act in CLASSES:\n",
    "        if count_occurrences(act.lower(), response) >= min_count:\n",
    "            aggregated_response.append(1)\n",
    "        else:\n",
    "            aggregated_response.append(0)\n",
    "    preds.append(aggregated_response)"
   ]
  },
  {
   "cell_type": "code",
   "execution_count": 30,
   "id": "34079bbb6d6c094b",
   "metadata": {
    "ExecuteTime": {
     "end_time": "2023-10-25T08:14:19.327818100Z",
     "start_time": "2023-10-25T08:14:19.297858200Z"
    },
    "collapsed": false
   },
   "outputs": [],
   "source": [
    "print(classification_report(ontology_consistencies, preds, target_names=CLASSES))"
   ]
  },
  {
   "cell_type": "markdown",
   "id": "ab3155628260ca33",
   "metadata": {
    "collapsed": false
   },
   "source": [
    "# Get results for DL"
   ]
  },
  {
   "cell_type": "code",
   "execution_count": 42,
   "id": "791962036abf9730",
   "metadata": {
    "ExecuteTime": {
     "end_time": "2023-10-25T08:17:34.051830Z",
     "start_time": "2023-10-25T08:17:33.987953200Z"
    },
    "collapsed": false
   },
   "outputs": [],
   "source": [
    "#TODO"
   ]
  }
 ],
 "metadata": {
  "kernelspec": {
   "display_name": "Python 3",
   "language": "python",
   "name": "python3"
  },
  "language_info": {
   "codemirror_mode": {
    "name": "ipython",
    "version": 3
   },
   "file_extension": ".py",
   "mimetype": "text/x-python",
   "name": "python",
   "nbconvert_exporter": "python",
   "pygments_lexer": "ipython3",
   "version": "3.9.13"
  }
 },
 "nbformat": 4,
 "nbformat_minor": 5
}
