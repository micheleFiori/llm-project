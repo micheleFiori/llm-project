{
 "cells": [
  {
   "cell_type": "markdown",
   "id": "e23b209ad1e8d4ce",
   "metadata": {
    "collapsed": false
   },
   "source": [
    "# Setup"
   ]
  },
  {
   "cell_type": "code",
   "execution_count": 1,
   "id": "initial_id",
   "metadata": {
    "collapsed": true,
    "ExecuteTime": {
     "end_time": "2023-10-27T07:58:02.644677200Z",
     "start_time": "2023-10-27T07:57:50.995919700Z"
    }
   },
   "outputs": [],
   "source": [
    "import pickle as pkl\n",
    "from context_descriptor import ContextDescriptor\n",
    "from prompt_generator import PromptGenerator\n",
    "from model_request_handler import ModelRequestHandler\n",
    "from open_ai_request_handler import OpenAiRequestHandler\n",
    "import numpy as np\n",
    "from examples_manager import Examples_manager\n",
    "from sklearn.metrics import classification_report\n",
    "import time"
   ]
  },
  {
   "cell_type": "code",
   "execution_count": 2,
   "outputs": [],
   "source": [
    "OPEN_AI_API_KEY = \"\""
   ],
   "metadata": {
    "collapsed": false,
    "ExecuteTime": {
     "end_time": "2023-10-27T07:58:06.234600Z",
     "start_time": "2023-10-27T07:58:06.165581900Z"
    }
   },
   "id": "24de087aff90f16b"
  },
  {
   "cell_type": "code",
   "execution_count": 3,
   "id": "c99adbbe10c421b",
   "metadata": {
    "collapsed": false,
    "ExecuteTime": {
     "end_time": "2023-10-27T07:58:06.498576900Z",
     "start_time": "2023-10-27T07:58:06.432579400Z"
    }
   },
   "outputs": [],
   "source": [
    "DATASET = \"DOMINO\"\n",
    "if DATASET not in [\"DOMINO\", \"EXTRASENSORY\"]:\n",
    "    raise ValueError(\"DATASET name must be 'DOMINO' or 'EXTRASENSORY'\")"
   ]
  },
  {
   "cell_type": "code",
   "execution_count": 4,
   "id": "fa24b24792f4e1d6",
   "metadata": {
    "collapsed": false,
    "ExecuteTime": {
     "end_time": "2023-10-27T07:58:07.022588400Z",
     "start_time": "2023-10-27T07:58:06.886582300Z"
    }
   },
   "outputs": [],
   "source": [
    "extrasensory_classes = ['BICICLYNG', 'LAYING_DOWN', 'MOVING_BY_CAR', 'ON_TRANSPORT', 'SITTING', 'STANDING', 'WALKING']\n",
    "domino_classes = ['BRUSHING_TEETH', 'CYCLING', 'ELEVATOR_DOWN', 'ELEVATOR_UP', 'LYING', 'MOVING_BY_CAR', 'RUNNING', 'SITTING', 'SITTING_ON_TRANSPORT', 'STAIRS_DOWN', 'STAIRS_UP', 'STANDING', 'STANDING_ON_TRANSPORT', 'WALKING']"
   ]
  },
  {
   "cell_type": "code",
   "execution_count": 5,
   "id": "773d17aa4c791892",
   "metadata": {
    "collapsed": false,
    "ExecuteTime": {
     "end_time": "2023-10-27T07:58:08.011578900Z",
     "start_time": "2023-10-27T07:58:07.921577800Z"
    }
   },
   "outputs": [],
   "source": [
    "if DATASET == \"DOMINO\":\n",
    "    CLASSES = domino_classes\n",
    "elif DATASET == \"EXTRASENSORY\":\n",
    "    CLASSES = extrasensory_classes\n",
    "else:\n",
    "    CLASSES = None\n",
    "    raise ValueError(\"DATASET name must be 'DOMINO' or 'EXTRASENSORY'\")"
   ]
  },
  {
   "cell_type": "markdown",
   "id": "65b13ddfd26147de",
   "metadata": {
    "collapsed": false
   },
   "source": [
    "# Load dataset"
   ]
  },
  {
   "cell_type": "code",
   "execution_count": 6,
   "id": "5b0df3761f738f38",
   "metadata": {
    "collapsed": false,
    "ExecuteTime": {
     "end_time": "2023-10-27T07:58:13.173160700Z",
     "start_time": "2023-10-27T07:58:13.000168300Z"
    }
   },
   "outputs": [],
   "source": [
    "if DATASET == \"DOMINO\":\n",
    "    with open(\"datasets/domino/domino_unique_contexts.pkl\", \"rb\") as file:\n",
    "        unique_contexts = pkl.load(file)\n",
    "    with open(\"datasets/domino/domino_unique_contexts_ontology_consistencies.pkl\", \"rb\") as file:\n",
    "        unique_contexts_ontology_consistencies = pkl.load(file)\n",
    "    with open(\"datasets/domino/domino_unique_contexts_labels.pkl\", \"rb\") as file:\n",
    "        unique_contexts_labels = pkl.load(file)\n",
    "\n",
    "elif DATASET == \"EXTRASENSORY\":\n",
    "    with open(\"datasets/extrasensory/extrasensory_unique_contexts.pkl\", \"rb\") as file:\n",
    "        unique_contexts = pkl.load(file)\n",
    "    with open(\"datasets/extrasensory/extrasensory_unique_contexts_labels.pkl\", \"rb\") as file:\n",
    "        unique_contexts_labels = pkl.load(file)\n",
    "    with open(\"datasets/extrasensory/extrasensory_unique_contexts_ontology_consistencies.pkl\", \"rb\") as file:\n",
    "        unique_contexts_ontology_consistencies = pkl.load(file)\n",
    "        \n",
    "else:\n",
    "    raise ValueError(\"DATASET name must be 'DOMINO' or 'EXTRASENSORY'\")"
   ]
  },
  {
   "cell_type": "markdown",
   "id": "d1ecfded74ee4b8e",
   "metadata": {
    "collapsed": false
   },
   "source": [
    "# Define system message"
   ]
  },
  {
   "cell_type": "code",
   "execution_count": 7,
   "id": "404b020aea980bb7",
   "metadata": {
    "collapsed": false,
    "ExecuteTime": {
     "end_time": "2023-10-27T07:58:14.433204Z",
     "start_time": "2023-10-27T07:58:14.378203600Z"
    }
   },
   "outputs": [],
   "source": [
    "system_message = f'''You are a domain expert in charge of checking which human activities are suitable with respect to the current surrounding context of a user. You will receive as input a description of the surrounding context of the user. You have to determine which are the activities that are suitable in the given context. This is the list of the possible user activities that you have to consider: {', '.join(CLASSES)}. Accomplish the task by following the steps below:Step 1: Analyze the context.Step 2: Determine which activities are likely in the given context, by analyzing each activity. Apply the open-world assumption: anything that is not explicit in the surrounding context of the user may be possible. Do not exclude activities for which you cannot determine their likelihood or the ones for which there are no specific information about objects and vehicles that the user is using.Step 3: Provide the result in the form of a list.'''"
   ]
  },
  {
   "cell_type": "code",
   "execution_count": 8,
   "id": "7a0dba073a55bfd2",
   "metadata": {
    "collapsed": false,
    "ExecuteTime": {
     "end_time": "2023-10-27T07:58:15.266544800Z",
     "start_time": "2023-10-27T07:58:15.240564600Z"
    }
   },
   "outputs": [],
   "source": [
    "#Think about the \"answer and step by step analyze each activity.\n",
    "#system_message += \"In the following i'll give you some examples of contexts that you can receive and the answer \" \\\n",
    "#                  \"that i would expect: \""
   ]
  },
  {
   "cell_type": "markdown",
   "id": "99e4c3d280c439ea",
   "metadata": {
    "collapsed": false
   },
   "source": [
    "# Initialize helper classes"
   ]
  },
  {
   "cell_type": "code",
   "execution_count": 9,
   "id": "b47b2049f579e102",
   "metadata": {
    "collapsed": false,
    "ExecuteTime": {
     "end_time": "2023-10-27T07:58:19.397204Z",
     "start_time": "2023-10-27T07:58:19.362170900Z"
    }
   },
   "outputs": [],
   "source": [
    "contest_descriptor = ContextDescriptor()\n",
    "prompt_generator = PromptGenerator(system_message)\n",
    "#request_handler = ModelRequestHandler()\n",
    "request_handler = OpenAiRequestHandler(api_key=OPEN_AI_API_KEY)"
   ]
  },
  {
   "cell_type": "markdown",
   "id": "7b53742f1deddf6b",
   "metadata": {
    "collapsed": false
   },
   "source": [
    "# Initialize example manager"
   ]
  },
  {
   "cell_type": "code",
   "execution_count": 10,
   "id": "abb45f3dbdbb037a",
   "metadata": {
    "collapsed": false,
    "ExecuteTime": {
     "end_time": "2023-10-27T07:58:24.022851Z",
     "start_time": "2023-10-27T07:58:21.941850700Z"
    }
   },
   "outputs": [],
   "source": [
    "if DATASET == \"DOMINO\":\n",
    "    example_manager = Examples_manager(\"domino_examples.csv\")\n",
    "elif DATASET == \"EXTRASENSORY\":\n",
    "    example_manager = Examples_manager(\"extrasensory_examples.csv\")\n",
    "else:\n",
    "    example_manager = None\n",
    "    raise ValueError(\"DATASET name must be 'DOMINO' or 'EXTRASENSORY'\")"
   ]
  },
  {
   "cell_type": "markdown",
   "id": "9685c917be20d219",
   "metadata": {
    "collapsed": false
   },
   "source": [
    "# Choose context desciption function"
   ]
  },
  {
   "cell_type": "code",
   "execution_count": 11,
   "id": "7535f1e5c1376695",
   "metadata": {
    "collapsed": false,
    "ExecuteTime": {
     "end_time": "2023-10-27T07:58:25.235539500Z",
     "start_time": "2023-10-27T07:58:25.199542300Z"
    }
   },
   "outputs": [],
   "source": [
    "if DATASET == \"DOMINO\":\n",
    "    create_context_description = lambda context_vector: contest_descriptor.create_domino_context_description(context_vector)\n",
    "elif DATASET == \"EXTRASENSORY\":\n",
    "    create_context_description = lambda context_vector: contest_descriptor.create_extrasensory_context_description(context_vector)\n",
    "else:\n",
    "    create_context_description = None\n",
    "    raise ValueError(\"DATASET name must be 'DOMINO' or 'EXTRASENSORY'\")"
   ]
  },
  {
   "cell_type": "markdown",
   "id": "572581ba85558ab7",
   "metadata": {
    "collapsed": false
   },
   "source": [
    "# Make the api calls"
   ]
  },
  {
   "cell_type": "code",
   "execution_count": 12,
   "id": "f7fd20f31ef70dc3",
   "metadata": {
    "collapsed": false,
    "ExecuteTime": {
     "end_time": "2023-10-27T08:05:20.440767800Z",
     "start_time": "2023-10-27T07:58:30.534272900Z"
    }
   },
   "outputs": [
    {
     "name": "stdout",
     "output_type": "stream",
     "text": [
      "['Indoor', 'Barbershop', 'NullSpeed', 'Misty', 'NotOnPublicTransportationRoute', 'NullHeightVariation', 'LowAudioLevel']\n",
      "CURRENT:   In the last 4 seconds the user Bob was in an Indoor environment at the Barbershop, where he was not moving, experiencing Misty weather, not following/close to a public transportation route, and neither going up nor down.\n",
      "{\n",
      "  \"prompt_tokens\": 562,\n",
      "  \"completion_tokens\": 20,\n",
      "  \"total_tokens\": 582\n",
      "}\n",
      "MODEL RESPONSE:\n",
      "['BRUSHING_TEETH', 'LYING', 'SITTING', 'STANDING']\n",
      "---------------------------------------------------------------------------------\n",
      "['Indoor', 'Home', 'NullSpeed', 'Cloudy', 'NotOnPublicTransportationRoute', 'NullHeightVariation', 'MediumAudioLevel']\n",
      "CURRENT:   In the last 4 seconds the user Bob was in an Indoor environment at Home, where he was not moving, experiencing Cloudy weather, not following/close to a public transportation route, and neither going up nor down.\n",
      "{\n",
      "  \"prompt_tokens\": 560,\n",
      "  \"completion_tokens\": 20,\n",
      "  \"total_tokens\": 580\n",
      "}\n",
      "MODEL RESPONSE:\n",
      "['BRUSHING_TEETH', 'LYING', 'SITTING', 'STANDING']\n",
      "---------------------------------------------------------------------------------\n",
      "['Indoor', 'Bank', 'NullSpeed', 'Drizzly', 'NotOnPublicTransportationRoute', 'NullHeightVariation', 'LowAudioLevel']\n",
      "CURRENT:   In the last 4 seconds the user Bob was in an Indoor environment at the Bank, where he was not moving, experiencing Drizzly weather, not following/close to a public transportation route, and neither going up nor down.\n",
      "{\n",
      "  \"prompt_tokens\": 558,\n",
      "  \"completion_tokens\": 20,\n",
      "  \"total_tokens\": 578\n",
      "}\n",
      "MODEL RESPONSE:\n",
      "['BRUSHING_TEETH', 'LYING', 'SITTING', 'STANDING']\n",
      "---------------------------------------------------------------------------------\n",
      "['Indoor', 'Mall', 'NullSpeed', 'Rainy', 'NotOnPublicTransportationRoute', 'NullHeightVariation', 'HighAudioLevel']\n",
      "CURRENT:   In the last 4 seconds the user Bob was in an Indoor environment at the Mall, where he was not moving, experiencing Rainy weather, not following/close to a public transportation route, and neither going up nor down.\n",
      "Rate limit reached for gpt-3.5-turbo in organization org-4ndymWq5kPiY1hNeMTA8zOil on requests per min. Limit: 3 / min. Please try again in 20s. Contact us through our help center at help.openai.com if you continue to have issues. Please add a payment method to your account to increase your rate limit. Visit https://platform.openai.com/account/billing to add a payment method.\n",
      "{\n",
      "  \"prompt_tokens\": 560,\n",
      "  \"completion_tokens\": 13,\n",
      "  \"total_tokens\": 573\n",
      "}\n",
      "MODEL RESPONSE:\n",
      "['LYING', 'SITTING', 'STANDING']\n",
      "---------------------------------------------------------------------------------\n",
      "['Indoor', 'Bar', 'NullSpeed', 'Misty', 'NotOnPublicTransportationRoute', 'NullHeightVariation', 'MediumAudioLevel']\n",
      "CURRENT:   In the last 4 seconds the user Bob was in an Indoor environment at the Bar, where he was not moving, experiencing Misty weather, not following/close to a public transportation route, and neither going up nor down.\n",
      "{\n",
      "  \"prompt_tokens\": 571,\n",
      "  \"completion_tokens\": 20,\n",
      "  \"total_tokens\": 591\n",
      "}\n",
      "MODEL RESPONSE:\n",
      "['BRUSHING_TEETH', 'LYING', 'SITTING', 'STANDING']\n",
      "---------------------------------------------------------------------------------\n",
      "['Indoor', 'Mall', 'NullSpeed', 'Drizzly', 'NotOnPublicTransportationRoute', 'NullHeightVariation', 'MediumAudioLevel']\n",
      "CURRENT:   In the last 4 seconds the user Bob was in an Indoor environment at the Mall, where he was not moving, experiencing Drizzly weather, not following/close to a public transportation route, and neither going up nor down.\n",
      "{\n",
      "  \"prompt_tokens\": 558,\n",
      "  \"completion_tokens\": 13,\n",
      "  \"total_tokens\": 571\n",
      "}\n",
      "MODEL RESPONSE:\n",
      "['LYING', 'SITTING', 'STANDING']\n",
      "---------------------------------------------------------------------------------\n",
      "['Indoor', 'Bank', 'NullSpeed', 'Misty', 'NotOnPublicTransportationRoute', 'NullHeightVariation', 'HighAudioLevel']\n",
      "CURRENT:   In the last 4 seconds the user Bob was in an Indoor environment at the Bank, where he was not moving, experiencing Misty weather, not following/close to a public transportation route, and neither going up nor down.\n",
      "{\n",
      "  \"prompt_tokens\": 543,\n",
      "  \"completion_tokens\": 20,\n",
      "  \"total_tokens\": 563\n",
      "}\n",
      "MODEL RESPONSE:\n",
      "['BRUSHING_TEETH', 'LYING', 'SITTING', 'STANDING']\n",
      "---------------------------------------------------------------------------------\n",
      "['Indoor', 'Office', 'NullSpeed', 'Sunny', 'NotOnPublicTransportationRoute', 'NullHeightVariation', 'LowAudioLevel']\n",
      "CURRENT:   In the last 4 seconds the user Bob was in an Indoor environment at the workplace, where he was not moving, experiencing Sunny weather, not following/close to a public transportation route, and neither going up nor down.\n",
      "Rate limit reached for gpt-3.5-turbo in organization org-4ndymWq5kPiY1hNeMTA8zOil on requests per min. Limit: 3 / min. Please try again in 20s. Contact us through our help center at help.openai.com if you continue to have issues. Please add a payment method to your account to increase your rate limit. Visit https://platform.openai.com/account/billing to add a payment method.\n",
      "{\n",
      "  \"prompt_tokens\": 560,\n",
      "  \"completion_tokens\": 20,\n",
      "  \"total_tokens\": 580\n",
      "}\n",
      "MODEL RESPONSE:\n",
      "['BRUSHING_TEETH', 'LYING', 'SITTING', 'STANDING']\n",
      "---------------------------------------------------------------------------------\n",
      "['Indoor', 'Shop', 'NullSpeed', 'Misty', 'NotOnPublicTransportationRoute', 'NullHeightVariation', 'LowAudioLevel']\n",
      "CURRENT:   In the last 4 seconds the user Bob was in an Indoor environment at the Shop, where he was not moving, experiencing Misty weather, not following/close to a public transportation route, and neither going up nor down.\n",
      "{\n",
      "  \"prompt_tokens\": 543,\n",
      "  \"completion_tokens\": 13,\n",
      "  \"total_tokens\": 556\n",
      "}\n",
      "MODEL RESPONSE:\n",
      "['LYING', 'SITTING', 'STANDING']\n",
      "---------------------------------------------------------------------------------\n",
      "['Indoor', 'NullSemanticPlace', 'NullSpeed', 'Misty', 'NotOnPublicTransportationRoute', 'NullHeightVariation', 'HighAudioLevel']\n",
      "CURRENT:   In the last 4 seconds the user Bob was in an Indoor environment, where he was not moving, experiencing Misty weather, not following/close to a public transportation route, and neither going up nor down.\n",
      "{\n",
      "  \"prompt_tokens\": 573,\n",
      "  \"completion_tokens\": 20,\n",
      "  \"total_tokens\": 593\n",
      "}\n",
      "MODEL RESPONSE:\n",
      "['BRUSHING_TEETH', 'LYING', 'SITTING', 'STANDING']\n",
      "---------------------------------------------------------------------------------\n",
      "['Indoor', 'Station', 'NullSpeed', 'Stormy', 'OnPublicTransportationRoute', 'NullHeightVariation', 'HighAudioLevel']\n",
      "CURRENT:   In the last 4 seconds the user Bob was in an Indoor environment at the Station, where he was not moving, experiencing Stormy weather, currently following/close to a public transportation route, and neither going up nor down.\n",
      "Rate limit reached for gpt-3.5-turbo in organization org-4ndymWq5kPiY1hNeMTA8zOil on requests per min. Limit: 3 / min. Please try again in 20s. Contact us through our help center at help.openai.com if you continue to have issues. Please add a payment method to your account to increase your rate limit. Visit https://platform.openai.com/account/billing to add a payment method.\n",
      "{\n",
      "  \"prompt_tokens\": 558,\n",
      "  \"completion_tokens\": 61,\n",
      "  \"total_tokens\": 619\n",
      "}\n",
      "MODEL RESPONSE:\n",
      "['BRUSHING_TEETH', 'ELEVATOR_DOWN', 'ELEVATOR_UP', 'LYING', 'MOVING_BY_CAR', 'RUNNING', 'SITTING', 'STAIRS_DOWN', 'STAIRS_UP', 'STANDING', 'STANDING_ON_TRANSPORT']\n",
      "---------------------------------------------------------------------------------\n",
      "['Indoor', 'Gym', 'NullSpeed', 'Rainy', 'NotOnPublicTransportationRoute', 'NullHeightVariation', 'HighAudioLevel']\n",
      "CURRENT:   In the last 4 seconds the user Bob was in an Indoor environment at the Gym, where he was not moving, experiencing Rainy weather, not following/close to a public transportation route, and neither going up nor down.\n",
      "{\n",
      "  \"prompt_tokens\": 574,\n",
      "  \"completion_tokens\": 18,\n",
      "  \"total_tokens\": 592\n",
      "}\n",
      "MODEL RESPONSE:\n",
      "['CYCLING', 'LYING', 'SITTING', 'STANDING']\n",
      "---------------------------------------------------------------------------------\n",
      "['Indoor', 'Bar', 'NullSpeed', 'Stormy', 'NotOnPublicTransportationRoute', 'NullHeightVariation', 'HighAudioLevel']\n",
      "CURRENT:   In the last 4 seconds the user Bob was in an Indoor environment at the Bar, where he was not moving, experiencing Stormy weather, not following/close to a public transportation route, and neither going up nor down.\n",
      "{\n",
      "  \"prompt_tokens\": 571,\n",
      "  \"completion_tokens\": 20,\n",
      "  \"total_tokens\": 591\n",
      "}\n",
      "MODEL RESPONSE:\n",
      "['BRUSHING_TEETH', 'LYING', 'SITTING', 'STANDING']\n",
      "---------------------------------------------------------------------------------\n",
      "['Indoor', 'Barbershop', 'NullSpeed', 'Misty', 'NotOnPublicTransportationRoute', 'NullHeightVariation', 'MediumAudioLevel']\n",
      "CURRENT:   In the last 4 seconds the user Bob was in an Indoor environment at the Barbershop, where he was not moving, experiencing Misty weather, not following/close to a public transportation route, and neither going up nor down.\n",
      "{\n",
      "  \"prompt_tokens\": 562,\n",
      "  \"completion_tokens\": 20,\n",
      "  \"total_tokens\": 582\n",
      "}\n",
      "MODEL RESPONSE:\n",
      "['BRUSHING_TEETH', 'LYING', 'SITTING', 'STANDING']\n",
      "---------------------------------------------------------------------------------\n",
      "['Indoor', 'University', 'NullSpeed', 'Stormy', 'NotOnPublicTransportationRoute', 'NullHeightVariation', 'HighAudioLevel']\n",
      "CURRENT:   In the last 4 seconds the user Bob was in an Indoor environment in University, where he was not moving, experiencing Stormy weather, not following/close to a public transportation route, and neither going up nor down.\n",
      "Rate limit reached for gpt-3.5-turbo in organization org-4ndymWq5kPiY1hNeMTA8zOil on requests per min. Limit: 3 / min. Please try again in 20s. Contact us through our help center at help.openai.com if you continue to have issues. Please add a payment method to your account to increase your rate limit. Visit https://platform.openai.com/account/billing to add a payment method.\n",
      "{\n",
      "  \"prompt_tokens\": 548,\n",
      "  \"completion_tokens\": 20,\n",
      "  \"total_tokens\": 568\n",
      "}\n",
      "MODEL RESPONSE:\n",
      "['BRUSHING_TEETH', 'LYING', 'SITTING', 'STANDING']\n",
      "---------------------------------------------------------------------------------\n",
      "['Indoor', 'Barbershop', 'NullSpeed', 'Drizzly', 'NotOnPublicTransportationRoute', 'NullHeightVariation', 'MediumAudioLevel']\n",
      "CURRENT:   In the last 4 seconds the user Bob was in an Indoor environment at the Barbershop, where he was not moving, experiencing Drizzly weather, not following/close to a public transportation route, and neither going up nor down.\n",
      "{\n",
      "  \"prompt_tokens\": 560,\n",
      "  \"completion_tokens\": 20,\n",
      "  \"total_tokens\": 580\n",
      "}\n",
      "MODEL RESPONSE:\n",
      "['BRUSHING_TEETH', 'LYING', 'SITTING', 'STANDING']\n",
      "---------------------------------------------------------------------------------\n",
      "['Indoor', 'Mall', 'NullSpeed', 'Sunny', 'NotOnPublicTransportationRoute', 'NullHeightVariation', 'LowAudioLevel']\n",
      "CURRENT:   In the last 4 seconds the user Bob was in an Indoor environment at the Mall, where he was not moving, experiencing Sunny weather, not following/close to a public transportation route, and neither going up nor down.\n",
      "{\n",
      "  \"prompt_tokens\": 547,\n",
      "  \"completion_tokens\": 13,\n",
      "  \"total_tokens\": 560\n",
      "}\n",
      "MODEL RESPONSE:\n",
      "['LYING', 'SITTING', 'STANDING']\n",
      "---------------------------------------------------------------------------------\n",
      "['Outdoor', 'NullSemanticPlace', 'NullSpeed', 'Cloudy', 'OnPublicTransportationRoute', 'NullHeightVariation', 'LowAudioLevel']\n",
      "CURRENT:   In the last 4 seconds the user Bob was in an Outdoor environment, where he was not moving, experiencing Cloudy weather, currently following/close to a public transportation route, and neither going up nor down.\n",
      "{\n",
      "  \"prompt_tokens\": 608,\n",
      "  \"completion_tokens\": 15,\n",
      "  \"total_tokens\": 623\n",
      "}\n",
      "MODEL RESPONSE:\n",
      "['SITTING_ON_TRANSPORT', 'STANDING_ON_TRANSPORT']\n",
      "---------------------------------------------------------------------------------\n",
      "['Outdoor', 'NullSemanticPlace', 'NullSpeed', 'Rainy', 'NotOnPublicTransportationRoute', 'NullHeightVariation', 'MediumAudioLevel']\n",
      "CURRENT:   In the last 4 seconds the user Bob was in an Outdoor environment, where he was not moving, experiencing Rainy weather, not following/close to a public transportation route, and neither going up nor down.\n",
      "{\n",
      "  \"prompt_tokens\": 619,\n",
      "  \"completion_tokens\": 34,\n",
      "  \"total_tokens\": 653\n",
      "}\n",
      "MODEL RESPONSE:\n",
      "['CYCLING', 'MOVING_BY_CAR', 'RUNNING', 'WALKING','SITTING_ON_TRANSPORT', 'STANDING_ON_TRANSPORT']\n",
      "---------------------------------------------------------------------------------\n",
      "['Outdoor', 'NullSemanticPlace', 'NullSpeed', 'Stormy', 'NotOnPublicTransportationRoute', 'NullHeightVariation', 'MediumAudioLevel']\n",
      "CURRENT:   In the last 4 seconds the user Bob was in an Outdoor environment, where he was not moving, experiencing Stormy weather, not following/close to a public transportation route, and neither going up nor down.\n",
      "Rate limit reached for gpt-3.5-turbo in organization org-4ndymWq5kPiY1hNeMTA8zOil on requests per min. Limit: 3 / min. Please try again in 20s. Contact us through our help center at help.openai.com if you continue to have issues. Please add a payment method to your account to increase your rate limit. Visit https://platform.openai.com/account/billing to add a payment method.\n"
     ]
    },
    {
     "ename": "KeyboardInterrupt",
     "evalue": "",
     "output_type": "error",
     "traceback": [
      "\u001B[1;31m---------------------------------------------------------------------------\u001B[0m",
      "\u001B[1;31mRateLimitError\u001B[0m                            Traceback (most recent call last)",
      "File \u001B[1;32m~\\PycharmProjects\\pythonProject1\\open_ai_request_handler.py:35\u001B[0m, in \u001B[0;36mOpenAiRequestHandler.handle_request\u001B[1;34m(self, messages, repetitions, min_include, return_all)\u001B[0m\n\u001B[0;32m     34\u001B[0m \u001B[38;5;28;01mtry\u001B[39;00m:\n\u001B[1;32m---> 35\u001B[0m     response, usage \u001B[38;5;241m=\u001B[39m \u001B[38;5;28;43mself\u001B[39;49m\u001B[38;5;241;43m.\u001B[39;49m\u001B[43mget_completion_from_message\u001B[49m\u001B[43m(\u001B[49m\u001B[43mmessages\u001B[49m\u001B[43m)\u001B[49m\n\u001B[0;32m     36\u001B[0m     \u001B[38;5;28mprint\u001B[39m(\u001B[38;5;124m\"\u001B[39m\u001B[38;5;124mMODEL RESPONSE:\u001B[39m\u001B[38;5;130;01m\\n\u001B[39;00m\u001B[38;5;124m\"\u001B[39m\u001B[38;5;241m+\u001B[39mresponse)\n",
      "File \u001B[1;32m~\\PycharmProjects\\pythonProject1\\open_ai_request_handler.py:15\u001B[0m, in \u001B[0;36mOpenAiRequestHandler.get_completion_from_message\u001B[1;34m(self, messages)\u001B[0m\n\u001B[0;32m     14\u001B[0m \u001B[38;5;28;01mdef\u001B[39;00m \u001B[38;5;21mget_completion_from_message\u001B[39m(\u001B[38;5;28mself\u001B[39m, messages):\n\u001B[1;32m---> 15\u001B[0m     completion \u001B[38;5;241m=\u001B[39m \u001B[43mopenai\u001B[49m\u001B[38;5;241;43m.\u001B[39;49m\u001B[43mChatCompletion\u001B[49m\u001B[38;5;241;43m.\u001B[39;49m\u001B[43mcreate\u001B[49m\u001B[43m(\u001B[49m\n\u001B[0;32m     16\u001B[0m \u001B[43m        \u001B[49m\u001B[43mmodel\u001B[49m\u001B[38;5;241;43m=\u001B[39;49m\u001B[38;5;28;43mself\u001B[39;49m\u001B[38;5;241;43m.\u001B[39;49m\u001B[43mmodel\u001B[49m\u001B[43m,\u001B[49m\n\u001B[0;32m     17\u001B[0m \u001B[43m        \u001B[49m\u001B[43mmessages\u001B[49m\u001B[38;5;241;43m=\u001B[39;49m\u001B[43mmessages\u001B[49m\u001B[43m)\u001B[49m\n\u001B[0;32m     18\u001B[0m     \u001B[38;5;28mprint\u001B[39m(completion\u001B[38;5;241m.\u001B[39musage)\n",
      "File \u001B[1;32m~\\PycharmProjects\\pythonProject1\\venv\\lib\\site-packages\\openai\\api_resources\\chat_completion.py:25\u001B[0m, in \u001B[0;36mChatCompletion.create\u001B[1;34m(cls, *args, **kwargs)\u001B[0m\n\u001B[0;32m     24\u001B[0m \u001B[38;5;28;01mtry\u001B[39;00m:\n\u001B[1;32m---> 25\u001B[0m     \u001B[38;5;28;01mreturn\u001B[39;00m \u001B[38;5;28msuper\u001B[39m()\u001B[38;5;241m.\u001B[39mcreate(\u001B[38;5;241m*\u001B[39margs, \u001B[38;5;241m*\u001B[39m\u001B[38;5;241m*\u001B[39mkwargs)\n\u001B[0;32m     26\u001B[0m \u001B[38;5;28;01mexcept\u001B[39;00m TryAgain \u001B[38;5;28;01mas\u001B[39;00m e:\n",
      "File \u001B[1;32m~\\PycharmProjects\\pythonProject1\\venv\\lib\\site-packages\\openai\\api_resources\\abstract\\engine_api_resource.py:155\u001B[0m, in \u001B[0;36mEngineAPIResource.create\u001B[1;34m(cls, api_key, api_base, api_type, request_id, api_version, organization, **params)\u001B[0m\n\u001B[0;32m    140\u001B[0m (\n\u001B[0;32m    141\u001B[0m     deployment_id,\n\u001B[0;32m    142\u001B[0m     engine,\n\u001B[1;32m   (...)\u001B[0m\n\u001B[0;32m    152\u001B[0m     api_key, api_base, api_type, api_version, organization, \u001B[38;5;241m*\u001B[39m\u001B[38;5;241m*\u001B[39mparams\n\u001B[0;32m    153\u001B[0m )\n\u001B[1;32m--> 155\u001B[0m response, _, api_key \u001B[38;5;241m=\u001B[39m \u001B[43mrequestor\u001B[49m\u001B[38;5;241;43m.\u001B[39;49m\u001B[43mrequest\u001B[49m\u001B[43m(\u001B[49m\n\u001B[0;32m    156\u001B[0m \u001B[43m    \u001B[49m\u001B[38;5;124;43m\"\u001B[39;49m\u001B[38;5;124;43mpost\u001B[39;49m\u001B[38;5;124;43m\"\u001B[39;49m\u001B[43m,\u001B[49m\n\u001B[0;32m    157\u001B[0m \u001B[43m    \u001B[49m\u001B[43murl\u001B[49m\u001B[43m,\u001B[49m\n\u001B[0;32m    158\u001B[0m \u001B[43m    \u001B[49m\u001B[43mparams\u001B[49m\u001B[38;5;241;43m=\u001B[39;49m\u001B[43mparams\u001B[49m\u001B[43m,\u001B[49m\n\u001B[0;32m    159\u001B[0m \u001B[43m    \u001B[49m\u001B[43mheaders\u001B[49m\u001B[38;5;241;43m=\u001B[39;49m\u001B[43mheaders\u001B[49m\u001B[43m,\u001B[49m\n\u001B[0;32m    160\u001B[0m \u001B[43m    \u001B[49m\u001B[43mstream\u001B[49m\u001B[38;5;241;43m=\u001B[39;49m\u001B[43mstream\u001B[49m\u001B[43m,\u001B[49m\n\u001B[0;32m    161\u001B[0m \u001B[43m    \u001B[49m\u001B[43mrequest_id\u001B[49m\u001B[38;5;241;43m=\u001B[39;49m\u001B[43mrequest_id\u001B[49m\u001B[43m,\u001B[49m\n\u001B[0;32m    162\u001B[0m \u001B[43m    \u001B[49m\u001B[43mrequest_timeout\u001B[49m\u001B[38;5;241;43m=\u001B[39;49m\u001B[43mrequest_timeout\u001B[49m\u001B[43m,\u001B[49m\n\u001B[0;32m    163\u001B[0m \u001B[43m\u001B[49m\u001B[43m)\u001B[49m\n\u001B[0;32m    165\u001B[0m \u001B[38;5;28;01mif\u001B[39;00m stream:\n\u001B[0;32m    166\u001B[0m     \u001B[38;5;66;03m# must be an iterator\u001B[39;00m\n",
      "File \u001B[1;32m~\\PycharmProjects\\pythonProject1\\venv\\lib\\site-packages\\openai\\api_requestor.py:299\u001B[0m, in \u001B[0;36mAPIRequestor.request\u001B[1;34m(self, method, url, params, headers, files, stream, request_id, request_timeout)\u001B[0m\n\u001B[0;32m    289\u001B[0m result \u001B[38;5;241m=\u001B[39m \u001B[38;5;28mself\u001B[39m\u001B[38;5;241m.\u001B[39mrequest_raw(\n\u001B[0;32m    290\u001B[0m     method\u001B[38;5;241m.\u001B[39mlower(),\n\u001B[0;32m    291\u001B[0m     url,\n\u001B[1;32m   (...)\u001B[0m\n\u001B[0;32m    297\u001B[0m     request_timeout\u001B[38;5;241m=\u001B[39mrequest_timeout,\n\u001B[0;32m    298\u001B[0m )\n\u001B[1;32m--> 299\u001B[0m resp, got_stream \u001B[38;5;241m=\u001B[39m \u001B[38;5;28;43mself\u001B[39;49m\u001B[38;5;241;43m.\u001B[39;49m\u001B[43m_interpret_response\u001B[49m\u001B[43m(\u001B[49m\u001B[43mresult\u001B[49m\u001B[43m,\u001B[49m\u001B[43m \u001B[49m\u001B[43mstream\u001B[49m\u001B[43m)\u001B[49m\n\u001B[0;32m    300\u001B[0m \u001B[38;5;28;01mreturn\u001B[39;00m resp, got_stream, \u001B[38;5;28mself\u001B[39m\u001B[38;5;241m.\u001B[39mapi_key\n",
      "File \u001B[1;32m~\\PycharmProjects\\pythonProject1\\venv\\lib\\site-packages\\openai\\api_requestor.py:710\u001B[0m, in \u001B[0;36mAPIRequestor._interpret_response\u001B[1;34m(self, result, stream)\u001B[0m\n\u001B[0;32m    708\u001B[0m \u001B[38;5;28;01melse\u001B[39;00m:\n\u001B[0;32m    709\u001B[0m     \u001B[38;5;28;01mreturn\u001B[39;00m (\n\u001B[1;32m--> 710\u001B[0m         \u001B[38;5;28;43mself\u001B[39;49m\u001B[38;5;241;43m.\u001B[39;49m\u001B[43m_interpret_response_line\u001B[49m\u001B[43m(\u001B[49m\n\u001B[0;32m    711\u001B[0m \u001B[43m            \u001B[49m\u001B[43mresult\u001B[49m\u001B[38;5;241;43m.\u001B[39;49m\u001B[43mcontent\u001B[49m\u001B[38;5;241;43m.\u001B[39;49m\u001B[43mdecode\u001B[49m\u001B[43m(\u001B[49m\u001B[38;5;124;43m\"\u001B[39;49m\u001B[38;5;124;43mutf-8\u001B[39;49m\u001B[38;5;124;43m\"\u001B[39;49m\u001B[43m)\u001B[49m\u001B[43m,\u001B[49m\n\u001B[0;32m    712\u001B[0m \u001B[43m            \u001B[49m\u001B[43mresult\u001B[49m\u001B[38;5;241;43m.\u001B[39;49m\u001B[43mstatus_code\u001B[49m\u001B[43m,\u001B[49m\n\u001B[0;32m    713\u001B[0m \u001B[43m            \u001B[49m\u001B[43mresult\u001B[49m\u001B[38;5;241;43m.\u001B[39;49m\u001B[43mheaders\u001B[49m\u001B[43m,\u001B[49m\n\u001B[0;32m    714\u001B[0m \u001B[43m            \u001B[49m\u001B[43mstream\u001B[49m\u001B[38;5;241;43m=\u001B[39;49m\u001B[38;5;28;43;01mFalse\u001B[39;49;00m\u001B[43m,\u001B[49m\n\u001B[0;32m    715\u001B[0m \u001B[43m        \u001B[49m\u001B[43m)\u001B[49m,\n\u001B[0;32m    716\u001B[0m         \u001B[38;5;28;01mFalse\u001B[39;00m,\n\u001B[0;32m    717\u001B[0m     )\n",
      "File \u001B[1;32m~\\PycharmProjects\\pythonProject1\\venv\\lib\\site-packages\\openai\\api_requestor.py:775\u001B[0m, in \u001B[0;36mAPIRequestor._interpret_response_line\u001B[1;34m(self, rbody, rcode, rheaders, stream)\u001B[0m\n\u001B[0;32m    774\u001B[0m \u001B[38;5;28;01mif\u001B[39;00m stream_error \u001B[38;5;129;01mor\u001B[39;00m \u001B[38;5;129;01mnot\u001B[39;00m \u001B[38;5;241m200\u001B[39m \u001B[38;5;241m<\u001B[39m\u001B[38;5;241m=\u001B[39m rcode \u001B[38;5;241m<\u001B[39m \u001B[38;5;241m300\u001B[39m:\n\u001B[1;32m--> 775\u001B[0m     \u001B[38;5;28;01mraise\u001B[39;00m \u001B[38;5;28mself\u001B[39m\u001B[38;5;241m.\u001B[39mhandle_error_response(\n\u001B[0;32m    776\u001B[0m         rbody, rcode, resp\u001B[38;5;241m.\u001B[39mdata, rheaders, stream_error\u001B[38;5;241m=\u001B[39mstream_error\n\u001B[0;32m    777\u001B[0m     )\n\u001B[0;32m    778\u001B[0m \u001B[38;5;28;01mreturn\u001B[39;00m resp\n",
      "\u001B[1;31mRateLimitError\u001B[0m: Rate limit reached for gpt-3.5-turbo in organization org-4ndymWq5kPiY1hNeMTA8zOil on requests per min. Limit: 3 / min. Please try again in 20s. Contact us through our help center at help.openai.com if you continue to have issues. Please add a payment method to your account to increase your rate limit. Visit https://platform.openai.com/account/billing to add a payment method.",
      "\nDuring handling of the above exception, another exception occurred:\n",
      "\u001B[1;31mKeyboardInterrupt\u001B[0m                         Traceback (most recent call last)",
      "Cell \u001B[1;32mIn[12], line 15\u001B[0m\n\u001B[0;32m     13\u001B[0m prompt \u001B[38;5;241m=\u001B[39m prompt_generator\u001B[38;5;241m.\u001B[39mgenerate_prompt(description, most_similar_examples)\n\u001B[0;32m     14\u001B[0m \u001B[38;5;66;03m#print(prompt)\u001B[39;00m\n\u001B[1;32m---> 15\u001B[0m responses, usages \u001B[38;5;241m=\u001B[39m \u001B[43mrequest_handler\u001B[49m\u001B[38;5;241;43m.\u001B[39;49m\u001B[43mhandle_request\u001B[49m\u001B[43m(\u001B[49m\u001B[43mprompt\u001B[49m\u001B[43m,\u001B[49m\u001B[43m \u001B[49m\u001B[43mrepetitions\u001B[49m\u001B[38;5;241;43m=\u001B[39;49m\u001B[38;5;241;43m1\u001B[39;49m\u001B[43m,\u001B[49m\u001B[43m \u001B[49m\u001B[43mreturn_all\u001B[49m\u001B[38;5;241;43m=\u001B[39;49m\u001B[38;5;28;43;01mTrue\u001B[39;49;00m\u001B[43m)\u001B[49m\n\u001B[0;32m     16\u001B[0m \u001B[38;5;66;03m#print(responses)\u001B[39;00m\n\u001B[0;32m     17\u001B[0m all_responses\u001B[38;5;241m.\u001B[39mappend(responses)\n",
      "File \u001B[1;32m~\\PycharmProjects\\pythonProject1\\open_ai_request_handler.py:42\u001B[0m, in \u001B[0;36mOpenAiRequestHandler.handle_request\u001B[1;34m(self, messages, repetitions, min_include, return_all)\u001B[0m\n\u001B[0;32m     40\u001B[0m \u001B[38;5;28;01mexcept\u001B[39;00m \u001B[38;5;167;01mException\u001B[39;00m \u001B[38;5;28;01mas\u001B[39;00m e:\n\u001B[0;32m     41\u001B[0m     \u001B[38;5;28mprint\u001B[39m(e)\n\u001B[1;32m---> 42\u001B[0m     \u001B[43mtime\u001B[49m\u001B[38;5;241;43m.\u001B[39;49m\u001B[43msleep\u001B[49m\u001B[43m(\u001B[49m\u001B[38;5;241;43m55\u001B[39;49m\u001B[43m)\u001B[49m\n\u001B[0;32m     43\u001B[0m     \u001B[38;5;66;03m#print(\"exception\")\u001B[39;00m\n\u001B[0;32m     44\u001B[0m     \u001B[38;5;28;01mcontinue\u001B[39;00m\n",
      "\u001B[1;31mKeyboardInterrupt\u001B[0m: "
     ]
    }
   ],
   "source": [
    "start_time = time.time()\n",
    "all_responses = []\n",
    "all_usages = []\n",
    "i = 0\n",
    "for c, l, o in list(zip(unique_contexts, unique_contexts_labels, unique_contexts_ontology_consistencies)):\n",
    "    i += 1\n",
    "    #print(c)\n",
    "    description = create_context_description(c)\n",
    "    print('CURRENT: ', description)\n",
    "    most_similar_examples = example_manager.get_most_similar_examples(description)\n",
    "    #print('SIMILAR: \\n', most_similar_examples) \n",
    "    #print(description)\n",
    "    prompt = prompt_generator.generate_prompt(description, most_similar_examples)\n",
    "    #print(prompt)\n",
    "    responses, usages = request_handler.handle_request(prompt, repetitions=1, return_all=True)\n",
    "    #print(responses)\n",
    "    all_responses.append(responses)\n",
    "    all_usages.append(usages)\n",
    "    print(\"---------------------------------------------------------------------------------\")\n",
    "print(\"--- %s seconds ---\" % (time.time() - start_time))"
   ]
  },
  {
   "cell_type": "markdown",
   "source": [
    "# Dump data\n",
    "Increment n each time to have different files"
   ],
   "metadata": {
    "collapsed": false
   },
   "id": "3e1211a64bfa7f11"
  },
  {
   "cell_type": "code",
   "execution_count": 12,
   "id": "6f958c1f38567b18",
   "metadata": {
    "ExecuteTime": {
     "end_time": "2023-10-25T08:14:08.035428300Z",
     "start_time": "2023-10-25T08:14:07.999524400Z"
    },
    "collapsed": false
   },
   "outputs": [],
   "source": [
    "n = 1"
   ]
  },
  {
   "cell_type": "markdown",
   "source": [
    "## Dump answers"
   ],
   "metadata": {
    "collapsed": false
   },
   "id": "32779ea0d39528f"
  },
  {
   "cell_type": "code",
   "execution_count": 25,
   "id": "d3d76bd96bb2592f",
   "metadata": {
    "ExecuteTime": {
     "end_time": "2023-10-25T08:14:14.207799500Z",
     "start_time": "2023-10-25T08:14:14.162328900Z"
    },
    "collapsed": false
   },
   "outputs": [],
   "source": [
    "if DATASET == \"DOMINO\":\n",
    "    answers_path = f\"answers/domino/a_{n}.pkl\"\n",
    "elif DATASET == \"EXTRASENSORY\":\n",
    "    answers_path = f\"answers/extrasensory/a_{n}.pkl\"\n",
    "else:\n",
    "    answers_path = None\n",
    "    raise ValueError(\"DATASET name must be 'DOMINO' or 'EXTRASENSORY'\")"
   ]
  },
  {
   "cell_type": "code",
   "execution_count": 26,
   "id": "9757b1633f9d9a6c",
   "metadata": {
    "ExecuteTime": {
     "end_time": "2023-10-25T08:14:14.411763200Z",
     "start_time": "2023-10-25T08:14:14.342645Z"
    },
    "collapsed": false
   },
   "outputs": [],
   "source": [
    "with open(answers_path, \"wb\") as file:\n",
    "    pkl.dump(all_responses, file)"
   ]
  },
  {
   "cell_type": "markdown",
   "source": [
    "# Dump usages"
   ],
   "metadata": {
    "collapsed": false
   },
   "id": "4eeb1de3f4a3aa99"
  },
  {
   "cell_type": "code",
   "execution_count": 32,
   "outputs": [
    {
     "ename": "NameError",
     "evalue": "name 'n' is not defined",
     "output_type": "error",
     "traceback": [
      "\u001B[1;31m---------------------------------------------------------------------------\u001B[0m",
      "\u001B[1;31mNameError\u001B[0m                                 Traceback (most recent call last)",
      "Cell \u001B[1;32mIn[32], line 2\u001B[0m\n\u001B[0;32m      1\u001B[0m \u001B[38;5;28;01mif\u001B[39;00m DATASET \u001B[38;5;241m==\u001B[39m \u001B[38;5;124m\"\u001B[39m\u001B[38;5;124mDOMINO\u001B[39m\u001B[38;5;124m\"\u001B[39m:\n\u001B[1;32m----> 2\u001B[0m     usages_path \u001B[38;5;241m=\u001B[39m \u001B[38;5;124mf\u001B[39m\u001B[38;5;124m\"\u001B[39m\u001B[38;5;124musages/domino/u_\u001B[39m\u001B[38;5;132;01m{\u001B[39;00mn\u001B[38;5;132;01m}\u001B[39;00m\u001B[38;5;124m.pkl\u001B[39m\u001B[38;5;124m\"\u001B[39m\n\u001B[0;32m      3\u001B[0m \u001B[38;5;28;01melif\u001B[39;00m DATASET \u001B[38;5;241m==\u001B[39m \u001B[38;5;124m\"\u001B[39m\u001B[38;5;124mEXTRASENSORY\u001B[39m\u001B[38;5;124m\"\u001B[39m:\n\u001B[0;32m      4\u001B[0m     usages_path \u001B[38;5;241m=\u001B[39m \u001B[38;5;124mf\u001B[39m\u001B[38;5;124m\"\u001B[39m\u001B[38;5;124musages/extrasensory/u_\u001B[39m\u001B[38;5;132;01m{\u001B[39;00mn\u001B[38;5;132;01m}\u001B[39;00m\u001B[38;5;124m.pkl\u001B[39m\u001B[38;5;124m\"\u001B[39m\n",
      "\u001B[1;31mNameError\u001B[0m: name 'n' is not defined"
     ]
    }
   ],
   "source": [
    "if DATASET == \"DOMINO\":\n",
    "    usages_path = f\"usages/domino/u_{n}.pkl\"\n",
    "elif DATASET == \"EXTRASENSORY\":\n",
    "    usages_path = f\"usages/extrasensory/u_{n}.pkl\"\n",
    "else:\n",
    "    usages_path = None\n",
    "    raise ValueError(\"DATASET name must be 'DOMINO' or 'EXTRASENSORY'\")"
   ],
   "metadata": {
    "collapsed": false,
    "ExecuteTime": {
     "end_time": "2023-10-27T08:32:39.703147500Z",
     "start_time": "2023-10-27T08:32:39.537152100Z"
    }
   },
   "id": "3bbcefe82e11f2c1"
  },
  {
   "cell_type": "code",
   "execution_count": null,
   "outputs": [],
   "source": [
    "with open(usages_path, \"wb\") as file:\n",
    "    pkl.dump(all_usages, file)"
   ],
   "metadata": {
    "collapsed": false
   },
   "id": "94230f1055b2f420"
  },
  {
   "cell_type": "markdown",
   "id": "ac524d73909ed0c0",
   "metadata": {
    "collapsed": false
   },
   "source": [
    "# Load answers and ontology"
   ]
  },
  {
   "cell_type": "code",
   "execution_count": 13,
   "id": "444ad2f989868013",
   "metadata": {
    "ExecuteTime": {
     "end_time": "2023-10-25T08:14:57.887047500Z",
     "start_time": "2023-10-25T08:14:57.840201Z"
    },
    "collapsed": false
   },
   "outputs": [],
   "source": [
    "if DATASET == \"DOMINO\":\n",
    "    answers_path = f\"answers/domino/a_{n}.pkl\"\n",
    "elif DATASET == \"EXTRASENSORY\":\n",
    "    answers_path = f\"answers/extrasensory/a_{n}.pkl\"\n",
    "else:\n",
    "    answers_path = None\n",
    "    raise ValueError(\"DATASET name must be 'DOMINO' or 'EXTRASENSORY'\")"
   ]
  },
  {
   "cell_type": "code",
   "execution_count": 14,
   "id": "a6262ec3951d8633",
   "metadata": {
    "ExecuteTime": {
     "end_time": "2023-10-25T08:14:58.103655700Z",
     "start_time": "2023-10-25T08:14:58.054660800Z"
    },
    "collapsed": false
   },
   "outputs": [],
   "source": [
    "if DATASET == \"DOMINO\":\n",
    "    ontology_path = f'datasets/domino/domino_unique_contexts_ontology_consistencies.pkl'\n",
    "elif DATASET == \"EXTRASENSORY\":\n",
    "    ontology_path = f\"datasets/extrasensory/extrasensory_unique_contexts_ontology_consistencies.pkl\"\n",
    "else:\n",
    "    answers_path = None\n",
    "    raise ValueError(\"DATASET name must be 'DOMINO' or 'EXTRASENSORY'\")"
   ]
  },
  {
   "cell_type": "code",
   "execution_count": 16,
   "id": "19bf7c0262f1f635",
   "metadata": {
    "ExecuteTime": {
     "end_time": "2023-10-25T08:14:58.241007400Z",
     "start_time": "2023-10-25T08:14:58.175269300Z"
    },
    "collapsed": false
   },
   "outputs": [],
   "source": [
    "#with open(answers_path, \"rb\") as file:\n",
    "#    all_responses = pkl.load(file)\n",
    "with open(ontology_path, \"rb\") as file:\n",
    "    ontology_consistencies = pkl.load(file)"
   ]
  },
  {
   "cell_type": "markdown",
   "id": "a0f0626f2d25f10d",
   "metadata": {
    "collapsed": false
   },
   "source": [
    "# Compute results"
   ]
  },
  {
   "cell_type": "code",
   "execution_count": 36,
   "id": "ff58772a35144ff6",
   "metadata": {
    "ExecuteTime": {
     "end_time": "2023-10-25T08:14:58.977773800Z",
     "start_time": "2023-10-25T08:14:58.938883600Z"
    },
    "collapsed": false
   },
   "outputs": [],
   "source": [
    "def count_occurrences(activity, list_of_lists):\n",
    "    count = 0\n",
    "    for sublist in list_of_lists:\n",
    "        count += sublist.count(activity)\n",
    "    return count"
   ]
  },
  {
   "cell_type": "code",
   "execution_count": 37,
   "id": "15009cea0c181cb5",
   "metadata": {
    "ExecuteTime": {
     "end_time": "2023-10-25T08:14:59.182227800Z",
     "start_time": "2023-10-25T08:14:59.140339300Z"
    },
    "collapsed": false
   },
   "outputs": [],
   "source": [
    "def get_classes_from_binary_vector(bin_vec):\n",
    "    classes_to_return = []\n",
    "    for v, c in zip(bin_vec, CLASSES):\n",
    "        if v==1:\n",
    "            classes_to_return.append(c)\n",
    "    return classes_to_return"
   ]
  },
  {
   "cell_type": "code",
   "execution_count": 39,
   "id": "293c22886a21f4d0",
   "metadata": {
    "ExecuteTime": {
     "end_time": "2023-10-25T08:15:23.821583600Z",
     "start_time": "2023-10-25T08:15:23.792660400Z"
    },
    "collapsed": false
   },
   "outputs": [],
   "source": [
    "min_count = 1"
   ]
  },
  {
   "cell_type": "code",
   "execution_count": 40,
   "id": "3a373895dff4b6b5",
   "metadata": {
    "ExecuteTime": {
     "end_time": "2023-10-25T08:15:24.280790500Z",
     "start_time": "2023-10-25T08:15:24.247879100Z"
    },
    "collapsed": false
   },
   "outputs": [],
   "source": [
    "preds = []\n",
    "for response in all_responses:\n",
    "    # print(response)\n",
    "    aggregated_response = []\n",
    "    for act in CLASSES:\n",
    "        if count_occurrences(act.lower(), response) >= min_count:\n",
    "            aggregated_response.append(1)\n",
    "        else:\n",
    "            aggregated_response.append(0)\n",
    "    preds.append(aggregated_response)"
   ]
  },
  {
   "cell_type": "code",
   "execution_count": 30,
   "id": "34079bbb6d6c094b",
   "metadata": {
    "ExecuteTime": {
     "end_time": "2023-10-25T08:14:19.327818100Z",
     "start_time": "2023-10-25T08:14:19.297858200Z"
    },
    "collapsed": false
   },
   "outputs": [],
   "source": [
    "print(classification_report(ontology_consistencies, preds, target_names=CLASSES))"
   ]
  },
  {
   "cell_type": "markdown",
   "id": "ab3155628260ca33",
   "metadata": {
    "collapsed": false
   },
   "source": [
    "# Get results for DL"
   ]
  },
  {
   "cell_type": "code",
   "execution_count": 42,
   "id": "791962036abf9730",
   "metadata": {
    "ExecuteTime": {
     "end_time": "2023-10-25T08:17:34.051830Z",
     "start_time": "2023-10-25T08:17:33.987953200Z"
    },
    "collapsed": false
   },
   "outputs": [],
   "source": [
    "#TODO"
   ]
  }
 ],
 "metadata": {
  "kernelspec": {
   "display_name": "Python 3",
   "language": "python",
   "name": "python3"
  },
  "language_info": {
   "codemirror_mode": {
    "name": "ipython",
    "version": 3
   },
   "file_extension": ".py",
   "mimetype": "text/x-python",
   "name": "python",
   "nbconvert_exporter": "python",
   "pygments_lexer": "ipython3",
   "version": "3.9.13"
  }
 },
 "nbformat": 4,
 "nbformat_minor": 5
}
